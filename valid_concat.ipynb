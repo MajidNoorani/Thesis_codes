{
 "cells": [
  {
   "cell_type": "code",
   "execution_count": 1,
   "metadata": {},
   "outputs": [],
   "source": [
    "from natsort import natsorted\n",
    "import os\n",
    "import numpy as np\n",
    "import pickle\n",
    "from sklearn.utils import shuffle\n",
    "import h5py\n",
    "import time"
   ]
  },
  {
   "cell_type": "code",
   "execution_count": 2,
   "metadata": {},
   "outputs": [],
   "source": [
    "data_series = str(4)"
   ]
  },
  {
   "cell_type": "code",
   "execution_count": 3,
   "metadata": {},
   "outputs": [],
   "source": [
    "h5f = h5py.File('TIMIT/Organized/concatenated/Test/Mixed_FF_test' + data_series + '.hdf5','r')\n",
    "FF_mixed_valid = h5f['mixed_FF_test' + data_series][:]\n",
    "h5f.close()\n",
    "\n",
    "h5f = h5py.File('TIMIT/Organized/concatenated/Test/clean_FF_test' + data_series + '.hdf5','r')\n",
    "FF_clean_valid = h5f['clean_FF_test' + data_series][:]\n",
    "h5f.close()\n",
    "\n",
    "h5f = h5py.File('TIMIT/Organized/concatenated/Test/Mixed_MM_test' + data_series + '.hdf5','r')\n",
    "MM_mixed_valid = h5f['mixed_MM_test'  + data_series][:]\n",
    "h5f.close()\n",
    "\n",
    "h5f = h5py.File('TIMIT/Organized/concatenated/Test/clean_MM_test' + data_series + '.hdf5','r')\n",
    "MM_clean_valid = h5f['clean_MM_test'  + data_series][:]\n",
    "h5f.close()\n",
    "\n",
    "h5f = h5py.File('TIMIT/Organized/concatenated/Test/Mixed_FM_test' + data_series + '.hdf5','r')\n",
    "FM_mixed_valid = h5f['mixed_FM_test'  + data_series][:]\n",
    "h5f.close()\n",
    "\n",
    "h5f = h5py.File('TIMIT/Organized/concatenated/Test/clean_FM_test' + data_series + '.hdf5','r')\n",
    "FM_clean_valid = h5f['clean_FM_test'  + data_series][:]\n",
    "h5f.close()"
   ]
  },
  {
   "cell_type": "code",
   "execution_count": 4,
   "metadata": {},
   "outputs": [],
   "source": [
    "valid_mixed = FF_mixed_valid\n",
    "valid_mixed = np.concatenate((valid_mixed, MM_mixed_valid), axis=0)\n",
    "valid_mixed = np.concatenate((valid_mixed, FM_mixed_valid), axis=0)"
   ]
  },
  {
   "cell_type": "code",
   "execution_count": 5,
   "metadata": {},
   "outputs": [],
   "source": [
    "valid_clean = FF_clean_valid\n",
    "valid_clean = np.concatenate((valid_clean, MM_clean_valid), axis=0)\n",
    "valid_clean = np.concatenate((valid_clean, FM_clean_valid), axis=0)"
   ]
  },
  {
   "cell_type": "code",
   "execution_count": 6,
   "metadata": {},
   "outputs": [],
   "source": [
    "with h5py.File('TIMIT/Organized/concatenated/valid_mixed' + data_series + '.hdf5', \"w\") as f:\n",
    "    dset = f.create_dataset('valid_mixed' + data_series, data=valid_mixed)"
   ]
  },
  {
   "cell_type": "code",
   "execution_count": 7,
   "metadata": {},
   "outputs": [],
   "source": [
    "with h5py.File('TIMIT/Organized/concatenated/valid_clean' + data_series + '.hdf5', \"w\") as f:\n",
    "    dset = f.create_dataset('valid_clean' + data_series, data=valid_clean)"
   ]
  },
  {
   "cell_type": "code",
   "execution_count": null,
   "metadata": {},
   "outputs": [],
   "source": []
  }
 ],
 "metadata": {
  "kernelspec": {
   "display_name": "Python 3",
   "language": "python",
   "name": "python3"
  },
  "language_info": {
   "codemirror_mode": {
    "name": "ipython",
    "version": 3
   },
   "file_extension": ".py",
   "mimetype": "text/x-python",
   "name": "python",
   "nbconvert_exporter": "python",
   "pygments_lexer": "ipython3",
   "version": "3.6.8"
  }
 },
 "nbformat": 4,
 "nbformat_minor": 2
}
