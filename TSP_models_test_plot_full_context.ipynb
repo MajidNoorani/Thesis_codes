{
 "cells": [
  {
   "cell_type": "code",
   "execution_count": 50,
   "metadata": {},
   "outputs": [],
   "source": [
    "#import libraries.\n",
    "import numpy as np\n",
    "# from tensorflow.keras.models import Sequential\n",
    "# from tensorflow.keras.layers import Dense\n",
    "from tensorflow.python.keras.utils.data_utils import Sequence\n",
    "from keras.models import Sequential\n",
    "from keras.layers import Dense\n",
    "from keras.wrappers.scikit_learn import KerasRegressor\n",
    "import keras\n",
    "from keras import regularizers\n",
    "import sklearn\n",
    "from sklearn.model_selection import cross_val_score\n",
    "from sklearn.model_selection import KFold\n",
    "from sklearn.preprocessing import StandardScaler\n",
    "from sklearn.pipeline import Pipeline\n",
    "from sklearn.metrics import mean_squared_error\n",
    "import sounddevice as sd\n",
    "import tensorflow as tf\n",
    "from mir_eval import separation \n",
    "from pystoi.stoi import stoi \n",
    "import h5py\n",
    "from keras.callbacks import LearningRateScheduler\n",
    "from keras.layers.normalization import BatchNormalization\n",
    "from keras.layers import Activation\n",
    "import math\n",
    "from sklearn.utils import shuffle\n",
    "from sklearn import preprocessing\n",
    "import soundfile as sf\n",
    "import matplotlib.pyplot as plt\n"
   ]
  },
  {
   "cell_type": "code",
   "execution_count": 51,
   "metadata": {},
   "outputs": [],
   "source": [
    "#import libraries.\n",
    "# import matplotlib.pyplot as plt\n",
    "# from tabulate import tabulate\n",
    "import time\n",
    "import os\n",
    "import librosa\n",
    "from librosa.core import stft, istft\n",
    "import time\n",
    "import pickle\n",
    "from keras import backend as K\n",
    "from tensorflow.keras.models import load_model\n",
    "# from keras.models import load_model"
   ]
  },
  {
   "cell_type": "code",
   "execution_count": 52,
   "metadata": {},
   "outputs": [],
   "source": [
    "def reconstruct(wave,angle):\n",
    "    recon1 = wave*np.cos(angle)+wave*np.sin(angle)*1j\n",
    "#     recon = np.sqrt(np.power(10, wave))\n",
    "#     recon1 = recon*np.cos(angle)+recon*np.sin(angle)*1j\n",
    "    recon = librosa.core.istft((recon1.T), hop_length=512, win_length=2048, window='hann')\n",
    "    return recon"
   ]
  },
  {
   "cell_type": "markdown",
   "metadata": {},
   "source": [
    "# Loading Model"
   ]
  },
  {
   "cell_type": "code",
   "execution_count": 53,
   "metadata": {},
   "outputs": [],
   "source": [
    "estimator_A = load_model('Models/Two_stage/July8/saved-model-adam-046-0.0357.hdf5')\n",
    "name0 = 'C_cotext_SDR_Full_norm'\n",
    "name1 = 'C_context_STOI_Full_norm'"
   ]
  },
  {
   "cell_type": "code",
   "execution_count": 54,
   "metadata": {},
   "outputs": [],
   "source": [
    "data_series = str(1)"
   ]
  },
  {
   "cell_type": "code",
   "execution_count": 55,
   "metadata": {},
   "outputs": [
    {
     "name": "stdout",
     "output_type": "stream",
     "text": [
      "(1025, 21675)\n"
     ]
    }
   ],
   "source": [
    "h5f = h5py.File('TSP/Organized/concatenated/Test_TSP_mixed_FFT'  + data_series + '.hdf5','r')\n",
    "data_shape = h5f['Test_TSP_mixed_FFT' + data_series].shape\n",
    "print(data_shape)\n",
    "h5f.close()"
   ]
  },
  {
   "cell_type": "markdown",
   "metadata": {},
   "source": [
    "# Data "
   ]
  },
  {
   "cell_type": "code",
   "execution_count": 70,
   "metadata": {},
   "outputs": [
    {
     "name": "stdout",
     "output_type": "stream",
     "text": [
      "[    0   180   397   614   848  1026  1243  1407  1585  1765  1993  2191\n",
      "  2382  2546  2744  2978  3211  3439  3617  3862  4097  4275  4439  4630\n",
      "  4863  5061  5241  5458  5622  5802  5980  6158  6349  6513  6704  6895\n",
      "  7059  7247  7427  7607  7787  7994  8212  8419  8612  8800  8988  9181\n",
      "  9374  9587  9780  9978 10185 10398 10578 10812 11030 11218 11416 11596\n",
      " 11814 12027 12220 12418 12636 12824 13037 13217 13465 13693 13891 14098\n",
      " 14331 14548 14776 14954 15132 15323 15551 15768 15932 16096 16287 16478\n",
      " 16713 16904 17139 17330 17547 17725 17962 18140 18357 18574 18815 19050\n",
      " 19285 19530 19694 19858 20075 20310 20488 20679 20857 21021 21185 21430\n",
      " 21675]\n"
     ]
    }
   ],
   "source": [
    "a = h5py.File('TSP/Organized/concatenated/test_all_len'  + data_series + '.hdf5','r')\n",
    "all_len = a['test_all_len'][:]\n",
    "print(all_len)\n",
    "a.close()"
   ]
  },
  {
   "cell_type": "code",
   "execution_count": 56,
   "metadata": {},
   "outputs": [],
   "source": [
    "# all\n",
    "test_point_start0 = 0\n",
    "test_point_stop0 = data_shape[1]"
   ]
  },
  {
   "cell_type": "code",
   "execution_count": 57,
   "metadata": {},
   "outputs": [],
   "source": [
    "# FM\n",
    "FM_test_point_start0 =  0\n",
    "FM_test_point_stop0 = all_len[36]"
   ]
  },
  {
   "cell_type": "code",
   "execution_count": 58,
   "metadata": {},
   "outputs": [],
   "source": [
    "# FF\n",
    "FF_test_point_start0 =  all_len[36]+1\n",
    "FF_test_point_stop0 = all_len[72]"
   ]
  },
  {
   "cell_type": "code",
   "execution_count": 59,
   "metadata": {},
   "outputs": [],
   "source": [
    "# MM\n",
    "MM_test_point_start0 =  all_len[72] + 1\n",
    "MM_test_point_stop0 = data_shape[1]"
   ]
  },
  {
   "cell_type": "code",
   "execution_count": 60,
   "metadata": {},
   "outputs": [],
   "source": [
    "indx = [test_point_start0, test_point_stop0, FM_test_point_start0, FM_test_point_stop0, FF_test_point_start0, \n",
    "        FF_test_point_stop0, MM_test_point_start0, MM_test_point_stop0]"
   ]
  },
  {
   "cell_type": "code",
   "execution_count": 61,
   "metadata": {},
   "outputs": [
    {
     "name": "stdout",
     "output_type": "stream",
     "text": [
      "(1025, 21675)\n"
     ]
    }
   ],
   "source": [
    "h5f = h5py.File('TSP/Organized/concatenated/Test_TSP_mixed_FFT'  + data_series + '.hdf5','r')\n",
    "test_input = h5f['Test_TSP_mixed_FFT' + data_series][:, test_point_start0 : test_point_stop0]\n",
    "print(test_input.shape)\n",
    "h5f.close()"
   ]
  },
  {
   "cell_type": "code",
   "execution_count": 62,
   "metadata": {},
   "outputs": [],
   "source": [
    "norms = np.zeros(test_input.shape[1])\n",
    "for i in range(test_input.shape[1]):\n",
    "    norms[i] = np.linalg.norm(test_input[:,i])"
   ]
  },
  {
   "cell_type": "code",
   "execution_count": 63,
   "metadata": {},
   "outputs": [],
   "source": [
    "fft_samples = 1025"
   ]
  },
  {
   "cell_type": "code",
   "execution_count": 64,
   "metadata": {},
   "outputs": [],
   "source": [
    "test_input = preprocessing.normalize(test_input, norm='l2', axis=0, copy=True)"
   ]
  },
  {
   "cell_type": "code",
   "execution_count": 65,
   "metadata": {},
   "outputs": [],
   "source": [
    "prediction = estimator_A.predict(test_input.T)"
   ]
  },
  {
   "cell_type": "code",
   "execution_count": 66,
   "metadata": {},
   "outputs": [],
   "source": [
    "test_input = np.multiply(test_input,norms)"
   ]
  },
  {
   "cell_type": "code",
   "execution_count": 67,
   "metadata": {},
   "outputs": [],
   "source": [
    "prediction[:,0:fft_samples] = np.multiply(test_input.T, prediction[:,0:fft_samples])"
   ]
  },
  {
   "cell_type": "code",
   "execution_count": 68,
   "metadata": {},
   "outputs": [],
   "source": [
    "prediction[:,fft_samples:] = np.multiply(test_input.T, prediction[:,fft_samples:])"
   ]
  },
  {
   "cell_type": "code",
   "execution_count": 69,
   "metadata": {},
   "outputs": [
    {
     "data": {
      "text/plain": [
       "(21675, 2050)"
      ]
     },
     "execution_count": 69,
     "metadata": {},
     "output_type": "execute_result"
    }
   ],
   "source": [
    "prediction.shape"
   ]
  },
  {
   "cell_type": "code",
   "execution_count": 90,
   "metadata": {},
   "outputs": [],
   "source": [
    "# norms of the predicted data\n",
    "norms0 = np.zeros((prediction[:,0:fft_samples].shape[0],1))\n",
    "for i in range(prediction[:,0:fft_samples].shape[0]):\n",
    "    norms0[i] = np.linalg.norm(prediction[i,0:fft_samples])\n",
    "    \n",
    "\n",
    "norms1 = np.zeros((prediction[:,fft_samples:].shape[0],1))\n",
    "for i in range(prediction[:,fft_samples:].shape[0]):\n",
    "    norms1[i] = np.linalg.norm(prediction[i,fft_samples:])"
   ]
  },
  {
   "cell_type": "code",
   "execution_count": null,
   "metadata": {},
   "outputs": [],
   "source": []
  },
  {
   "cell_type": "code",
   "execution_count": 72,
   "metadata": {},
   "outputs": [],
   "source": [
    "flag = np.asarray(all_len)"
   ]
  },
  {
   "cell_type": "code",
   "execution_count": 73,
   "metadata": {},
   "outputs": [],
   "source": [
    "window_size = 2\n",
    "r = []\n",
    "r0 = []\n",
    "r1 = []\n",
    "for I in range(len(flag)-1):\n",
    "    \n",
    "    temp0 = prediction[flag[I]:flag[I+1],0:fft_samples]\n",
    "    temp0 = preprocessing.normalize(temp0, norm='l2', axis=0, copy=True)\n",
    "    temp0 = np.concatenate((temp0,np.repeat(np.reshape(temp0[-1,:],(1,temp0.shape[1])),[window_size],axis=0)), axis=0)\n",
    "    temp0 = np.concatenate((np.repeat(np.reshape(temp0[0,:],(1,temp0.shape[1])),[window_size],axis=0),temp0), axis=0)\n",
    "    \n",
    "    for i in range(0,temp0.shape[0]-2*window_size):\n",
    "        r0.append(np.ndarray.flatten(temp0[i:i+window_size*2+1,:]))\n",
    "\n",
    "    \n",
    "    temp1 = prediction[flag[I]:flag[I+1],fft_samples:]\n",
    "    temp1 = preprocessing.normalize(temp1, norm='l2', axis=0, copy=True)\n",
    "    temp1 = np.concatenate((temp1,np.repeat(np.reshape(temp1[-1,:],(1,temp1.shape[1])),[window_size],axis=0)), axis=0)\n",
    "    temp1 = np.concatenate((np.repeat(np.reshape(temp1[0,:],(1,temp1.shape[1])),[window_size],axis=0),temp1), axis=0)\n",
    "    \n",
    "    for i in range(0,temp1.shape[0]-2*window_size):\n",
    "        r1.append(np.ndarray.flatten(temp1[i:i+window_size*2+1,:]))\n",
    "\n",
    "#     print(np.asarray(r0).shape)\n",
    "#     print(np.asarray(r1).shape)\n",
    "    r = np.concatenate((np.asarray(r0),np.asarray(r1)),axis=1)\n",
    "#     print(r.shape)"
   ]
  },
  {
   "cell_type": "code",
   "execution_count": 74,
   "metadata": {},
   "outputs": [
    {
     "data": {
      "text/plain": [
       "(21675, 10250)"
      ]
     },
     "execution_count": 74,
     "metadata": {},
     "output_type": "execute_result"
    }
   ],
   "source": [
    "r.shape"
   ]
  },
  {
   "cell_type": "code",
   "execution_count": null,
   "metadata": {},
   "outputs": [],
   "source": []
  },
  {
   "cell_type": "code",
   "execution_count": 75,
   "metadata": {},
   "outputs": [],
   "source": [
    "def loss_DNNC(y_true, y_pred, Lambda = 0.1):\n",
    "    loss = K.sum(K.square(y_true - y_pred)) \n",
    "    - Lambda * (K.sum(K.square(y_true[0:fft_samples,:] - y_pred[fft_samples:,:])) + K.sum(K.square(y_true[fft_samples:,:] - y_pred[0:fft_samples,:])))\n",
    "    return loss"
   ]
  },
  {
   "cell_type": "code",
   "execution_count": 76,
   "metadata": {},
   "outputs": [],
   "source": [
    "estimator_C = load_model('Models/Two_stage/C_context/saved-model-adam-018-282564.0679.hdf5', \n",
    "                          custom_objects={'loss_DNNC': loss_DNNC})"
   ]
  },
  {
   "cell_type": "code",
   "execution_count": 94,
   "metadata": {},
   "outputs": [
    {
     "name": "stdout",
     "output_type": "stream",
     "text": [
      "(21675, 2050)\n",
      "(7070, 2050)\n",
      "(7270, 2050)\n",
      "(7335, 2050)\n"
     ]
    }
   ],
   "source": [
    "all_sdr = {}\n",
    "all_stoi = {}\n",
    "fft_samples = 1025\n",
    "for i in range(0,len(indx),2):\n",
    "    test_point_start0 = indx[i]\n",
    "    test_point_stop0 = indx[i+1]\n",
    "    test_input = r[test_point_start0 : test_point_stop0,:]\n",
    "    h5f = h5py.File('TSP/Organized/concatenated/Test_TSP_clean_FFTs'  + data_series + '.hdf5','r')\n",
    "    test_target = h5f['Test_TSP_clean_FFTs' + data_series][:, test_point_start0 : test_point_stop0]\n",
    "    h5f = h5py.File('TSP/Organized/concatenated/Test_TSP_mixed_phase'  + data_series + '.hdf5','r')\n",
    "    mixed_phase = h5f['Test_TSP_mixed_phase' + data_series][:, test_point_start0 : test_point_stop0]\n",
    "    h5f = h5py.File('TSP/Organized/concatenated/Test_TSP_clean_phases'  + data_series + '.hdf5','r')\n",
    "    clean_phase = h5f['Test_TSP_clean_phases' + data_series][:, test_point_start0 : test_point_stop0]\n",
    "#     norms = np.zeros(test_input.shape[1])\n",
    "#     for j in range(test_input.shape[1]):\n",
    "#         norms[j] = np.linalg.norm(test_input[:,j])\n",
    "#     test_input = preprocessing.normalize(test_input, norm='l2', axis=1, copy=True)\n",
    "    prediction2 = estimator_C.predict(test_input)\n",
    "    print(prediction2.shape)\n",
    "    prediction2[:,0:fft_samples] = np.multiply(prediction2[:,0:fft_samples],norms0[test_point_start0:test_point_stop0])\n",
    "    prediction2[:,fft_samples:] = np.multiply(prediction2[:,fft_samples:],norms1[test_point_start0:test_point_stop0])\n",
    "    speaker1 = reconstruct(prediction2[:,0:1025], mixed_phase.T)\n",
    "    speaker2 = reconstruct(prediction2[:,1025:], mixed_phase.T)\n",
    "    clean_recon1 = reconstruct(test_target[0:fft_samples,:].T, clean_phase[0:fft_samples,:].T)\n",
    "    clean_recon2 = reconstruct(test_target[fft_samples:,:].T, clean_phase[fft_samples:,:].T)\n",
    "    h5f = h5py.File('TSP/Organized/concatenated/Test_TSP_mixed_FFT'  + data_series + '.hdf5','r')\n",
    "    test_input0 = h5f['Test_TSP_mixed_FFT' + data_series][:, test_point_start0 : test_point_stop0]\n",
    "    mixed_recon = reconstruct(test_input0.T, mixed_phase.T)\n",
    "    \n",
    "    st_recon1 = stoi(speaker1, clean_recon1, 48000, extended=False)\n",
    "    st_recon2 = stoi(speaker2, clean_recon2, 48000, extended=False)\n",
    "    st_mixed1 = stoi(mixed_recon, clean_recon1, 48000, extended=False)\n",
    "    st_mixed2 = stoi(mixed_recon, clean_recon2, 48000, extended=False)\n",
    "    \n",
    "    sdr_recon1, sir_recon1, sar_recon1, perm_recon1 = separation.bss_eval_sources(speaker1, clean_recon1, compute_permutation=True)\n",
    "    sdr_recon2, sir_recon2, sar_recon2, perm_recon2 = separation.bss_eval_sources(speaker2, clean_recon2, compute_permutation=True)\n",
    "    sdr_mixed1, sir_mixed1, sar_mixed1, perm_mixed1 = separation.bss_eval_sources(mixed_recon, clean_recon1, compute_permutation=True)\n",
    "    sdr_mixed2, sir_mixed2, sar_mixed2, perm_mixed2 = separation.bss_eval_sources(mixed_recon, clean_recon2, compute_permutation=True)\n",
    "    \n",
    "    temp_sdr = [sdr_mixed1, sdr_recon1, sdr_mixed2, sdr_recon2]\n",
    "    temp_stoi = [st_mixed1, st_recon1,  st_mixed2, st_recon2]\n",
    "    \n",
    "    all_sdr[str(i/2)] = temp_sdr\n",
    "    all_stoi[str(i/2)] = temp_stoi"
   ]
  },
  {
   "cell_type": "code",
   "execution_count": 132,
   "metadata": {},
   "outputs": [],
   "source": [
    "\n",
    "start = all_len[72]\n",
    "stop = all_len[73]\n",
    "h5f = h5py.File('TSP/Organized/concatenated/Test_TSP_clean_FFTs'  + data_series + '.hdf5','r')\n",
    "aa = h5f['Test_TSP_clean_FFTs' + data_series][:, start : stop]\n",
    "h5f = h5py.File('TSP/Organized/concatenated/Test_TSP_clean_phases'  + data_series + '.hdf5','r')\n",
    "bb = h5f['Test_TSP_clean_phases' + data_series][:, start : stop]\n",
    "clean_recon1 = reconstruct(aa[0:fft_samples,:].T, bb[0:fft_samples,:].T)\n",
    "clean_recon2 = reconstruct(aa[fft_samples:,:].T, bb[fft_samples:,:].T)"
   ]
  },
  {
   "cell_type": "code",
   "execution_count": 133,
   "metadata": {},
   "outputs": [
    {
     "data": {
      "text/plain": [
       "(110592,)"
      ]
     },
     "execution_count": 133,
     "metadata": {},
     "output_type": "execute_result"
    }
   ],
   "source": [
    "clean_recon1.shape"
   ]
  },
  {
   "cell_type": "code",
   "execution_count": 134,
   "metadata": {},
   "outputs": [],
   "source": [
    "sd.play(clean_recon1, 48000)"
   ]
  },
  {
   "cell_type": "code",
   "execution_count": 135,
   "metadata": {},
   "outputs": [],
   "source": [
    "sd.play(clean_recon2, 48000)"
   ]
  },
  {
   "cell_type": "code",
   "execution_count": 27,
   "metadata": {},
   "outputs": [
    {
     "data": {
      "text/plain": [
       "{'0.0': [array([1.36287575]),\n",
       "  array([-7.49189556]),\n",
       "  array([-0.16239165]),\n",
       "  array([-6.1540122])],\n",
       " '1.0': [array([5.23270999]),\n",
       "  array([-6.64393735]),\n",
       "  array([-3.67159531]),\n",
       "  array([-5.83893842])],\n",
       " '2.0': [array([-0.03704144]),\n",
       "  array([-7.55219281]),\n",
       "  array([1.9715853]),\n",
       "  array([-5.22429846])],\n",
       " '3.0': [array([0.81877616]),\n",
       "  array([-6.32299534]),\n",
       "  array([0.07468489]),\n",
       "  array([-5.92893327])]}"
      ]
     },
     "execution_count": 27,
     "metadata": {},
     "output_type": "execute_result"
    }
   ],
   "source": [
    "all_sdr"
   ]
  },
  {
   "cell_type": "code",
   "execution_count": 95,
   "metadata": {},
   "outputs": [
    {
     "data": {
      "image/png": "[encoded data removed]",
      "text/plain": [
       "<Figure size 432x288 with 1 Axes>"
      ]
     },
     "metadata": {
      "needs_background": "light"
     },
     "output_type": "display_data"
    }
   ],
   "source": [
    "\n",
    "barWidth = 2\n",
    "\n",
    "bars0 = ('S1_mixed','S1_clean', 'S2_mixed', 'S2_clean')\n",
    "bars1 = ('F_mixed','F_clean', 'M_mixed', 'M_clean')\n",
    "bars2 = ('F1_mixed','F1_clean', 'F2_mixed', 'F2_clean')\n",
    "bars3 = ('M1_mixed','M1_clean', 'M2_mixed', 'M2_clean')\n",
    "\n",
    "x_pos0 = np.arange(len(bars0)) + barWidth\n",
    "x_pos1 = np.arange(len(bars1)) + len(bars0) + barWidth\n",
    "x_pos2 = np.arange(len(bars2)) + len(bars0) + len(bars1) + barWidth\n",
    "x_pos3 = np.arange(len(bars3)) + len(bars0) + len(bars1) + len(bars2) + barWidth\n",
    "x_pos = list(x_pos0) + list(x_pos1) + list(x_pos2) + list(x_pos3)\n",
    "\n",
    " \n",
    "# Create bars\n",
    "plt.bar(x_pos0, np.squeeze(all_sdr['0.0']),color = (0.3,0.1,0.4,0.6), label='All')\n",
    "plt.bar(x_pos1, np.squeeze(all_sdr['1.0']),color = (0.3,0.5,0.4,0.6), label='FM')\n",
    "plt.bar(x_pos2, np.squeeze(all_sdr['2.0']),color = (0.6,0.8,0.1,0.9), label='FF')\n",
    "plt.bar(x_pos3, np.squeeze(all_sdr['3.0']),color = (0.2,0.2,0.4,0.6), label='MM')\n",
    "\n",
    "# Create legend\n",
    "plt.legend()\n",
    "\n",
    "# write the values\n",
    "values =  list(np.round(np.squeeze(all_sdr['0.0']),3)) + list(np.round(np.squeeze(all_sdr['1.0']),3)) + list(np.round(np.squeeze(all_sdr['2.0']),3)) + list(np.round(np.squeeze(all_sdr['3.0']),3))\n",
    "for i, v in enumerate(values):\n",
    "    plt.text(i + barWidth - 0.2, 1.3 , str(v), color='black', fontsize=10, rotation=90)\n",
    "\n",
    "# lables\n",
    "plt.title(name0)\n",
    "# ax.t_xlabel()\n",
    "plt.ylabel('SDR')\n",
    "# Create names on the x-axis\n",
    "plt.xticks([r + barWidth for r in range(len(x_pos))], \n",
    "           ['S1_mixed','S1_clean', 'S2_mixed', 'S2_clean',\n",
    "            'F_mixed','F_clean', 'M_mixed', 'M_clean',\n",
    "            'F1_mixed','F1_clean', 'F2_mixed', 'F2_clean',\n",
    "            'M1_mixed','M1_clean', 'M2_mixed', 'M2_clean'\n",
    "            ], rotation=90)\n",
    "fig1 = plt.gcf()\n",
    "plt.show()\n",
    "fig1.savefig('figures/' + name0 + '.png', dpi=300 , bbox_inches='tight')\n",
    "\n"
   ]
  },
  {
   "cell_type": "code",
   "execution_count": 96,
   "metadata": {},
   "outputs": [
    {
     "data": {
      "image/png": "[encoded data removed]",
      "text/plain": [
       "<Figure size 432x288 with 1 Axes>"
      ]
     },
     "metadata": {
      "needs_background": "light"
     },
     "output_type": "display_data"
    }
   ],
   "source": [
    "\n",
    "barWidth = 2\n",
    "\n",
    "bars0 = ('S1_mixed','S1_clean', 'S2_mixed', 'S2_clean')\n",
    "bars1 = ('F_mixed','F_clean', 'M_mixed', 'M_clean')\n",
    "bars2 = ('F1_mixed','F1_clean', 'F2_mixed', 'F2_clean')\n",
    "bars3 = ('M1_mixed','M1_clean', 'M2_mixed', 'M2_clean')\n",
    "\n",
    "x_pos0 = np.arange(len(bars0)) + barWidth\n",
    "x_pos1 = np.arange(len(bars1)) + len(bars0) + barWidth\n",
    "x_pos2 = np.arange(len(bars2)) + len(bars0) + len(bars1) + barWidth\n",
    "x_pos3 = np.arange(len(bars3)) + len(bars0) + len(bars1) + len(bars2) + barWidth\n",
    "x_pos = list(x_pos0) + list(x_pos1) + list(x_pos2) + list(x_pos3)\n",
    "\n",
    " \n",
    "# Create bars\n",
    "plt.bar(x_pos0, np.squeeze(all_stoi['0.0']),color = (0.3,0.1,0.4,0.6), label='All')\n",
    "plt.bar(x_pos1, np.squeeze(all_stoi['1.0']),color = (0.3,0.5,0.4,0.6), label='FM')\n",
    "plt.bar(x_pos2, np.squeeze(all_stoi['2.0']),color = (0.6,0.8,0.1,0.9), label='FF')\n",
    "plt.bar(x_pos3, np.squeeze(all_stoi['3.0']),color = (0.2,0.2,0.4,0.6), label='MM')\n",
    "\n",
    "# Create legend\n",
    "plt.legend()\n",
    "\n",
    "# write the values\n",
    "values =  list(np.round(np.squeeze(all_stoi['0.0']),3)) + list(np.round(np.squeeze(all_stoi['1.0']),3)) + list(np.round(np.squeeze(all_stoi['2.0']),3)) + list(np.round(np.squeeze(all_stoi['3.0']),3))\n",
    "for i, v in enumerate(values):\n",
    "    plt.text(i + barWidth - 0.2, 0.1 , str(v), color='black', fontsize=10, rotation=90)\n",
    "\n",
    "# lables\n",
    "plt.title(name1)\n",
    "# ax.t_xlabel()\n",
    "plt.ylabel('STOI')\n",
    "# Create names on the x-axis\n",
    "plt.xticks([r + barWidth for r in range(len(x_pos))], \n",
    "           ['S1_mixed','S1_clean', 'S2_mixed', 'S2_clean',\n",
    "            'F_mixed','F_clean', 'M_mixed', 'M_clean',\n",
    "            'F1_mixed','F1_clean', 'F2_mixed', 'F2_clean',\n",
    "            'M1_mixed','M1_clean', 'M2_mixed', 'M2_clean'\n",
    "            ], rotation=90)\n",
    "fig2 = plt.gcf()\n",
    "plt.show()\n",
    "fig2.savefig('figures/' + name1 + '.png', dpi=300 , bbox_inches='tight')\n",
    "\n"
   ]
  },
  {
   "cell_type": "code",
   "execution_count": 99,
   "metadata": {},
   "outputs": [],
   "source": [
    "sd.play(clean_recon1[0:1000000], 48000)"
   ]
  },
  {
   "cell_type": "code",
   "execution_count": null,
   "metadata": {},
   "outputs": [],
   "source": []
  },
  {
   "cell_type": "code",
   "execution_count": null,
   "metadata": {},
   "outputs": [],
   "source": []
  },
  {
   "cell_type": "code",
   "execution_count": 25,
   "metadata": {},
   "outputs": [
    {
     "name": "stdout",
     "output_type": "stream",
     "text": [
      "STOI_recon1= 0.7484800260927625\n",
      "STOI_recon2= 0.6617332535895908\n",
      "STOI_mixed1= 0.6283168544837595\n",
      "STOI_mixed2= 0.5435481313152923\n"
     ]
    }
   ],
   "source": [
    "print('STOI_recon1=', st_recon1)\n",
    "print('STOI_recon2=', st_recon2)\n",
    "print('STOI_mixed1=', st_mixed1)\n",
    "print('STOI_mixed2=', st_mixed2)"
   ]
  },
  {
   "cell_type": "code",
   "execution_count": 26,
   "metadata": {},
   "outputs": [],
   "source": [
    "sdr_recon1, sir_recon1, sar_recon1, perm_recon1 = separation.bss_eval_sources(speaker1, clean_recon1, compute_permutation=True)\n",
    "sdr_recon2, sir_recon2, sar_recon2, perm_recon2 = separation.bss_eval_sources(speaker2, clean_recon2, compute_permutation=True)"
   ]
  },
  {
   "cell_type": "code",
   "execution_count": 27,
   "metadata": {},
   "outputs": [],
   "source": [
    "sdr_mixed1, sir_mixed1, sar_mixed1, perm_mixed1 = separation.bss_eval_sources(mixed_recon, clean_recon1, compute_permutation=True)\n",
    "sdr_mixed2, sir_mixed2, sar_mixed2, perm_mixed2 = separation.bss_eval_sources(mixed_recon, clean_recon2, compute_permutation=True)"
   ]
  },
  {
   "cell_type": "code",
   "execution_count": 28,
   "metadata": {},
   "outputs": [
    {
     "name": "stdout",
     "output_type": "stream",
     "text": [
      "SDR_recon1= [5.61239878]\n",
      "SDR_recon2= [4.72275549]\n",
      "SDR_mixed1= [1.36286961]\n",
      "SDR_mixed2= [-0.16238854]\n"
     ]
    }
   ],
   "source": [
    "print('SDR_recon1=', sdr_recon1)\n",
    "print('SDR_recon2=', sdr_recon2)\n",
    "print('SDR_mixed1=', sdr_mixed1)\n",
    "print('SDR_mixed2=', sdr_mixed2)"
   ]
  },
  {
   "cell_type": "code",
   "execution_count": 249,
   "metadata": {},
   "outputs": [
    {
     "name": "stdout",
     "output_type": "stream",
     "text": [
      "SIR_recon1= [inf]\n",
      "SIR_recon2= [inf]\n",
      "SIR_mixed1= [inf]\n",
      "SIR_mixed2= [inf]\n"
     ]
    }
   ],
   "source": [
    "print('SIR_recon1=', sir_recon1)\n",
    "print('SIR_recon2=', sir_recon2)\n",
    "print('SIR_mixed1=', sir_mixed1)\n",
    "print('SIR_mixed2=', sir_mixed2)"
   ]
  },
  {
   "cell_type": "code",
   "execution_count": 30,
   "metadata": {},
   "outputs": [],
   "source": [
    "sd.play(speaker1[0:500000], 48000)"
   ]
  },
  {
   "cell_type": "code",
   "execution_count": 41,
   "metadata": {},
   "outputs": [],
   "source": [
    "sd.play(speaker2[0:500000], 48000)"
   ]
  },
  {
   "cell_type": "code",
   "execution_count": 36,
   "metadata": {},
   "outputs": [],
   "source": [
    "sd.play(clean_recon1[0:500000], 48000)"
   ]
  },
  {
   "cell_type": "code",
   "execution_count": 42,
   "metadata": {},
   "outputs": [],
   "source": [
    "sd.play(clean_recon2[0:500000], 48000)"
   ]
  },
  {
   "cell_type": "code",
   "execution_count": 32,
   "metadata": {},
   "outputs": [],
   "source": [
    "sd.play(mixed_recon[0:500000], 48000)"
   ]
  },
  {
   "cell_type": "code",
   "execution_count": 58,
   "metadata": {},
   "outputs": [
    {
     "data": {
      "text/plain": [
       "(18862, 514)"
      ]
     },
     "execution_count": 58,
     "metadata": {},
     "output_type": "execute_result"
    }
   ],
   "source": [
    "test_target.shape"
   ]
  },
  {
   "cell_type": "code",
   "execution_count": 376,
   "metadata": {},
   "outputs": [],
   "source": [
    "sf.write('TSP/Predicted/speaker1_FM.wav', speaker1, 48000)\n",
    "sf.write('TSP/Predicted/speaker2_FM.wav', speaker2, 48000)\n",
    "sf.write('TSP/Predicted/clean1_FM.wav', clean_recon1, 48000)\n",
    "sf.write('TSP/Predicted/clean2_FM.wav', clean_recon2, 48000)\n",
    "sf.write('TSP/Predicted/mixed_FM.wav', mixed_recon, 48000)"
   ]
  },
  {
   "cell_type": "code",
   "execution_count": 397,
   "metadata": {},
   "outputs": [],
   "source": [
    "sf.write('TSP/Predicted/speaker1_FF.wav', speaker1, 48000)\n",
    "sf.write('TSP/Predicted/speaker2_FF.wav', speaker2, 48000)\n",
    "sf.write('TSP/Predicted/clean1_FF.wav', clean_recon1, 48000)\n",
    "sf.write('TSP/Predicted/clean2_FF.wav', clean_recon2, 48000)\n",
    "sf.write('TSP/Predicted/mixed_FF.wav', mixed_recon, 48000)"
   ]
  },
  {
   "cell_type": "code",
   "execution_count": 413,
   "metadata": {},
   "outputs": [],
   "source": [
    "sf.write('TSP/Predicted/speaker1_MM.wav', speaker1, 48000)\n",
    "sf.write('TSP/Predicted/speaker2_MM.wav', speaker2, 48000)\n",
    "sf.write('TSP/Predicted/clean1_MM.wav', clean_recon1, 48000)\n",
    "sf.write('TSP/Predicted/clean2_MM.wav', clean_recon2, 48000)\n",
    "sf.write('TSP/Predicted/mixed_MM.wav', mixed_recon, 48000)"
   ]
  },
  {
   "cell_type": "code",
   "execution_count": 30,
   "metadata": {},
   "outputs": [
    {
     "ename": "ValueError",
     "evalue": "sample rate must be 16000 or 8000",
     "output_type": "error",
     "traceback": [
      "\u001b[0;31m---------------------------------------------------------------------------\u001b[0m",
      "\u001b[0;31mValueError\u001b[0m                                Traceback (most recent call last)",
      "\u001b[0;32m<ipython-input-30-0000df114228>\u001b[0m in \u001b[0;36m<module>\u001b[0;34m\u001b[0m\n\u001b[1;32m      1\u001b[0m \u001b[0;32mfrom\u001b[0m \u001b[0mpypesq\u001b[0m \u001b[0;32mimport\u001b[0m \u001b[0mpesq\u001b[0m\u001b[0;34m\u001b[0m\u001b[0;34m\u001b[0m\u001b[0m\n\u001b[0;32m----> 2\u001b[0;31m \u001b[0mscore\u001b[0m \u001b[0;34m=\u001b[0m \u001b[0mpesq\u001b[0m\u001b[0;34m(\u001b[0m\u001b[0mclean_recon1\u001b[0m\u001b[0;34m,\u001b[0m \u001b[0mspeaker1\u001b[0m\u001b[0;34m,\u001b[0m \u001b[0;36m48000\u001b[0m\u001b[0;34m)\u001b[0m\u001b[0;34m\u001b[0m\u001b[0;34m\u001b[0m\u001b[0m\n\u001b[0m\u001b[1;32m      3\u001b[0m \u001b[0mprint\u001b[0m\u001b[0;34m(\u001b[0m\u001b[0mscore\u001b[0m\u001b[0;34m)\u001b[0m\u001b[0;34m\u001b[0m\u001b[0;34m\u001b[0m\u001b[0m\n",
      "\u001b[0;32m~/anaconda3/envs/Myenv/lib/python3.6/site-packages/pypesq-1.0-py3.6-linux-x86_64.egg/pypesq/__init__.py\u001b[0m in \u001b[0;36mpesq\u001b[0;34m(ref, deg, fs)\u001b[0m\n\u001b[1;32m     20\u001b[0m \u001b[0;34m\u001b[0m\u001b[0m\n\u001b[1;32m     21\u001b[0m     \u001b[0;32mif\u001b[0m \u001b[0mfs\u001b[0m \u001b[0;32mnot\u001b[0m \u001b[0;32min\u001b[0m \u001b[0;34m[\u001b[0m\u001b[0;36m16000\u001b[0m\u001b[0;34m,\u001b[0m \u001b[0;36m8000\u001b[0m\u001b[0;34m]\u001b[0m\u001b[0;34m:\u001b[0m\u001b[0;34m\u001b[0m\u001b[0;34m\u001b[0m\u001b[0m\n\u001b[0;32m---> 22\u001b[0;31m         \u001b[0;32mraise\u001b[0m \u001b[0mValueError\u001b[0m\u001b[0;34m(\u001b[0m\u001b[0;34m\"sample rate must be 16000 or 8000\"\u001b[0m\u001b[0;34m)\u001b[0m\u001b[0;34m\u001b[0m\u001b[0;34m\u001b[0m\u001b[0m\n\u001b[0m\u001b[1;32m     23\u001b[0m \u001b[0;34m\u001b[0m\u001b[0m\n\u001b[1;32m     24\u001b[0m     \u001b[0;32mif\u001b[0m \u001b[0mfabs\u001b[0m\u001b[0;34m(\u001b[0m\u001b[0mref\u001b[0m\u001b[0;34m.\u001b[0m\u001b[0mshape\u001b[0m\u001b[0;34m[\u001b[0m\u001b[0;36m0\u001b[0m\u001b[0;34m]\u001b[0m \u001b[0;34m-\u001b[0m \u001b[0mdeg\u001b[0m\u001b[0;34m.\u001b[0m\u001b[0mshape\u001b[0m\u001b[0;34m[\u001b[0m\u001b[0;36m0\u001b[0m\u001b[0;34m]\u001b[0m\u001b[0;34m)\u001b[0m \u001b[0;34m>\u001b[0m \u001b[0mfs\u001b[0m \u001b[0;34m/\u001b[0m \u001b[0;36m4\u001b[0m\u001b[0;34m:\u001b[0m\u001b[0;34m\u001b[0m\u001b[0;34m\u001b[0m\u001b[0m\n",
      "\u001b[0;31mValueError\u001b[0m: sample rate must be 16000 or 8000"
     ]
    }
   ],
   "source": [
    "from pypesq import pesq\n",
    "score = pesq(clean_recon1, speaker1, 48000)\n",
    "print(score)"
   ]
  },
  {
   "cell_type": "code",
   "execution_count": 98,
   "metadata": {},
   "outputs": [],
   "source": [
    "def loss_DNNC(y_true = test_target.T, y_pred = test_target.T, Lambda = 0.05):\n",
    "    loss = K.sum(K.square(y_true - y_pred)) \n",
    "    - Lambda * K.sum(K.square(y_true[0:257,:] - y_pred[0:257,:]) + K.square(y_true[257:,:] - y_pred[257:,:]))\n",
    "    return loss"
   ]
  },
  {
   "cell_type": "code",
   "execution_count": 99,
   "metadata": {},
   "outputs": [],
   "source": [
    "estimator_C = load_model('Models/Two_stage/Model_C0.h5', \n",
    "                          custom_objects={'loss_DNNC': loss_DNNC})"
   ]
  },
  {
   "cell_type": "code",
   "execution_count": 100,
   "metadata": {},
   "outputs": [],
   "source": [
    "sec_set = np.concatenate((speaker1 , speaker2), axis=1)"
   ]
  },
  {
   "cell_type": "code",
   "execution_count": 101,
   "metadata": {},
   "outputs": [],
   "source": [
    "sec_set = preprocessing.normalize(sec_set, norm='l2', axis=1, copy=True)\n",
    "test_target = preprocessing.normalize(test_target, norm='l2', axis=1, copy=True)"
   ]
  },
  {
   "cell_type": "code",
   "execution_count": 102,
   "metadata": {},
   "outputs": [],
   "source": [
    "prediction2 = estimator_C.predict(sec_set)"
   ]
  },
  {
   "cell_type": "code",
   "execution_count": 103,
   "metadata": {},
   "outputs": [
    {
     "data": {
      "text/plain": [
       "(18634, 514)"
      ]
     },
     "execution_count": 103,
     "metadata": {},
     "output_type": "execute_result"
    }
   ],
   "source": [
    "prediction2.shape"
   ]
  },
  {
   "cell_type": "code",
   "execution_count": 104,
   "metadata": {},
   "outputs": [],
   "source": [
    "s1_C = reconstruct(prediction2[:,0:257], angle_mixed)\n",
    "s2_C = reconstruct(prediction2[:,257:], angle_mixed)"
   ]
  },
  {
   "cell_type": "code",
   "execution_count": 105,
   "metadata": {},
   "outputs": [],
   "source": [
    "clean_recon1 = reconstruct(test_target[:,0:fft_samples], angle_clean[:,0:fft_samples])\n",
    "clean_recon2 = reconstruct(test_target[:,fft_samples:], angle_clean[:,fft_samples:])"
   ]
  },
  {
   "cell_type": "code",
   "execution_count": 106,
   "metadata": {},
   "outputs": [],
   "source": [
    "st_recon1 = stoi(s1_C, clean_recon1, 16000, extended=False)\n",
    "st_recon2 = stoi(s2_C, clean_recon2, 16000, extended=False)"
   ]
  },
  {
   "cell_type": "code",
   "execution_count": 107,
   "metadata": {},
   "outputs": [],
   "source": [
    "sdr_recon1, sir_recon1, sar_recon1, perm_recon1 = separation.bss_eval_sources(s1_C, clean_recon1, compute_permutation=True)\n",
    "sdr_recon2, sir_recon2, sar_recon2, perm_recon2 = separation.bss_eval_sources(s2_C, clean_recon2, compute_permutation=True)"
   ]
  },
  {
   "cell_type": "code",
   "execution_count": 108,
   "metadata": {},
   "outputs": [
    {
     "name": "stdout",
     "output_type": "stream",
     "text": [
      "SDR_recon1= [-4.51841408]\n",
      "SDR_recon2= [-2.20552222]\n",
      "SDR_mixed= [-4.78920035]\n"
     ]
    }
   ],
   "source": [
    "print('SDR_recon1=', sdr_recon1)\n",
    "print('SDR_recon2=', sdr_recon2)\n",
    "print('SDR_mixed=', sdr_mixed)"
   ]
  },
  {
   "cell_type": "code",
   "execution_count": 109,
   "metadata": {},
   "outputs": [
    {
     "name": "stdout",
     "output_type": "stream",
     "text": [
      "STOI_recon1= 0.2992286684160478\n",
      "STOI_recon2= 0.36715637272317214\n",
      "STOI_mixed= 0.3243004405902902\n"
     ]
    }
   ],
   "source": [
    "print('STOI_recon1=', st_recon1)\n",
    "print('STOI_recon2=', st_recon2)\n",
    "print('STOI_mixed=', st_mixed)"
   ]
  },
  {
   "cell_type": "code",
   "execution_count": 50,
   "metadata": {},
   "outputs": [],
   "source": [
    "sd.play(s1_C[start:stop]*2000, 16000)"
   ]
  },
  {
   "cell_type": "code",
   "execution_count": null,
   "metadata": {},
   "outputs": [],
   "source": []
  }
 ],
 "metadata": {
  "kernelspec": {
   "display_name": "Python 3",
   "language": "python",
   "name": "python3"
  },
  "language_info": {
   "codemirror_mode": {
    "name": "ipython",
    "version": 3
   },
   "file_extension": ".py",
   "mimetype": "text/x-python",
   "name": "python",
   "nbconvert_exporter": "python",
   "pygments_lexer": "ipython3",
   "version": "3.6.8"
  }
 },
 "nbformat": 4,
 "nbformat_minor": 2
}
