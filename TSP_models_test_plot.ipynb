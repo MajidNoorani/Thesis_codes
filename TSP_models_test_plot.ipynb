{
 "cells": [
  {
   "cell_type": "code",
   "execution_count": 1,
   "metadata": {},
   "outputs": [
    {
     "name": "stderr",
     "output_type": "stream",
     "text": [
      "Using TensorFlow backend.\n"
     ]
    }
   ],
   "source": [
    "#import libraries.\n",
    "import numpy as np\n",
    "# from tensorflow.keras.models import Sequential\n",
    "# from tensorflow.keras.layers import Dense\n",
    "from tensorflow.python.keras.utils.data_utils import Sequence\n",
    "from keras.models import Sequential\n",
    "from keras.layers import Dense\n",
    "from keras.wrappers.scikit_learn import KerasRegressor\n",
    "import keras\n",
    "from keras import regularizers\n",
    "import sklearn\n",
    "from sklearn.model_selection import cross_val_score\n",
    "from sklearn.model_selection import KFold\n",
    "from sklearn.preprocessing import StandardScaler\n",
    "from sklearn.pipeline import Pipeline\n",
    "from sklearn.metrics import mean_squared_error\n",
    "import sounddevice as sd\n",
    "import tensorflow as tf\n",
    "from mir_eval import separation \n",
    "from pystoi.stoi import stoi \n",
    "import h5py\n",
    "from keras.callbacks import LearningRateScheduler\n",
    "from keras.layers.normalization import BatchNormalization\n",
    "from keras.layers import Activation\n",
    "import math\n",
    "from sklearn.utils import shuffle\n",
    "from sklearn import preprocessing\n",
    "import soundfile as sf\n",
    "import matplotlib.pyplot as plt\n"
   ]
  },
  {
   "cell_type": "code",
   "execution_count": 2,
   "metadata": {},
   "outputs": [],
   "source": [
    "#import libraries.\n",
    "# import matplotlib.pyplot as plt\n",
    "# from tabulate import tabulate\n",
    "import time\n",
    "import os\n",
    "import librosa\n",
    "from librosa.core import stft, istft\n",
    "import time\n",
    "import pickle\n",
    "from keras import backend as K\n",
    "from tensorflow.keras.models import load_model\n",
    "# from keras.models import load_model"
   ]
  },
  {
   "cell_type": "code",
   "execution_count": 3,
   "metadata": {},
   "outputs": [],
   "source": [
    "def reconstruct(wave,angle):\n",
    "    recon1 = wave*np.cos(angle)+wave*np.sin(angle)*1j\n",
    "#     recon = np.sqrt(np.power(10, wave))\n",
    "#     recon1 = recon*np.cos(angle)+recon*np.sin(angle)*1j\n",
    "    recon = librosa.core.istft((recon1.T), hop_length=512, win_length=2048, window='hann')\n",
    "    return recon"
   ]
  },
  {
   "cell_type": "markdown",
   "metadata": {},
   "source": [
    "# Loading Model"
   ]
  },
  {
   "cell_type": "code",
   "execution_count": 4,
   "metadata": {},
   "outputs": [
    {
     "name": "stdout",
     "output_type": "stream",
     "text": [
      "WARNING:tensorflow:From /home/majid/anaconda3/envs/Myenv/lib/python3.6/site-packages/tensorflow/python/ops/init_ops.py:96: calling VarianceScaling.__init__ (from tensorflow.python.ops.init_ops) with distribution=normal is deprecated and will be removed in a future version.\n",
      "Instructions for updating:\n",
      "`normal` is a deprecated alias for `truncated_normal`\n",
      "WARNING:tensorflow:From /home/majid/anaconda3/envs/Myenv/lib/python3.6/site-packages/tensorflow/python/ops/resource_variable_ops.py:435: colocate_with (from tensorflow.python.framework.ops) is deprecated and will be removed in a future version.\n",
      "Instructions for updating:\n",
      "Colocations handled automatically by placer.\n",
      "WARNING:tensorflow:From /home/majid/anaconda3/envs/Myenv/lib/python3.6/site-packages/tensorflow/python/keras/utils/losses_utils.py:170: to_float (from tensorflow.python.ops.math_ops) is deprecated and will be removed in a future version.\n",
      "Instructions for updating:\n",
      "Use tf.cast instead.\n"
     ]
    }
   ],
   "source": [
    "estimator_A = load_model('Models/Two_stage/saved-model-SGD-009-0.0373.hdf5')\n",
    "name0 = 'saved-model-SGD-009-0.0373_SDR'\n",
    "name1 = 'saved-model-SGD-009-0.0373_STOI'"
   ]
  },
  {
   "cell_type": "code",
   "execution_count": 5,
   "metadata": {},
   "outputs": [],
   "source": [
    "data_series = str(0)"
   ]
  },
  {
   "cell_type": "code",
   "execution_count": 6,
   "metadata": {},
   "outputs": [
    {
     "name": "stdout",
     "output_type": "stream",
     "text": [
      "(1025, 21675)\n"
     ]
    }
   ],
   "source": [
    "h5f = h5py.File('TSP/Organized/concatenated/Test_TSP_mixed_FFT'  + data_series + '.hdf5','r')\n",
    "data_shape = h5f['Test_TSP_mixed_FFT' + data_series].shape\n",
    "print(data_shape)\n",
    "h5f.close()"
   ]
  },
  {
   "cell_type": "markdown",
   "metadata": {},
   "source": [
    "# Data "
   ]
  },
  {
   "cell_type": "code",
   "execution_count": 7,
   "metadata": {},
   "outputs": [],
   "source": [
    "# all\n",
    "test_point_start0 = 0\n",
    "test_point_stop0 = data_shape[1]"
   ]
  },
  {
   "cell_type": "code",
   "execution_count": 8,
   "metadata": {},
   "outputs": [],
   "source": [
    "# FM\n",
    "FM_test_point_start0 =  0\n",
    "FM_test_point_stop0 = int(data_shape[1]/3) - 155"
   ]
  },
  {
   "cell_type": "code",
   "execution_count": 9,
   "metadata": {},
   "outputs": [],
   "source": [
    "# FF\n",
    "FF_test_point_start0 =  int(data_shape[1]/3) - 155\n",
    "FF_test_point_stop0 = int(2 * data_shape[1]/3) - 110"
   ]
  },
  {
   "cell_type": "code",
   "execution_count": 10,
   "metadata": {},
   "outputs": [],
   "source": [
    "# MM\n",
    "MM_test_point_start0 =  int(2 * data_shape[1]/3) - 110\n",
    "MM_test_point_stop0 = data_shape[1]"
   ]
  },
  {
   "cell_type": "code",
   "execution_count": 11,
   "metadata": {},
   "outputs": [],
   "source": [
    "indx = [test_point_start0, test_point_stop0, FM_test_point_start0, FM_test_point_stop0, FF_test_point_start0, \n",
    "        FF_test_point_stop0, MM_test_point_start0, MM_test_point_stop0]"
   ]
  },
  {
   "cell_type": "code",
   "execution_count": 18,
   "metadata": {},
   "outputs": [],
   "source": [
    "all_sdr = {}\n",
    "all_stoi = {}\n",
    "fft_samples = 1025\n",
    "for i in range(0,len(indx),2):\n",
    "    test_point_start0 = indx[i]\n",
    "    test_point_stop0 = indx[i+1]\n",
    "    h5f = h5py.File('TSP/Organized/concatenated/Test_TSP_mixed_FFT'  + data_series + '.hdf5','r')\n",
    "    test_input = h5f['Test_TSP_mixed_FFT' + data_series][:, test_point_start0 : test_point_stop0]\n",
    "    h5f = h5py.File('TSP/Organized/concatenated/Test_TSP_clean_FFTs'  + data_series + '.hdf5','r')\n",
    "    test_target = h5f['Test_TSP_clean_FFTs' + data_series][:, test_point_start0 : test_point_stop0]\n",
    "    h5f = h5py.File('TSP/Organized/concatenated/Test_TSP_mixed_phase'  + data_series + '.hdf5','r')\n",
    "    mixed_phase = h5f['Test_TSP_mixed_phase' + data_series][:, test_point_start0 : test_point_stop0]\n",
    "    h5f = h5py.File('TSP/Organized/concatenated/Test_TSP_clean_phases'  + data_series + '.hdf5','r')\n",
    "    clean_phase = h5f['Test_TSP_clean_phases' + data_series][:, test_point_start0 : test_point_stop0]\n",
    "    norms = np.zeros(test_input.shape[1])\n",
    "    for j in range(test_input.shape[1]):\n",
    "        norms[j] = np.linalg.norm(test_input[:,j])\n",
    "    test_input = preprocessing.normalize(test_input, norm='l2', axis=0, copy=True)\n",
    "    prediction = estimator_A.predict(test_input.T)\n",
    "    test_input = np.multiply(test_input,norms)\n",
    "    prediction0 = np.multiply(test_input.T, prediction[:,0:1025])\n",
    "    prediction1 = np.multiply(test_input.T, prediction[:,1025:])\n",
    "    speaker1 = reconstruct(prediction0, mixed_phase.T)\n",
    "    speaker2 = reconstruct(prediction1, mixed_phase.T)\n",
    "    clean_recon1 = reconstruct(test_target[0:fft_samples,:].T, clean_phase[0:fft_samples,:].T)\n",
    "    clean_recon2 = reconstruct(test_target[fft_samples:,:].T, clean_phase[fft_samples:,:].T)\n",
    "    mixed_recon = reconstruct(test_input.T, mixed_phase.T)\n",
    "    \n",
    "    st_recon1 = stoi(speaker1, clean_recon1, 48000, extended=False)\n",
    "    st_recon2 = stoi(speaker2, clean_recon2, 48000, extended=False)\n",
    "    st_mixed1 = stoi(mixed_recon, clean_recon1, 48000, extended=False)\n",
    "    st_mixed2 = stoi(mixed_recon, clean_recon2, 48000, extended=False)\n",
    "    \n",
    "    sdr_recon1, sir_recon1, sar_recon1, perm_recon1 = separation.bss_eval_sources(speaker1, clean_recon1, compute_permutation=True)\n",
    "    sdr_recon2, sir_recon2, sar_recon2, perm_recon2 = separation.bss_eval_sources(speaker2, clean_recon2, compute_permutation=True)\n",
    "    sdr_mixed1, sir_mixed1, sar_mixed1, perm_mixed1 = separation.bss_eval_sources(mixed_recon, clean_recon1, compute_permutation=True)\n",
    "    sdr_mixed2, sir_mixed2, sar_mixed2, perm_mixed2 = separation.bss_eval_sources(mixed_recon, clean_recon2, compute_permutation=True)\n",
    "    \n",
    "    temp_sdr = [sdr_mixed1, sdr_recon1, sdr_mixed2, sdr_recon2]\n",
    "    temp_stoi = [st_mixed1, st_recon1,  st_mixed2, st_recon2]\n",
    "    \n",
    "    all_sdr[str(i/2)] = temp_sdr\n",
    "    all_stoi[str(i/2)] = temp_stoi"
   ]
  },
  {
   "cell_type": "code",
   "execution_count": 170,
   "metadata": {},
   "outputs": [
    {
     "data": {
      "text/plain": [
       "{'0.0': [array([1.36286961]),\n",
       "  array([5.61239878]),\n",
       "  array([-0.16238854]),\n",
       "  array([4.72275549])],\n",
       " '1.0': [array([5.24252842]),\n",
       "  array([7.70159846]),\n",
       "  array([-3.68827574]),\n",
       "  array([1.73081474])],\n",
       " '2.0': [array([-0.03336509]),\n",
       "  array([4.6427566]),\n",
       "  array([1.97697333]),\n",
       "  array([6.32331469])],\n",
       " '3.0': [array([0.82414987]),\n",
       "  array([3.95505776]),\n",
       "  array([0.06999752]),\n",
       "  array([3.23708205])]}"
      ]
     },
     "execution_count": 170,
     "metadata": {},
     "output_type": "execute_result"
    }
   ],
   "source": [
    "all_sdr"
   ]
  },
  {
   "cell_type": "code",
   "execution_count": 19,
   "metadata": {},
   "outputs": [
    {
     "data": {
      "image/png": "[encoded data removed]",
      "text/plain": [
       "<Figure size 432x288 with 1 Axes>"
      ]
     },
     "metadata": {
      "needs_background": "light"
     },
     "output_type": "display_data"
    }
   ],
   "source": [
    "\n",
    "barWidth = 2\n",
    "\n",
    "bars0 = ('S1_mixed','S1_clean', 'S2_mixed', 'S2_clean')\n",
    "bars1 = ('F_mixed','F_clean', 'M_mixed', 'M_clean')\n",
    "bars2 = ('F1_mixed','F1_clean', 'F2_mixed', 'F2_clean')\n",
    "bars3 = ('M1_mixed','M1_clean', 'M2_mixed', 'M2_clean')\n",
    "\n",
    "x_pos0 = np.arange(len(bars0)) + barWidth\n",
    "x_pos1 = np.arange(len(bars1)) + len(bars0) + barWidth\n",
    "x_pos2 = np.arange(len(bars2)) + len(bars0) + len(bars1) + barWidth\n",
    "x_pos3 = np.arange(len(bars3)) + len(bars0) + len(bars1) + len(bars2) + barWidth\n",
    "x_pos = list(x_pos0) + list(x_pos1) + list(x_pos2) + list(x_pos3)\n",
    "\n",
    " \n",
    "# Create bars\n",
    "plt.bar(x_pos0, np.squeeze(all_sdr['0.0']),color = (0.3,0.1,0.4,0.6), label='All')\n",
    "plt.bar(x_pos1, np.squeeze(all_sdr['1.0']),color = (0.3,0.5,0.4,0.6), label='FM')\n",
    "plt.bar(x_pos2, np.squeeze(all_sdr['2.0']),color = (0.6,0.8,0.1,0.9), label='FF')\n",
    "plt.bar(x_pos3, np.squeeze(all_sdr['3.0']),color = (0.2,0.2,0.4,0.6), label='MM')\n",
    "\n",
    "# Create legend\n",
    "plt.legend()\n",
    "\n",
    "# write the values\n",
    "values =  list(np.round(np.squeeze(all_sdr['0.0']),3)) + list(np.round(np.squeeze(all_sdr['1.0']),3)) + list(np.round(np.squeeze(all_sdr['2.0']),3)) + list(np.round(np.squeeze(all_sdr['3.0']),3))\n",
    "for i, v in enumerate(values):\n",
    "    plt.text(i + barWidth - 0.2, 1.3 , str(v), color='black', fontsize=10, rotation=90)\n",
    "\n",
    "# lables\n",
    "plt.title(name0)\n",
    "# ax.t_xlabel()\n",
    "plt.ylabel('SDR')\n",
    "# Create names on the x-axis\n",
    "plt.xticks([r + barWidth for r in range(len(x_pos))], \n",
    "           ['S1_mixed','S1_clean', 'S2_mixed', 'S2_clean',\n",
    "            'F_mixed','F_clean', 'M_mixed', 'M_clean',\n",
    "            'F1_mixed','F1_clean', 'F2_mixed', 'F2_clean',\n",
    "            'M1_mixed','M1_clean', 'M2_mixed', 'M2_clean'\n",
    "            ], rotation=90)\n",
    "fig1 = plt.gcf()\n",
    "plt.show()\n",
    "fig1.savefig('figures/' + name0 + '.png', dpi=300 , bbox_inches='tight')\n",
    "\n"
   ]
  },
  {
   "cell_type": "code",
   "execution_count": 20,
   "metadata": {},
   "outputs": [
    {
     "data": {
      "image/png": "[encoded data removed]",
      "text/plain": [
       "<Figure size 432x288 with 1 Axes>"
      ]
     },
     "metadata": {
      "needs_background": "light"
     },
     "output_type": "display_data"
    }
   ],
   "source": [
    "\n",
    "barWidth = 2\n",
    "\n",
    "bars0 = ('S1_mixed','S1_clean', 'S2_mixed', 'S2_clean')\n",
    "bars1 = ('F_mixed','F_clean', 'M_mixed', 'M_clean')\n",
    "bars2 = ('F1_mixed','F1_clean', 'F2_mixed', 'F2_clean')\n",
    "bars3 = ('M1_mixed','M1_clean', 'M2_mixed', 'M2_clean')\n",
    "\n",
    "x_pos0 = np.arange(len(bars0)) + barWidth\n",
    "x_pos1 = np.arange(len(bars1)) + len(bars0) + barWidth\n",
    "x_pos2 = np.arange(len(bars2)) + len(bars0) + len(bars1) + barWidth\n",
    "x_pos3 = np.arange(len(bars3)) + len(bars0) + len(bars1) + len(bars2) + barWidth\n",
    "x_pos = list(x_pos0) + list(x_pos1) + list(x_pos2) + list(x_pos3)\n",
    "\n",
    " \n",
    "# Create bars\n",
    "plt.bar(x_pos0, np.squeeze(all_stoi['0.0']),color = (0.3,0.1,0.4,0.6), label='All')\n",
    "plt.bar(x_pos1, np.squeeze(all_stoi['1.0']),color = (0.3,0.5,0.4,0.6), label='FM')\n",
    "plt.bar(x_pos2, np.squeeze(all_stoi['2.0']),color = (0.6,0.8,0.1,0.9), label='FF')\n",
    "plt.bar(x_pos3, np.squeeze(all_stoi['3.0']),color = (0.2,0.2,0.4,0.6), label='MM')\n",
    "\n",
    "# Create legend\n",
    "plt.legend()\n",
    "\n",
    "# write the values\n",
    "values =  list(np.round(np.squeeze(all_stoi['0.0']),3)) + list(np.round(np.squeeze(all_stoi['1.0']),3)) + list(np.round(np.squeeze(all_stoi['2.0']),3)) + list(np.round(np.squeeze(all_stoi['3.0']),3))\n",
    "for i, v in enumerate(values):\n",
    "    plt.text(i + barWidth - 0.2, 0.1 , str(v), color='black', fontsize=10, rotation=90)\n",
    "\n",
    "# lables\n",
    "plt.title(name1)\n",
    "# ax.t_xlabel()\n",
    "plt.ylabel('STOI')\n",
    "# Create names on the x-axis\n",
    "plt.xticks([r + barWidth for r in range(len(x_pos))], \n",
    "           ['S1_mixed','S1_clean', 'S2_mixed', 'S2_clean',\n",
    "            'F_mixed','F_clean', 'M_mixed', 'M_clean',\n",
    "            'F1_mixed','F1_clean', 'F2_mixed', 'F2_clean',\n",
    "            'M1_mixed','M1_clean', 'M2_mixed', 'M2_clean'\n",
    "            ], rotation=90)\n",
    "fig2 = plt.gcf()\n",
    "plt.show()\n",
    "fig2.savefig('figures/' + name1 + '.png', dpi=300 , bbox_inches='tight')\n",
    "\n"
   ]
  },
  {
   "cell_type": "code",
   "execution_count": null,
   "metadata": {},
   "outputs": [],
   "source": []
  },
  {
   "cell_type": "code",
   "execution_count": null,
   "metadata": {},
   "outputs": [],
   "source": []
  },
  {
   "cell_type": "code",
   "execution_count": null,
   "metadata": {},
   "outputs": [],
   "source": []
  },
  {
   "cell_type": "code",
   "execution_count": 25,
   "metadata": {},
   "outputs": [
    {
     "name": "stdout",
     "output_type": "stream",
     "text": [
      "STOI_recon1= 0.7484800260927625\n",
      "STOI_recon2= 0.6617332535895908\n",
      "STOI_mixed1= 0.6283168544837595\n",
      "STOI_mixed2= 0.5435481313152923\n"
     ]
    }
   ],
   "source": [
    "print('STOI_recon1=', st_recon1)\n",
    "print('STOI_recon2=', st_recon2)\n",
    "print('STOI_mixed1=', st_mixed1)\n",
    "print('STOI_mixed2=', st_mixed2)"
   ]
  },
  {
   "cell_type": "code",
   "execution_count": 26,
   "metadata": {},
   "outputs": [],
   "source": [
    "sdr_recon1, sir_recon1, sar_recon1, perm_recon1 = separation.bss_eval_sources(speaker1, clean_recon1, compute_permutation=True)\n",
    "sdr_recon2, sir_recon2, sar_recon2, perm_recon2 = separation.bss_eval_sources(speaker2, clean_recon2, compute_permutation=True)"
   ]
  },
  {
   "cell_type": "code",
   "execution_count": 27,
   "metadata": {},
   "outputs": [],
   "source": [
    "sdr_mixed1, sir_mixed1, sar_mixed1, perm_mixed1 = separation.bss_eval_sources(mixed_recon, clean_recon1, compute_permutation=True)\n",
    "sdr_mixed2, sir_mixed2, sar_mixed2, perm_mixed2 = separation.bss_eval_sources(mixed_recon, clean_recon2, compute_permutation=True)"
   ]
  },
  {
   "cell_type": "code",
   "execution_count": 28,
   "metadata": {},
   "outputs": [
    {
     "name": "stdout",
     "output_type": "stream",
     "text": [
      "SDR_recon1= [5.61239878]\n",
      "SDR_recon2= [4.72275549]\n",
      "SDR_mixed1= [1.36286961]\n",
      "SDR_mixed2= [-0.16238854]\n"
     ]
    }
   ],
   "source": [
    "print('SDR_recon1=', sdr_recon1)\n",
    "print('SDR_recon2=', sdr_recon2)\n",
    "print('SDR_mixed1=', sdr_mixed1)\n",
    "print('SDR_mixed2=', sdr_mixed2)"
   ]
  },
  {
   "cell_type": "code",
   "execution_count": 249,
   "metadata": {},
   "outputs": [
    {
     "name": "stdout",
     "output_type": "stream",
     "text": [
      "SIR_recon1= [inf]\n",
      "SIR_recon2= [inf]\n",
      "SIR_mixed1= [inf]\n",
      "SIR_mixed2= [inf]\n"
     ]
    }
   ],
   "source": [
    "print('SIR_recon1=', sir_recon1)\n",
    "print('SIR_recon2=', sir_recon2)\n",
    "print('SIR_mixed1=', sir_mixed1)\n",
    "print('SIR_mixed2=', sir_mixed2)"
   ]
  },
  {
   "cell_type": "code",
   "execution_count": 56,
   "metadata": {},
   "outputs": [],
   "source": [
    "sd.play(speaker1, 48000)"
   ]
  },
  {
   "cell_type": "code",
   "execution_count": 57,
   "metadata": {},
   "outputs": [],
   "source": [
    "sd.play(speaker2, 48000)"
   ]
  },
  {
   "cell_type": "code",
   "execution_count": 227,
   "metadata": {},
   "outputs": [],
   "source": [
    "sd.play(clean_recon1, 48000)"
   ]
  },
  {
   "cell_type": "code",
   "execution_count": 226,
   "metadata": {},
   "outputs": [],
   "source": [
    "sd.play(clean_recon2, 48000)"
   ]
  },
  {
   "cell_type": "code",
   "execution_count": 169,
   "metadata": {},
   "outputs": [],
   "source": [
    "sd.play(mixed_recon, 48000)"
   ]
  },
  {
   "cell_type": "code",
   "execution_count": 58,
   "metadata": {},
   "outputs": [
    {
     "data": {
      "text/plain": [
       "(18862, 514)"
      ]
     },
     "execution_count": 58,
     "metadata": {},
     "output_type": "execute_result"
    }
   ],
   "source": [
    "test_target.shape"
   ]
  },
  {
   "cell_type": "code",
   "execution_count": 376,
   "metadata": {},
   "outputs": [],
   "source": [
    "sf.write('TSP/Predicted/speaker1_FM.wav', speaker1, 48000)\n",
    "sf.write('TSP/Predicted/speaker2_FM.wav', speaker2, 48000)\n",
    "sf.write('TSP/Predicted/clean1_FM.wav', clean_recon1, 48000)\n",
    "sf.write('TSP/Predicted/clean2_FM.wav', clean_recon2, 48000)\n",
    "sf.write('TSP/Predicted/mixed_FM.wav', mixed_recon, 48000)"
   ]
  },
  {
   "cell_type": "code",
   "execution_count": 397,
   "metadata": {},
   "outputs": [],
   "source": [
    "sf.write('TSP/Predicted/speaker1_FF.wav', speaker1, 48000)\n",
    "sf.write('TSP/Predicted/speaker2_FF.wav', speaker2, 48000)\n",
    "sf.write('TSP/Predicted/clean1_FF.wav', clean_recon1, 48000)\n",
    "sf.write('TSP/Predicted/clean2_FF.wav', clean_recon2, 48000)\n",
    "sf.write('TSP/Predicted/mixed_FF.wav', mixed_recon, 48000)"
   ]
  },
  {
   "cell_type": "code",
   "execution_count": 413,
   "metadata": {},
   "outputs": [],
   "source": [
    "sf.write('TSP/Predicted/speaker1_MM.wav', speaker1, 48000)\n",
    "sf.write('TSP/Predicted/speaker2_MM.wav', speaker2, 48000)\n",
    "sf.write('TSP/Predicted/clean1_MM.wav', clean_recon1, 48000)\n",
    "sf.write('TSP/Predicted/clean2_MM.wav', clean_recon2, 48000)\n",
    "sf.write('TSP/Predicted/mixed_MM.wav', mixed_recon, 48000)"
   ]
  },
  {
   "cell_type": "code",
   "execution_count": 30,
   "metadata": {},
   "outputs": [
    {
     "ename": "ValueError",
     "evalue": "sample rate must be 16000 or 8000",
     "output_type": "error",
     "traceback": [
      "\u001b[0;31m---------------------------------------------------------------------------\u001b[0m",
      "\u001b[0;31mValueError\u001b[0m                                Traceback (most recent call last)",
      "\u001b[0;32m<ipython-input-30-0000df114228>\u001b[0m in \u001b[0;36m<module>\u001b[0;34m\u001b[0m\n\u001b[1;32m      1\u001b[0m \u001b[0;32mfrom\u001b[0m \u001b[0mpypesq\u001b[0m \u001b[0;32mimport\u001b[0m \u001b[0mpesq\u001b[0m\u001b[0;34m\u001b[0m\u001b[0;34m\u001b[0m\u001b[0m\n\u001b[0;32m----> 2\u001b[0;31m \u001b[0mscore\u001b[0m \u001b[0;34m=\u001b[0m \u001b[0mpesq\u001b[0m\u001b[0;34m(\u001b[0m\u001b[0mclean_recon1\u001b[0m\u001b[0;34m,\u001b[0m \u001b[0mspeaker1\u001b[0m\u001b[0;34m,\u001b[0m \u001b[0;36m48000\u001b[0m\u001b[0;34m)\u001b[0m\u001b[0;34m\u001b[0m\u001b[0;34m\u001b[0m\u001b[0m\n\u001b[0m\u001b[1;32m      3\u001b[0m \u001b[0mprint\u001b[0m\u001b[0;34m(\u001b[0m\u001b[0mscore\u001b[0m\u001b[0;34m)\u001b[0m\u001b[0;34m\u001b[0m\u001b[0;34m\u001b[0m\u001b[0m\n",
      "\u001b[0;32m~/anaconda3/envs/Myenv/lib/python3.6/site-packages/pypesq-1.0-py3.6-linux-x86_64.egg/pypesq/__init__.py\u001b[0m in \u001b[0;36mpesq\u001b[0;34m(ref, deg, fs)\u001b[0m\n\u001b[1;32m     20\u001b[0m \u001b[0;34m\u001b[0m\u001b[0m\n\u001b[1;32m     21\u001b[0m     \u001b[0;32mif\u001b[0m \u001b[0mfs\u001b[0m \u001b[0;32mnot\u001b[0m \u001b[0;32min\u001b[0m \u001b[0;34m[\u001b[0m\u001b[0;36m16000\u001b[0m\u001b[0;34m,\u001b[0m \u001b[0;36m8000\u001b[0m\u001b[0;34m]\u001b[0m\u001b[0;34m:\u001b[0m\u001b[0;34m\u001b[0m\u001b[0;34m\u001b[0m\u001b[0m\n\u001b[0;32m---> 22\u001b[0;31m         \u001b[0;32mraise\u001b[0m \u001b[0mValueError\u001b[0m\u001b[0;34m(\u001b[0m\u001b[0;34m\"sample rate must be 16000 or 8000\"\u001b[0m\u001b[0;34m)\u001b[0m\u001b[0;34m\u001b[0m\u001b[0;34m\u001b[0m\u001b[0m\n\u001b[0m\u001b[1;32m     23\u001b[0m \u001b[0;34m\u001b[0m\u001b[0m\n\u001b[1;32m     24\u001b[0m     \u001b[0;32mif\u001b[0m \u001b[0mfabs\u001b[0m\u001b[0;34m(\u001b[0m\u001b[0mref\u001b[0m\u001b[0;34m.\u001b[0m\u001b[0mshape\u001b[0m\u001b[0;34m[\u001b[0m\u001b[0;36m0\u001b[0m\u001b[0;34m]\u001b[0m \u001b[0;34m-\u001b[0m \u001b[0mdeg\u001b[0m\u001b[0;34m.\u001b[0m\u001b[0mshape\u001b[0m\u001b[0;34m[\u001b[0m\u001b[0;36m0\u001b[0m\u001b[0;34m]\u001b[0m\u001b[0;34m)\u001b[0m \u001b[0;34m>\u001b[0m \u001b[0mfs\u001b[0m \u001b[0;34m/\u001b[0m \u001b[0;36m4\u001b[0m\u001b[0;34m:\u001b[0m\u001b[0;34m\u001b[0m\u001b[0;34m\u001b[0m\u001b[0m\n",
      "\u001b[0;31mValueError\u001b[0m: sample rate must be 16000 or 8000"
     ]
    }
   ],
   "source": [
    "from pypesq import pesq\n",
    "score = pesq(clean_recon1, speaker1, 48000)\n",
    "print(score)"
   ]
  },
  {
   "cell_type": "code",
   "execution_count": 98,
   "metadata": {},
   "outputs": [],
   "source": [
    "def loss_DNNC(y_true = test_target.T, y_pred = test_target.T, Lambda = 0.05):\n",
    "    loss = K.sum(K.square(y_true - y_pred)) \n",
    "    - Lambda * K.sum(K.square(y_true[0:257,:] - y_pred[0:257,:]) + K.square(y_true[257:,:] - y_pred[257:,:]))\n",
    "    return loss"
   ]
  },
  {
   "cell_type": "code",
   "execution_count": 99,
   "metadata": {},
   "outputs": [],
   "source": [
    "estimator_C = load_model('Models/Two_stage/Model_C0.h5', \n",
    "                          custom_objects={'loss_DNNC': loss_DNNC})"
   ]
  },
  {
   "cell_type": "code",
   "execution_count": 100,
   "metadata": {},
   "outputs": [],
   "source": [
    "sec_set = np.concatenate((speaker1 , speaker2), axis=1)"
   ]
  },
  {
   "cell_type": "code",
   "execution_count": 101,
   "metadata": {},
   "outputs": [],
   "source": [
    "sec_set = preprocessing.normalize(sec_set, norm='l2', axis=1, copy=True)\n",
    "test_target = preprocessing.normalize(test_target, norm='l2', axis=1, copy=True)"
   ]
  },
  {
   "cell_type": "code",
   "execution_count": 102,
   "metadata": {},
   "outputs": [],
   "source": [
    "prediction2 = estimator_C.predict(sec_set)"
   ]
  },
  {
   "cell_type": "code",
   "execution_count": 103,
   "metadata": {},
   "outputs": [
    {
     "data": {
      "text/plain": [
       "(18634, 514)"
      ]
     },
     "execution_count": 103,
     "metadata": {},
     "output_type": "execute_result"
    }
   ],
   "source": [
    "prediction2.shape"
   ]
  },
  {
   "cell_type": "code",
   "execution_count": 104,
   "metadata": {},
   "outputs": [],
   "source": [
    "s1_C = reconstruct(prediction2[:,0:257], angle_mixed)\n",
    "s2_C = reconstruct(prediction2[:,257:], angle_mixed)"
   ]
  },
  {
   "cell_type": "code",
   "execution_count": 105,
   "metadata": {},
   "outputs": [],
   "source": [
    "clean_recon1 = reconstruct(test_target[:,0:fft_samples], angle_clean[:,0:fft_samples])\n",
    "clean_recon2 = reconstruct(test_target[:,fft_samples:], angle_clean[:,fft_samples:])"
   ]
  },
  {
   "cell_type": "code",
   "execution_count": 106,
   "metadata": {},
   "outputs": [],
   "source": [
    "st_recon1 = stoi(s1_C, clean_recon1, 16000, extended=False)\n",
    "st_recon2 = stoi(s2_C, clean_recon2, 16000, extended=False)"
   ]
  },
  {
   "cell_type": "code",
   "execution_count": 107,
   "metadata": {},
   "outputs": [],
   "source": [
    "sdr_recon1, sir_recon1, sar_recon1, perm_recon1 = separation.bss_eval_sources(s1_C, clean_recon1, compute_permutation=True)\n",
    "sdr_recon2, sir_recon2, sar_recon2, perm_recon2 = separation.bss_eval_sources(s2_C, clean_recon2, compute_permutation=True)"
   ]
  },
  {
   "cell_type": "code",
   "execution_count": 108,
   "metadata": {},
   "outputs": [
    {
     "name": "stdout",
     "output_type": "stream",
     "text": [
      "SDR_recon1= [-4.51841408]\n",
      "SDR_recon2= [-2.20552222]\n",
      "SDR_mixed= [-4.78920035]\n"
     ]
    }
   ],
   "source": [
    "print('SDR_recon1=', sdr_recon1)\n",
    "print('SDR_recon2=', sdr_recon2)\n",
    "print('SDR_mixed=', sdr_mixed)"
   ]
  },
  {
   "cell_type": "code",
   "execution_count": 109,
   "metadata": {},
   "outputs": [
    {
     "name": "stdout",
     "output_type": "stream",
     "text": [
      "STOI_recon1= 0.2992286684160478\n",
      "STOI_recon2= 0.36715637272317214\n",
      "STOI_mixed= 0.3243004405902902\n"
     ]
    }
   ],
   "source": [
    "print('STOI_recon1=', st_recon1)\n",
    "print('STOI_recon2=', st_recon2)\n",
    "print('STOI_mixed=', st_mixed)"
   ]
  },
  {
   "cell_type": "code",
   "execution_count": 50,
   "metadata": {},
   "outputs": [],
   "source": [
    "sd.play(s1_C[start:stop]*2000, 16000)"
   ]
  },
  {
   "cell_type": "code",
   "execution_count": null,
   "metadata": {},
   "outputs": [],
   "source": []
  }
 ],
 "metadata": {
  "kernelspec": {
   "display_name": "Python 3",
   "language": "python",
   "name": "python3"
  },
  "language_info": {
   "codemirror_mode": {
    "name": "ipython",
    "version": 3
   },
   "file_extension": ".py",
   "mimetype": "text/x-python",
   "name": "python",
   "nbconvert_exporter": "python",
   "pygments_lexer": "ipython3",
   "version": "3.6.8"
  }
 },
 "nbformat": 4,
 "nbformat_minor": 2
}
