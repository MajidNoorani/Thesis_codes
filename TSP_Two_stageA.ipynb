{
 "cells": [
  {
   "cell_type": "code",
   "execution_count": null,
   "metadata": {},
   "outputs": [],
   "source": []
  },
  {
   "cell_type": "code",
   "execution_count": 1,
   "metadata": {},
   "outputs": [
    {
     "name": "stderr",
     "output_type": "stream",
     "text": [
      "Using TensorFlow backend.\n"
     ]
    }
   ],
   "source": [
    "#import libraries.\n",
    "import numpy as np\n",
    "# from tensorflow.keras.models import Sequential\n",
    "# from tensorflow.keras.layers import Dense\n",
    "from tensorflow.python.keras.utils.data_utils import Sequence\n",
    "from keras.models import Sequential\n",
    "from keras.layers import Dense, LeakyReLU\n",
    "from keras.wrappers.scikit_learn import KerasRegressor\n",
    "import keras\n",
    "from keras import regularizers\n",
    "import sklearn\n",
    "from sklearn.model_selection import cross_val_score\n",
    "from sklearn.model_selection import KFold\n",
    "from sklearn.preprocessing import StandardScaler\n",
    "from sklearn.pipeline import Pipeline\n",
    "from sklearn.metrics import mean_squared_error\n",
    "from keras.initializers import glorot_normal\n",
    "import sounddevice as sd\n",
    "import tensorflow as tf\n",
    "from mir_eval import separation \n",
    "from pystoi.stoi import stoi \n",
    "import h5py\n",
    "from keras.callbacks import LearningRateScheduler\n",
    "from keras.layers.normalization import BatchNormalization\n",
    "from keras.layers import Activation\n",
    "import math\n",
    "from sklearn.utils import shuffle\n",
    "from sklearn import preprocessing\n",
    "from keras.callbacks import EarlyStopping, ModelCheckpoint"
   ]
  },
  {
   "cell_type": "code",
   "execution_count": 2,
   "metadata": {},
   "outputs": [],
   "source": [
    "#import libraries.\n",
    "# import matplotlib.pyplot as plt\n",
    "# from tabulate import tabulate\n",
    "import time\n",
    "import os\n",
    "import librosa\n",
    "from librosa.core import stft, istft\n",
    "import time\n",
    "import pickle\n",
    "from keras import backend as K\n",
    "from tensorflow.keras.models import load_model\n",
    "# from keras.models import load_model"
   ]
  },
  {
   "cell_type": "code",
   "execution_count": 3,
   "metadata": {},
   "outputs": [],
   "source": [
    "def reconstruct(wave,angle):\n",
    "    recon1 = wave*np.cos(angle)+wave*np.sin(angle)*1j\n",
    "#     recon = np.sqrt(np.power(10, wave))\n",
    "#     recon1 = recon*np.cos(angle)+recon*np.sin(angle)*1j\n",
    "    recon = librosa.core.istft((recon1.T), hop_length=512, win_length=2048, window='hann')\n",
    "    return recon"
   ]
  },
  {
   "cell_type": "code",
   "execution_count": 4,
   "metadata": {},
   "outputs": [],
   "source": [
    "data_series = str(0)"
   ]
  },
  {
   "cell_type": "code",
   "execution_count": 6,
   "metadata": {},
   "outputs": [],
   "source": [
    "h5f = h5py.File('TSP/Organized/concatenated/Train_TSP_mixed_FFT'  + data_series + '.hdf5','r')\n",
    "X = h5f['Train_TSP_mixed_FFT'  + data_series ][:]\n",
    "h5f.close()"
   ]
  },
  {
   "cell_type": "code",
   "execution_count": 7,
   "metadata": {},
   "outputs": [
    {
     "data": {
      "text/plain": [
       "(1025, 475371)"
      ]
     },
     "execution_count": 7,
     "metadata": {},
     "output_type": "execute_result"
    }
   ],
   "source": [
    "X.shape"
   ]
  },
  {
   "cell_type": "code",
   "execution_count": 9,
   "metadata": {},
   "outputs": [],
   "source": [
    "h5f = h5py.File('TSP/Organized/concatenated/Train_TSP_clean_FFTs'  + data_series + '.hdf5','r')\n",
    "y = h5f['Train_TSP_clean_FFTs'  + data_series ][:]\n",
    "h5f.close()"
   ]
  },
  {
   "cell_type": "code",
   "execution_count": 10,
   "metadata": {},
   "outputs": [
    {
     "data": {
      "text/plain": [
       "(2050, 475371)"
      ]
     },
     "execution_count": 10,
     "metadata": {},
     "output_type": "execute_result"
    }
   ],
   "source": [
    "y.shape"
   ]
  },
  {
   "cell_type": "code",
   "execution_count": 67,
   "metadata": {},
   "outputs": [],
   "source": [
    "X = preprocessing.normalize(X, norm='l2', axis=0, copy=True)"
   ]
  },
  {
   "cell_type": "code",
   "execution_count": 12,
   "metadata": {},
   "outputs": [],
   "source": [
    "a = y[0:1025]\n",
    "b = y[1025:]\n",
    "Mask = a/(a+b)\n",
    "Mask = np.concatenate((Mask,b/(a+b)), axis = 0)"
   ]
  },
  {
   "cell_type": "code",
   "execution_count": 70,
   "metadata": {},
   "outputs": [],
   "source": [
    "y = 0"
   ]
  },
  {
   "cell_type": "code",
   "execution_count": 12,
   "metadata": {},
   "outputs": [],
   "source": [
    "X_dim= 1025\n",
    "y_dim = 2050\n",
    "h_A = [1025, 1025, 1025]\n",
    "def DNN_A():\n",
    "    # create model\n",
    "    model = Sequential()\n",
    "    model.add(Dense(h_A[0], input_dim = X_dim, kernel_initializer='glorot_normal'))\n",
    "#     keras.layers.Dropout(0.8, noise_shape=None, seed=None)\n",
    "    model.add(BatchNormalization())\n",
    "    model.add(Activation('sigmoid'))\n",
    "#     model.add(LeakyReLU(alpha=0.1))\n",
    "\n",
    "    model.add(Dense(h_A[1], kernel_initializer='glorot_normal'))\n",
    "#     keras.layers.Dropout(0.8, noise_shape=None, seed=None)\n",
    "    model.add(BatchNormalization())\n",
    "    model.add(Activation('sigmoid'))\n",
    "#     model.add(LeakyReLU(alpha=0.1))\n",
    "\n",
    "    model.add(Dense(h_A[2], kernel_initializer='glorot_normal'))\n",
    "    keras.layers.Dropout(0.8, noise_shape=None, seed=None)\n",
    "    model.add(BatchNormalization())\n",
    "    model.add(Activation('sigmoid'))\n",
    "#     model.add(LeakyReLU(alpha=0.1))\n",
    "    \n",
    "    model.add(Dense(y_dim, kernel_initializer='glorot_normal'))\n",
    "#     keras.layers.Dropout(0.8, noise_shape=None, seed=None)\n",
    "    model.add(BatchNormalization())\n",
    "    model.add(Activation('sigmoid'))\n",
    "#     model.add(LeakyReLU(alpha=0.1))\n",
    "\n",
    "    # Compile model\n",
    "    model.compile(loss='mean_squared_error', optimizer='adam')\n",
    "    return model"
   ]
  },
  {
   "cell_type": "code",
   "execution_count": null,
   "metadata": {},
   "outputs": [
    {
     "name": "stdout",
     "output_type": "stream",
     "text": [
      "^^^^^^^^^^^^^^^^^^^^^ Training on mixed5^^^^^^^^^^^^^^^^^^^^^\n",
      "Epoch 1/200\n",
      "216636/216636 [==============================] - 182s 840us/step - loss: 0.1064\n",
      "Epoch 2/200\n",
      "216636/216636 [==============================] - 180s 829us/step - loss: 0.0970\n",
      "Epoch 3/200\n",
      "216636/216636 [==============================] - 179s 828us/step - loss: 0.0923\n",
      "Epoch 4/200\n",
      "216636/216636 [==============================] - 179s 828us/step - loss: 0.0881\n",
      "Epoch 5/200\n",
      "216636/216636 [==============================] - 179s 828us/step - loss: 0.0846\n",
      "Epoch 6/200\n",
      "216636/216636 [==============================] - 179s 828us/step - loss: 0.0817\n",
      "Epoch 7/200\n",
      "216636/216636 [==============================] - 174s 803us/step - loss: 0.0793\n",
      "Epoch 8/200\n",
      "216636/216636 [==============================] - 169s 780us/step - loss: 0.0770\n",
      "Epoch 9/200\n",
      "216636/216636 [==============================] - 169s 779us/step - loss: 0.0750\n",
      "Epoch 10/200\n",
      "216636/216636 [==============================] - 169s 779us/step - loss: 0.0732\n",
      "Epoch 11/200\n",
      "216636/216636 [==============================] - 169s 778us/step - loss: 0.0714\n",
      "Epoch 12/200\n",
      "216636/216636 [==============================] - 168s 777us/step - loss: 0.0699\n",
      "Epoch 13/200\n",
      "216636/216636 [==============================] - 168s 777us/step - loss: 0.0685\n",
      "Epoch 14/200\n",
      "216636/216636 [==============================] - 168s 776us/step - loss: 0.0672\n",
      "Epoch 15/200\n",
      "216636/216636 [==============================] - 177s 818us/step - loss: 0.0661\n",
      "Epoch 16/200\n",
      "216636/216636 [==============================] - 181s 835us/step - loss: 0.0650\n",
      "Epoch 17/200\n",
      "216636/216636 [==============================] - 180s 832us/step - loss: 0.0639\n",
      "Epoch 18/200\n",
      "216636/216636 [==============================] - 180s 832us/step - loss: 0.0630\n",
      "Epoch 19/200\n",
      "216636/216636 [==============================] - 184s 849us/step - loss: 0.0621\n",
      "Epoch 20/200\n",
      "216636/216636 [==============================] - 179s 825us/step - loss: 0.0613\n",
      "Epoch 21/200\n",
      "216636/216636 [==============================] - 170s 784us/step - loss: 0.0604\n",
      "Epoch 22/200\n",
      "216636/216636 [==============================] - 167s 773us/step - loss: 0.0598\n",
      "Epoch 23/200\n",
      "216636/216636 [==============================] - 167s 772us/step - loss: 0.0590\n",
      "Epoch 24/200\n",
      "216636/216636 [==============================] - 167s 770us/step - loss: 0.0583\n",
      "Epoch 25/200\n",
      "216636/216636 [==============================] - 167s 771us/step - loss: 0.0577\n",
      "Epoch 26/200\n",
      "216636/216636 [==============================] - 167s 770us/step - loss: 0.0571\n",
      "Epoch 27/200\n",
      "216636/216636 [==============================] - 167s 770us/step - loss: 0.0565\n",
      "Epoch 28/200\n",
      "216636/216636 [==============================] - 167s 769us/step - loss: 0.0560\n",
      "Epoch 29/200\n",
      "216636/216636 [==============================] - 167s 769us/step - loss: 0.0556\n",
      "Epoch 30/200\n",
      "216636/216636 [==============================] - 167s 769us/step - loss: 0.0550\n",
      "Epoch 31/200\n",
      "101200/216636 [=============>................] - ETA: 1:31 - loss: 0.0541"
     ]
    }
   ],
   "source": [
    "# # seed = 1\n",
    "# # np.random.seed(seed)\n",
    "# print(\"^^^^^^^^^^^^^^^^^^^^^ Training with 5-fold on mixed0^^^^^^^^^^^^^^^^^^^^^\")\n",
    "batch_size = 100\n",
    "tic = time.time()\n",
    "estimator_A = KerasRegressor(build_fn=DNN_A, epochs = 200, batch_size=batch_size, shuffle = True, verbose=1)\n",
    "# kfold = KFold(n_splits=2, random_state=None)\n",
    "# kfold = KFold(n_splits=5)\n",
    "# results = cross_val_score(estimator_A, X.T, y.T, cv=kfold)\n",
    "# print(\"Results: %.2f (%.2f) MSE\" % (results.mean(), results.std()))\n",
    "# toc_fold = time.time()\n",
    "\n",
    "print(\"^^^^^^^^^^^^^^^^^^^^^ Training on mixed5^^^^^^^^^^^^^^^^^^^^^\")\n",
    "# filepath=\"half_trained.hdf5\"\n",
    "# checkpoint = ModelCheckpoint(filepath, monitor = 'loss', verbose = 0, save_best_only = True, mode = 'min') \n",
    "# callbacks_list = [checkpoint]\n",
    "estimator_A.fit(X.T, Mask.T, shuffle = True, batch_size=batch_size,  steps_per_epoch=None)\n",
    "toc_adam = time.time()\n",
    "# print(\"---------------------------second part of training---------------------------\")\n",
    "# new_model = load_model(filepath)\n",
    "# checkpoint = ModelCheckpoint(filepath, monitor='loss', verbose=1, save?_best_only=True, mode='min')\n",
    "# callbacks_list = [checkpoint]\n",
    "# new_model.optimizer = optimizers.SGD(lr=0.001, decay=1e-6, momentum=0.9, nesterov=True)\n",
    "# new_model.fit(X.T, Mask.T, shuffle = True, epochs = 100, batch_size=100,  steps_per_epoch=None, callbacks=callbacks_list)\n",
    "# estimator_A.fit (X.T, y.T, shuffle = True, batch_size=100,  steps_per_epoch=None, callbacks = [changer])\n",
    "# prediction = estimator_A.predict(X_test)\n",
    "\n",
    "toc_fit = time.time()"
   ]
  },
  {
   "cell_type": "code",
   "execution_count": 45,
   "metadata": {},
   "outputs": [],
   "source": [
    "# X, y = data_reading(0)\n",
    "X_dim= 1025\n",
    "y_dim = \n",
    "estimator_A = Sequential()\n",
    "estimator_A.add(Dense(h_A[0], input_dim = X_dim, kernel_initializer=glorot_normal(seed=None)))\n",
    "estimator_A.add(BatchNormalization())\n",
    "# estimator_A.add(Activation('sigmoid'))\n",
    "estimator_A.add(LeakyReLU(alpha=0.1))\n",
    "estimator_A.add(Dense(h_A[1], kernel_initializer=glorot_normal(seed=None)))\n",
    "estimator_A.add(BatchNormalization())\n",
    "# estimator_A.add(Activation('sigmoid'))\n",
    "estimator_A.add(LeakyReLU(alpha=0.1))\n",
    "estimator_A.add(Dense(h_A[2], kernel_initializer=glorot_normal(seed=None)))\n",
    "estimator_A.add(BatchNormalization())\n",
    "# estimator_A.add(Activation('sigmoid'))\n",
    "estimator_A.add(LeakyReLU(alpha=0.1))\n",
    "estimator_A.add(Dense(y_dim, kernel_initializer=glorot_normal(seed=None)))\n",
    "estimator_A.add(BatchNormalization())\n",
    "# estimator_A.add(Activation('sigmoid'))\n",
    "\n",
    "# Compile model\n",
    "estimator_A.compile(loss='mean_squared_error', optimizer='adam')"
   ]
  },
  {
   "cell_type": "code",
   "execution_count": 48,
   "metadata": {},
   "outputs": [],
   "source": [
    "h5f = h5py.File('TIMIT/Organized/concatenated/mixed'  + data_series + '.hdf5','r')\n",
    "ftr_shape = h5f['mixed' + data_series].shape\n",
    "h5f.close()\n",
    "batch_size = 100\n",
    "steps_per_epoch = int(ftr_shape[1]/(batch_size))"
   ]
  },
  {
   "cell_type": "code",
   "execution_count": 49,
   "metadata": {},
   "outputs": [
    {
     "name": "stdout",
     "output_type": "stream",
     "text": [
      "Epoch 1/100\n",
      "[222000  62000 155200 ... 243200 111800 136800]\n",
      "1399/1399 [==============================] - 17s 12ms/step - loss: 0.0033\n",
      "Epoch 2/100\n",
      "1399/1399 [==============================] - 18s 13ms/step - loss: 0.0022\n",
      "Epoch 3/100\n",
      "1399/1399 [==============================] - 15s 11ms/step - loss: 0.0011\n",
      "Epoch 4/100\n",
      "1399/1399 [==============================] - 17s 12ms/step - loss: 5.3483e-04\n",
      "Epoch 5/100\n",
      "1399/1399 [==============================] - 16s 11ms/step - loss: 2.1462e-04\n",
      "Epoch 6/100\n",
      "1399/1399 [==============================] - 14s 10ms/step - loss: 1.2093e-04\n",
      "Epoch 7/100\n",
      "1399/1399 [==============================] - 17s 12ms/step - loss: 9.7555e-05\n",
      "Epoch 8/100\n",
      "1399/1399 [==============================] - 18s 13ms/step - loss: 8.9262e-05\n",
      "Epoch 9/100\n",
      "1399/1399 [==============================] - 14s 10ms/step - loss: 8.7509e-05\n",
      "Epoch 10/100\n",
      "1399/1399 [==============================] - 14s 10ms/step - loss: 8.7388e-05\n",
      "Epoch 11/100\n",
      "1399/1399 [==============================] - 14s 10ms/step - loss: 8.7441e-05\n",
      "Epoch 12/100\n",
      "1399/1399 [==============================] - 15s 11ms/step - loss: 8.7462e-05\n",
      "Epoch 13/100\n",
      "1399/1399 [==============================] - 15s 11ms/step - loss: 8.7461e-05\n",
      "Epoch 14/100\n",
      "1399/1399 [==============================] - 14s 10ms/step - loss: 8.7519e-05\n",
      "Epoch 15/100\n",
      "1399/1399 [==============================] - 15s 11ms/step - loss: 8.7522e-05\n",
      "Epoch 16/100\n",
      "1399/1399 [==============================] - 15s 10ms/step - loss: 8.7590e-05\n",
      "Epoch 17/100\n",
      "1399/1399 [==============================] - 14s 10ms/step - loss: 8.7614e-05\n",
      "Epoch 18/100\n",
      "1399/1399 [==============================] - 14s 10ms/step - loss: 8.7631e-05\n",
      "Epoch 19/100\n",
      "1399/1399 [==============================] - 14s 10ms/step - loss: 8.7652e-05\n",
      "Epoch 20/100\n",
      "1399/1399 [==============================] - 14s 10ms/step - loss: 8.7648e-05\n",
      "Epoch 21/100\n",
      "1399/1399 [==============================] - 14s 10ms/step - loss: 8.7608e-05\n",
      "Epoch 22/100\n",
      "1399/1399 [==============================] - 14s 10ms/step - loss: 8.7606e-05\n",
      "Epoch 23/100\n",
      "1399/1399 [==============================] - 14s 10ms/step - loss: 8.7604e-05\n",
      "Epoch 24/100\n",
      "1399/1399 [==============================] - 14s 10ms/step - loss: 8.7655e-05\n",
      "Epoch 25/100\n",
      "1399/1399 [==============================] - 14s 10ms/step - loss: 8.7561e-05\n",
      "Epoch 26/100\n",
      "1399/1399 [==============================] - 14s 10ms/step - loss: 8.7662e-05\n",
      "Epoch 27/100\n",
      "1399/1399 [==============================] - 14s 10ms/step - loss: 8.7540e-05\n",
      "Epoch 28/100\n",
      "1399/1399 [==============================] - 14s 10ms/step - loss: 8.7633e-05\n",
      "Epoch 29/100\n",
      "1399/1399 [==============================] - 14s 10ms/step - loss: 8.7661e-05\n",
      "Epoch 30/100\n",
      "1399/1399 [==============================] - 15s 10ms/step - loss: 8.7645e-05\n",
      "Epoch 31/100\n",
      "1399/1399 [==============================] - 16s 12ms/step - loss: 8.7648e-05\n",
      "Epoch 32/100\n",
      "1399/1399 [==============================] - 14s 10ms/step - loss: 8.7645e-05\n",
      "Epoch 33/100\n",
      "1399/1399 [==============================] - 14s 10ms/step - loss: 8.7600e-05\n",
      "Epoch 34/100\n",
      "1399/1399 [==============================] - 14s 10ms/step - loss: 8.7636e-05\n",
      "Epoch 35/100\n",
      "1399/1399 [==============================] - 14s 10ms/step - loss: 8.7541e-05\n",
      "Epoch 36/100\n",
      "1399/1399 [==============================] - 14s 10ms/step - loss: 8.7581e-05\n",
      "Epoch 37/100\n",
      "1399/1399 [==============================] - 14s 10ms/step - loss: 8.7647e-05\n",
      "Epoch 38/100\n",
      "1399/1399 [==============================] - 14s 10ms/step - loss: 8.7600e-05\n",
      "Epoch 39/100\n",
      "1399/1399 [==============================] - 14s 10ms/step - loss: 8.7622e-05\n",
      "Epoch 40/100\n",
      "1399/1399 [==============================] - 14s 10ms/step - loss: 8.7606e-05\n",
      "Epoch 41/100\n",
      "1399/1399 [==============================] - 14s 10ms/step - loss: 8.7614e-05\n",
      "Epoch 42/100\n",
      "1399/1399 [==============================] - 14s 10ms/step - loss: 8.7515e-05\n",
      "Epoch 43/100\n",
      "1399/1399 [==============================] - 14s 10ms/step - loss: 8.7549e-05\n",
      "Epoch 44/100\n",
      "1399/1399 [==============================] - 14s 10ms/step - loss: 8.7586e-05\n",
      "Epoch 45/100\n",
      "1399/1399 [==============================] - 14s 10ms/step - loss: 8.7456e-05\n",
      "Epoch 46/100\n",
      "1399/1399 [==============================] - 14s 10ms/step - loss: 8.7539e-05\n",
      "Epoch 47/100\n",
      "1399/1399 [==============================] - 14s 10ms/step - loss: 8.7581e-05\n",
      "Epoch 48/100\n",
      "1399/1399 [==============================] - 14s 10ms/step - loss: 8.7605e-05\n",
      "Epoch 49/100\n",
      "1399/1399 [==============================] - 14s 10ms/step - loss: 8.7489e-05\n",
      "Epoch 50/100\n",
      "1399/1399 [==============================] - 14s 10ms/step - loss: 8.7590e-05\n",
      "Epoch 51/100\n",
      "1399/1399 [==============================] - 14s 10ms/step - loss: 8.7553e-05\n",
      "Epoch 52/100\n",
      "1399/1399 [==============================] - 14s 10ms/step - loss: 8.7574e-05\n",
      "Epoch 53/100\n",
      "1399/1399 [==============================] - 14s 10ms/step - loss: 8.7543e-05\n",
      "Epoch 54/100\n",
      "1399/1399 [==============================] - 14s 10ms/step - loss: 8.7545e-05\n",
      "Epoch 55/100\n",
      "1399/1399 [==============================] - 14s 10ms/step - loss: 8.7530e-05\n",
      "Epoch 56/100\n",
      "1399/1399 [==============================] - 14s 10ms/step - loss: 8.7558e-05\n",
      "Epoch 57/100\n",
      "1399/1399 [==============================] - 14s 10ms/step - loss: 8.7541e-05\n",
      "Epoch 58/100\n",
      "1399/1399 [==============================] - 14s 10ms/step - loss: 8.7521e-05\n",
      "Epoch 59/100\n",
      "1399/1399 [==============================] - 14s 10ms/step - loss: 8.7525e-05\n",
      "Epoch 60/100\n",
      "1399/1399 [==============================] - 14s 10ms/step - loss: 8.7359e-05\n",
      "Epoch 61/100\n",
      "1399/1399 [==============================] - 14s 10ms/step - loss: 8.7440e-05\n",
      "Epoch 62/100\n",
      "1399/1399 [==============================] - 14s 10ms/step - loss: 8.7382e-05\n",
      "Epoch 63/100\n",
      "1399/1399 [==============================] - 14s 10ms/step - loss: 8.7411e-05\n",
      "Epoch 64/100\n",
      "1399/1399 [==============================] - 14s 10ms/step - loss: 8.7452e-05\n",
      "Epoch 65/100\n",
      "1399/1399 [==============================] - 14s 10ms/step - loss: 8.7363e-05\n",
      "Epoch 66/100\n",
      "1399/1399 [==============================] - 14s 10ms/step - loss: 8.7437e-05\n",
      "Epoch 67/100\n",
      "1399/1399 [==============================] - 14s 10ms/step - loss: 8.7277e-05\n",
      "Epoch 68/100\n",
      "1399/1399 [==============================] - 14s 10ms/step - loss: 8.7338e-05\n",
      "Epoch 69/100\n",
      "1399/1399 [==============================] - 14s 10ms/step - loss: 8.7363e-05\n",
      "Epoch 70/100\n",
      "1399/1399 [==============================] - 14s 10ms/step - loss: 8.7342e-05\n",
      "Epoch 71/100\n",
      "1399/1399 [==============================] - 14s 10ms/step - loss: 8.7353e-05\n",
      "Epoch 72/100\n",
      "1399/1399 [==============================] - 14s 10ms/step - loss: 8.7161e-05\n",
      "Epoch 73/100\n",
      "1399/1399 [==============================] - 14s 10ms/step - loss: 8.7317e-05\n",
      "Epoch 74/100\n",
      "1399/1399 [==============================] - 14s 10ms/step - loss: 8.7186e-05\n",
      "Epoch 75/100\n",
      "1399/1399 [==============================] - 14s 10ms/step - loss: 8.7298e-05\n",
      "Epoch 76/100\n",
      "1399/1399 [==============================] - 14s 10ms/step - loss: 8.7092e-05\n",
      "Epoch 77/100\n",
      "1399/1399 [==============================] - 14s 10ms/step - loss: 8.7244e-05\n",
      "Epoch 78/100\n",
      "1399/1399 [==============================] - 14s 10ms/step - loss: 8.7215e-05\n",
      "Epoch 79/100\n",
      "1399/1399 [==============================] - 14s 10ms/step - loss: 8.7007e-05\n",
      "Epoch 80/100\n",
      "1399/1399 [==============================] - 14s 10ms/step - loss: 8.7225e-05\n",
      "Epoch 81/100\n",
      "1399/1399 [==============================] - 14s 10ms/step - loss: 8.7191e-05\n",
      "Epoch 82/100\n",
      "1399/1399 [==============================] - 14s 10ms/step - loss: 8.7097e-05\n",
      "Epoch 83/100\n",
      "1399/1399 [==============================] - 14s 10ms/step - loss: 8.7202e-05\n",
      "Epoch 84/100\n",
      "1399/1399 [==============================] - 14s 10ms/step - loss: 8.7158e-05\n",
      "Epoch 85/100\n",
      "1399/1399 [==============================] - 14s 10ms/step - loss: 8.7158e-05\n",
      "Epoch 86/100\n",
      "1399/1399 [==============================] - 14s 10ms/step - loss: 8.6946e-05\n",
      "Epoch 87/100\n",
      "1399/1399 [==============================] - 14s 10ms/step - loss: 8.7106e-05\n",
      "Epoch 88/100\n",
      "1399/1399 [==============================] - 14s 10ms/step - loss: 8.7070e-05\n",
      "Epoch 89/100\n",
      "1399/1399 [==============================] - 14s 10ms/step - loss: 8.7042e-05\n",
      "Epoch 90/100\n",
      "1399/1399 [==============================] - 14s 10ms/step - loss: 8.7069e-05\n",
      "Epoch 91/100\n",
      "1399/1399 [==============================] - 14s 10ms/step - loss: 8.7046e-05\n",
      "Epoch 92/100\n",
      "1399/1399 [==============================] - 14s 10ms/step - loss: 8.6967e-05\n",
      "Epoch 93/100\n",
      "1399/1399 [==============================] - 14s 10ms/step - loss: 8.7036e-05\n",
      "Epoch 94/100\n",
      "1399/1399 [==============================] - 14s 10ms/step - loss: 8.6843e-05\n",
      "Epoch 95/100\n",
      "1399/1399 [==============================] - 14s 10ms/step - loss: 8.6974e-05\n",
      "Epoch 96/100\n",
      "1399/1399 [==============================] - 14s 10ms/step - loss: 8.6981e-05\n",
      "Epoch 97/100\n",
      "1399/1399 [==============================] - 14s 10ms/step - loss: 8.6899e-05\n",
      "Epoch 98/100\n",
      "1399/1399 [==============================] - 14s 10ms/step - loss: 8.6873e-05\n",
      "Epoch 99/100\n",
      "1399/1399 [==============================] - 14s 10ms/step - loss: 8.6918e-05\n",
      "Epoch 100/100\n",
      "1399/1399 [==============================] - 14s 10ms/step - loss: 8.6904e-05\n"
     ]
    }
   ],
   "source": [
    "tic = time.time()\n",
    "estimator_A.fit_generator(generator=da(batch_size, ftr_shape[1]),\n",
    "                          steps_per_epoch=steps_per_epoch,\n",
    "                          epochs=200,\n",
    "                          verbose=1)\n",
    "toc  =time.time()\n"
   ]
  },
  {
   "cell_type": "code",
   "execution_count": 50,
   "metadata": {},
   "outputs": [
    {
     "name": "stdout",
     "output_type": "stream",
     "text": [
      "Time=  1430.0593705177307\n"
     ]
    }
   ],
   "source": [
    "print('Time= ', toc - tic)\n",
    "# print(\"tIME OF K-FOLD=\", (toc_fold - tic)/60)\n",
    "# print(\"tIME OF FIT=\", (toc_fit - tic)/60)"
   ]
  },
  {
   "cell_type": "code",
   "execution_count": 51,
   "metadata": {},
   "outputs": [
    {
     "name": "stdout",
     "output_type": "stream",
     "text": [
      "23.83432284196218\n"
     ]
    }
   ],
   "source": [
    "print((toc -tic)/60)"
   ]
  },
  {
   "cell_type": "code",
   "execution_count": 52,
   "metadata": {},
   "outputs": [
    {
     "name": "stderr",
     "output_type": "stream",
     "text": [
      "/home/majid/anaconda3/envs/Myenv/lib/python3.6/site-packages/keras/engine/sequential.py:110: UserWarning: `Sequential.model` is deprecated. `Sequential` is a subclass of `Model`, you can just use your `Sequential` instance directly.\n",
      "  warnings.warn('`Sequential.model` is deprecated. '\n"
     ]
    }
   ],
   "source": [
    "estimator_A.model.save('Models/Two_stage/trained_model14.h5')"
   ]
  },
  {
   "cell_type": "code",
   "execution_count": 99,
   "metadata": {},
   "outputs": [],
   "source": [
    "estimator_A.model.save_weights('Models/Two_stage/weights12.h5')"
   ]
  },
  {
   "cell_type": "code",
   "execution_count": 4,
   "metadata": {},
   "outputs": [
    {
     "name": "stdout",
     "output_type": "stream",
     "text": [
      "WARNING:tensorflow:From /home/majid/anaconda3/envs/Myenv/lib/python3.6/site-packages/tensorflow/python/ops/resource_variable_ops.py:435: colocate_with (from tensorflow.python.framework.ops) is deprecated and will be removed in a future version.\n",
      "Instructions for updating:\n",
      "Colocations handled automatically by placer.\n",
      "WARNING:tensorflow:From /home/majid/anaconda3/envs/Myenv/lib/python3.6/site-packages/tensorflow/python/keras/utils/losses_utils.py:170: to_float (from tensorflow.python.ops.math_ops) is deprecated and will be removed in a future version.\n",
      "Instructions for updating:\n",
      "Use tf.cast instead.\n",
      "WARNING:tensorflow:From /home/majid/anaconda3/envs/Myenv/lib/python3.6/site-packages/tensorflow/python/ops/math_ops.py:3066: to_int32 (from tensorflow.python.ops.math_ops) is deprecated and will be removed in a future version.\n",
      "Instructions for updating:\n",
      "Use tf.cast instead.\n"
     ]
    }
   ],
   "source": [
    "estimator_A = load_model('Models/Two_stage/TSP_model0.h5')"
   ]
  },
  {
   "cell_type": "code",
   "execution_count": 60,
   "metadata": {},
   "outputs": [],
   "source": [
    "data_series = str(0)\n",
    "test_point_start0 = 0\n",
    "test_point_stop0 = 1000"
   ]
  },
  {
   "cell_type": "code",
   "execution_count": 61,
   "metadata": {},
   "outputs": [
    {
     "name": "stdout",
     "output_type": "stream",
     "text": [
      "(1025, 1000)\n"
     ]
    }
   ],
   "source": [
    "h5f = h5py.File('TSP/Organized/concatenated/Train_TSP_mixed_FFT'  + data_series + '.hdf5','r')\n",
    "test_input = h5f['Train_TSP_mixed_FFT' + data_series][:, test_point_start0 : test_point_stop0]\n",
    "print(test_input.shape)\n",
    "h5f.close()"
   ]
  },
  {
   "cell_type": "code",
   "execution_count": 62,
   "metadata": {},
   "outputs": [
    {
     "name": "stdout",
     "output_type": "stream",
     "text": [
      "(2050, 1000)\n"
     ]
    }
   ],
   "source": [
    "h5f = h5py.File('TSP/Organized/concatenated/Train_TSP_clean_FFTs'  + data_series + '.hdf5','r')\n",
    "test_target = h5f['Train_TSP_clean_FFTs' + data_series][:, test_point_start0 : test_point_stop0]\n",
    "print(test_target.shape)\n",
    "h5f.close()"
   ]
  },
  {
   "cell_type": "code",
   "execution_count": 63,
   "metadata": {},
   "outputs": [
    {
     "name": "stdout",
     "output_type": "stream",
     "text": [
      "(1025, 1000)\n"
     ]
    }
   ],
   "source": [
    "h5f = h5py.File('TSP/Organized/concatenated/Train_TSP_mixed_phase'  + data_series + '.hdf5','r')\n",
    "mixed_phase = h5f['Train_TSP_mixed_phase' + data_series][:, test_point_start0 : test_point_stop0]\n",
    "print(mixed_phase.shape)\n",
    "h5f.close()"
   ]
  },
  {
   "cell_type": "code",
   "execution_count": 64,
   "metadata": {},
   "outputs": [
    {
     "name": "stdout",
     "output_type": "stream",
     "text": [
      "(2050, 1000)\n"
     ]
    }
   ],
   "source": [
    "h5f = h5py.File('TSP/Organized/concatenated/Train_TSP_clean_phases'  + data_series + '.hdf5','r')\n",
    "clean_phase = h5f['Train_TSP_clean_phases' + data_series][:, test_point_start0 : test_point_stop0]\n",
    "print(clean_phase.shape)\n",
    "h5f.close()"
   ]
  },
  {
   "cell_type": "code",
   "execution_count": 65,
   "metadata": {},
   "outputs": [],
   "source": [
    "norms = np.zeros(test_input.shape[1])\n",
    "for i in range(test_input.shape[1]):\n",
    "    norms[i] = np.linalg.norm(test_input[:,i])"
   ]
  },
  {
   "cell_type": "code",
   "execution_count": 66,
   "metadata": {},
   "outputs": [],
   "source": [
    "# test_input = sklearn.preprocessing.normalize(test_input.T, norm='l2', axis=1, copy=True, return_norm=False)\n",
    "# test_target = sklearn.preprocessing.normalize(test_target.T, norm='l2', axis=1, copy=True, return_norm=False)\n",
    "# test_input = (test_input-np.mean(test_input))/(np.max(test_input) - np.min(test_input))\n",
    "test_input = preprocessing.normalize(test_input, norm='l2', axis=0, copy=True)\n",
    "# test_target = preprocessing.normalize(test_target, norm='l2', axis=0, copy=True)\n",
    "# test_target = (test_target-np.mean(test_target))/(np.var(test_target))"
   ]
  },
  {
   "cell_type": "code",
   "execution_count": 67,
   "metadata": {},
   "outputs": [],
   "source": [
    "prediction = estimator_A.predict(test_input.T)"
   ]
  },
  {
   "cell_type": "code",
   "execution_count": 68,
   "metadata": {},
   "outputs": [],
   "source": [
    "test_input = np.multiply(test_input,norms)"
   ]
  },
  {
   "cell_type": "code",
   "execution_count": 69,
   "metadata": {},
   "outputs": [
    {
     "data": {
      "text/plain": [
       "(1000, 2050)"
      ]
     },
     "execution_count": 69,
     "metadata": {},
     "output_type": "execute_result"
    }
   ],
   "source": [
    "prediction.shape"
   ]
  },
  {
   "cell_type": "code",
   "execution_count": 71,
   "metadata": {},
   "outputs": [],
   "source": [
    "prediction1 = np.multiply(test_input.T, prediction[:,:1025])\n",
    "prediction2 = np.multiply(test_input.T, prediction[:,1025:])"
   ]
  },
  {
   "cell_type": "code",
   "execution_count": 72,
   "metadata": {},
   "outputs": [],
   "source": [
    "fft_samples = 1025"
   ]
  },
  {
   "cell_type": "code",
   "execution_count": 73,
   "metadata": {},
   "outputs": [],
   "source": [
    "s1 = reconstruct(prediction1, mixed_phase.T)\n",
    "s2 = reconstruct(prediction2, mixed_phase.T)"
   ]
  },
  {
   "cell_type": "code",
   "execution_count": 74,
   "metadata": {},
   "outputs": [],
   "source": [
    "clean_recon1 = reconstruct(test_target[0:fft_samples,:].T, clean_phase[0:fft_samples,:].T)\n",
    "clean_recon2 = reconstruct(test_target[fft_samples:,:].T, clean_phase[fft_samples:,:].T)"
   ]
  },
  {
   "cell_type": "code",
   "execution_count": 75,
   "metadata": {},
   "outputs": [],
   "source": [
    "mixed_recon = reconstruct(test_input.T, mixed_phase.T)"
   ]
  },
  {
   "cell_type": "code",
   "execution_count": 76,
   "metadata": {},
   "outputs": [
    {
     "data": {
      "text/plain": [
       "(511488,)"
      ]
     },
     "execution_count": 76,
     "metadata": {},
     "output_type": "execute_result"
    }
   ],
   "source": [
    "s1.shape"
   ]
  },
  {
   "cell_type": "code",
   "execution_count": 53,
   "metadata": {},
   "outputs": [],
   "source": [
    "sd.play(mixed_recon, 48000)"
   ]
  },
  {
   "cell_type": "code",
   "execution_count": 77,
   "metadata": {},
   "outputs": [],
   "source": [
    "st_recon1 = stoi(s1, clean_recon1, 48000, extended=False)\n",
    "st_recon2 = stoi(s2, clean_recon2, 48000, extended=False)"
   ]
  },
  {
   "cell_type": "code",
   "execution_count": 78,
   "metadata": {},
   "outputs": [],
   "source": [
    "st_mixed1 = stoi(mixed_recon, clean_recon1, 48000, extended=False)\n",
    "st_mixed2 = stoi(mixed_recon, clean_recon2, 48000, extended=False)"
   ]
  },
  {
   "cell_type": "code",
   "execution_count": 79,
   "metadata": {},
   "outputs": [
    {
     "name": "stdout",
     "output_type": "stream",
     "text": [
      "STOI_recon1= 0.8515234364494826\n",
      "STOI_recon2= 0.9014656872841098\n",
      "STOI_mixed1= 0.665909195846394\n",
      "STOI_mixed2= 0.5782600675256552\n"
     ]
    }
   ],
   "source": [
    "print('STOI_recon1=', st_recon1)\n",
    "print('STOI_recon2=', st_recon2)\n",
    "print('STOI_mixed1=', st_mixed1)\n",
    "print('STOI_mixed2=', st_mixed2)"
   ]
  },
  {
   "cell_type": "code",
   "execution_count": 80,
   "metadata": {},
   "outputs": [],
   "source": [
    "sdr_recon1, sir_recon1, sar_recon1, perm_recon1 = separation.bss_eval_sources(s1, clean_recon1, compute_permutation=True)\n",
    "sdr_recon2, sir_recon2, sar_recon2, perm_recon2 = separation.bss_eval_sources(s2, clean_recon2, compute_permutation=True)"
   ]
  },
  {
   "cell_type": "code",
   "execution_count": 82,
   "metadata": {},
   "outputs": [],
   "source": [
    "sdr_mixed1, sir_mixed1, sar_mixed1, perm_mixed1 = separation.bss_eval_sources(mixed_recon, clean_recon1, compute_permutation=True)\n",
    "sdr_mixed2, sir_mixed2, sar_mixed2, perm_mixed2 = separation.bss_eval_sources(mixed_recon, clean_recon2, compute_permutation=True)"
   ]
  },
  {
   "cell_type": "code",
   "execution_count": 83,
   "metadata": {},
   "outputs": [
    {
     "name": "stdout",
     "output_type": "stream",
     "text": [
      "SDR_recon1= [10.74456058]\n",
      "SDR_recon2= [8.59891451]\n",
      "SDR_mixed1= [3.01337799]\n",
      "SDR_mixed2= [-0.690974]\n"
     ]
    }
   ],
   "source": [
    "print('SDR_recon1=', sdr_recon1)\n",
    "print('SDR_recon2=', sdr_recon2)\n",
    "print('SDR_mixed1=', sdr_mixed1)\n",
    "print('SDR_mixed2=', sdr_mixed2)"
   ]
  },
  {
   "cell_type": "code",
   "execution_count": 52,
   "metadata": {},
   "outputs": [],
   "source": [
    "# \n",
    "sd.play(s1, 48000)"
   ]
  },
  {
   "cell_type": "code",
   "execution_count": null,
   "metadata": {},
   "outputs": [],
   "source": [
    "sd.play(s2, 48000)"
   ]
  },
  {
   "cell_type": "code",
   "execution_count": null,
   "metadata": {},
   "outputs": [],
   "source": [
    "sd.play(clean_recon2, 48000)"
   ]
  },
  {
   "cell_type": "code",
   "execution_count": 34,
   "metadata": {},
   "outputs": [],
   "source": [
    "sd.play(clean_recon1, 48000)"
   ]
  },
  {
   "cell_type": "code",
   "execution_count": 68,
   "metadata": {},
   "outputs": [],
   "source": [
    "h5f = h5py.File('TIMIT/Organized/concatenated/mixed4_shuffled.hdf5','r')\n",
    "a = h5f['mixed4_shuffled'][:,1]\n",
    "h5f.close()"
   ]
  },
  {
   "cell_type": "code",
   "execution_count": 69,
   "metadata": {},
   "outputs": [
    {
     "name": "stdout",
     "output_type": "stream",
     "text": [
      "41603\n"
     ]
    }
   ],
   "source": [
    "for i in range(test_input.shape[1]):\n",
    "    if np.array_equal(a, test_input[:,i]):\n",
    "        print(i)"
   ]
  },
  {
   "cell_type": "code",
   "execution_count": 66,
   "metadata": {},
   "outputs": [
    {
     "data": {
      "text/plain": [
       "numpy.ndarray"
      ]
     },
     "execution_count": 66,
     "metadata": {},
     "output_type": "execute_result"
    }
   ],
   "source": [
    "type(a)"
   ]
  },
  {
   "cell_type": "code",
   "execution_count": null,
   "metadata": {},
   "outputs": [],
   "source": []
  }
 ],
 "metadata": {
  "kernelspec": {
   "display_name": "Python 3",
   "language": "python",
   "name": "python3"
  },
  "language_info": {
   "codemirror_mode": {
    "name": "ipython",
    "version": 3
   },
   "file_extension": ".py",
   "mimetype": "text/x-python",
   "name": "python",
   "nbconvert_exporter": "python",
   "pygments_lexer": "ipython3",
   "version": "3.6.8"
  }
 },
 "nbformat": 4,
 "nbformat_minor": 2
}
