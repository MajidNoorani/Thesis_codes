{
 "cells": [
  {
   "cell_type": "code",
   "execution_count": null,
   "metadata": {},
   "outputs": [],
   "source": []
  },
  {
   "cell_type": "code",
   "execution_count": 1,
   "metadata": {},
   "outputs": [
    {
     "name": "stderr",
     "output_type": "stream",
     "text": [
      "Using TensorFlow backend.\n"
     ]
    }
   ],
   "source": [
    "#import libraries.\n",
    "import numpy as np\n",
    "# from tensorflow.keras.models import Sequential\n",
    "# from tensorflow.keras.layers import Dense\n",
    "from tensorflow.python.keras.utils.data_utils import Sequence\n",
    "from keras.models import Sequential, Model\n",
    "from keras.layers import Dense, LeakyReLU, Input, Lambda\n",
    "from keras.wrappers.scikit_learn import KerasRegressor\n",
    "import keras\n",
    "from keras import regularizers, optimizers\n",
    "import sklearn\n",
    "from sklearn.model_selection import cross_val_score\n",
    "from sklearn.model_selection import KFold\n",
    "from sklearn.preprocessing import StandardScaler\n",
    "from sklearn.pipeline import Pipeline\n",
    "from sklearn.metrics import mean_squared_error\n",
    "from keras.initializers import glorot_normal\n",
    "# import sounddevice as sd\n",
    "import tensorflow as tf\n",
    "from mir_eval import separation \n",
    "from pystoi.stoi import stoi \n",
    "import h5py\n",
    "from keras.callbacks import LearningRateScheduler, Callback, ModelCheckpoint\n",
    "from keras.layers.normalization import BatchNormalization\n",
    "from keras.layers import Activation\n",
    "import math\n",
    "from sklearn.utils import shuffle\n",
    "from sklearn import preprocessing\n",
    "from keras.callbacks import EarlyStopping, ModelCheckpoint\n",
    "import matplotlib.pyplot as plt"
   ]
  },
  {
   "cell_type": "code",
   "execution_count": 2,
   "metadata": {},
   "outputs": [],
   "source": [
    "#import libraries.\n",
    "# import matplotlib.pyplot as plt\n",
    "# from tabulate import tabulate\n",
    "import time\n",
    "import os\n",
    "import librosa\n",
    "from librosa.core import stft, istft\n",
    "import time\n",
    "import pickle\n",
    "from keras import backend as K\n",
    "from tensorflow.keras.models import load_model\n",
    "# from keras.models import load_model"
   ]
  },
  {
   "cell_type": "code",
   "execution_count": 3,
   "metadata": {},
   "outputs": [],
   "source": [
    "data_series = str(0)\n",
    "fft_samples = 1025"
   ]
  },
  {
   "cell_type": "code",
   "execution_count": 4,
   "metadata": {},
   "outputs": [
    {
     "name": "stdout",
     "output_type": "stream",
     "text": [
      "(3000, 2050)\n"
     ]
    }
   ],
   "source": [
    "#1\n",
    "h5f = h5py.File('TSP/Predicted/predicted_TSP_Mask' + data_series + '.hdf5','r')\n",
    "input_mask = h5f['predicted_TSP_Mask' + data_series ][0:3000]\n",
    "h5f.close()\n",
    "print(input_mask.shape)"
   ]
  },
  {
   "cell_type": "code",
   "execution_count": 5,
   "metadata": {},
   "outputs": [
    {
     "name": "stdout",
     "output_type": "stream",
     "text": [
      "(2050, 3000)\n"
     ]
    }
   ],
   "source": [
    "#2\n",
    "h5f = h5py.File('TSP/Organized/concatenated/Second_set/Train2_TSP_clean_FFTs'  + data_series + '.hdf5','r')\n",
    "clean_target = h5f['Train2_TSP_clean_FFTs'  + data_series ][:,0:3000]\n",
    "h5f.close()\n",
    "print(clean_target.shape)"
   ]
  },
  {
   "cell_type": "code",
   "execution_count": 6,
   "metadata": {},
   "outputs": [
    {
     "name": "stdout",
     "output_type": "stream",
     "text": [
      "(1025, 3000)\n"
     ]
    }
   ],
   "source": [
    "#3\n",
    "h5f = h5py.File('TSP/Organized/concatenated/Second_set/Train2_TSP_mixed_FFT'  + data_series + '.hdf5','r')\n",
    "input_mixed = h5f['Train2_TSP_mixed_FFT'  + data_series ][:,0:3000]\n",
    "h5f.close()\n",
    "print(input_mixed.shape)"
   ]
  },
  {
   "cell_type": "code",
   "execution_count": 39,
   "metadata": {},
   "outputs": [
    {
     "name": "stdout",
     "output_type": "stream",
     "text": [
      "(21494, 2050)\n"
     ]
    }
   ],
   "source": [
    "h5f = h5py.File('TSP/Predicted/Valid_predicted_TSP_Mask'  + data_series + '.hdf5','r')\n",
    "valid_input_mask = h5f['Valid_predicted_TSP_Mask'  + data_series ][:]\n",
    "h5f.close()\n",
    "print(valid_input_mask.shape)"
   ]
  },
  {
   "cell_type": "code",
   "execution_count": 8,
   "metadata": {},
   "outputs": [
    {
     "name": "stdout",
     "output_type": "stream",
     "text": [
      "(2050, 21494)\n"
     ]
    }
   ],
   "source": [
    "h5f = h5py.File('TSP/Organized/concatenated/Valid_TSP_clean_FFTs'  + data_series + '.hdf5','r')\n",
    "valid_clean_target = h5f['Valid_TSP_clean_FFTs'  + data_series ][:]\n",
    "h5f.close()\n",
    "print(valid_clean_target.shape)"
   ]
  },
  {
   "cell_type": "code",
   "execution_count": 9,
   "metadata": {},
   "outputs": [
    {
     "name": "stdout",
     "output_type": "stream",
     "text": [
      "(1025, 21494)\n"
     ]
    }
   ],
   "source": [
    "h5f = h5py.File('TSP/Organized/concatenated/Valid_TSP_mixed_FFT'  + data_series + '.hdf5','r')\n",
    "valid_input_mixed = h5f['Valid_TSP_mixed_FFT'  + data_series ][:]\n",
    "h5f.close()\n",
    "print(valid_input_mixed.shape)"
   ]
  },
  {
   "cell_type": "code",
   "execution_count": 10,
   "metadata": {},
   "outputs": [
    {
     "name": "stdout",
     "output_type": "stream",
     "text": [
      "(2050, 3000)\n"
     ]
    }
   ],
   "source": [
    "# a = clean_target[0:1025]\n",
    "# b = clean_target[1025:]\n",
    "# true_mask = a/(a+b)\n",
    "# true_mask = np.concatenate((true_mask,b/(a+b)), axis = 0)\n",
    "# print(true_mask.shape)"
   ]
  },
  {
   "cell_type": "code",
   "execution_count": 11,
   "metadata": {},
   "outputs": [
    {
     "name": "stdout",
     "output_type": "stream",
     "text": [
      "(2050, 21494)\n"
     ]
    }
   ],
   "source": [
    "# a = valid_clean_target[0:1025]\n",
    "# b = valid_clean_target[1025:]\n",
    "# valid_true_mask = a/(a+b)\n",
    "# valid_true_mask = np.concatenate((valid_true_mask,b/(a+b)), axis = 0)\n",
    "# print(valid_true_mask.shape)"
   ]
  },
  {
   "cell_type": "code",
   "execution_count": 12,
   "metadata": {},
   "outputs": [],
   "source": [
    "# X = X.T\n",
    "# X_valid = X_valid.T"
   ]
  },
  {
   "cell_type": "code",
   "execution_count": 12,
   "metadata": {},
   "outputs": [],
   "source": [
    "def loss_DNNC(y_true, y_pred, Lambda = 0.1):\n",
    "    loss = K.sum(K.square(y_true - y_pred)) \n",
    "    - Lambda * (K.sum(K.square(y_true[0:fft_samples,:] - y_pred[fft_samples:,:])) + K.sum(K.square(y_true[fft_samples:,:] - y_pred[0:fft_samples,:])))\n",
    "    return loss"
   ]
  },
  {
   "cell_type": "code",
   "execution_count": 17,
   "metadata": {},
   "outputs": [],
   "source": [
    "from keras.backend import *\n",
    "def mult(args):\n",
    "    mask, mixed = args\n",
    "    output0 = mask[:,0:(mask.shape[1]//2)] * mixed[:]\n",
    "    output1 = mask[:,(mask.shape[1]//2):(mask.shape[1])] * mixed[:]\n",
    "    return K.concatenate([output0, output1], axis=1)"
   ]
  },
  {
   "cell_type": "code",
   "execution_count": 34,
   "metadata": {},
   "outputs": [
    {
     "name": "stdout",
     "output_type": "stream",
     "text": [
      "__________________________________________________________________________________________________\n",
      "Layer (type)                    Output Shape         Param #     Connected to                     \n",
      "==================================================================================================\n",
      "input_mask (InputLayer)         (None, 2050)         0                                            \n",
      "__________________________________________________________________________________________________\n",
      "dense_13 (Dense)                (None, 4100)         8409100     input_mask[0][0]                 \n",
      "__________________________________________________________________________________________________\n",
      "dense_14 (Dense)                (None, 4100)         16814100    dense_13[0][0]                   \n",
      "__________________________________________________________________________________________________\n",
      "dense_15 (Dense)                (None, 4100)         16814100    dense_14[0][0]                   \n",
      "__________________________________________________________________________________________________\n",
      "dense_16 (Dense)                (None, 2050)         8407050     dense_15[0][0]                   \n",
      "__________________________________________________________________________________________________\n",
      "input_mixed (InputLayer)        (None, 1025)         0                                            \n",
      "__________________________________________________________________________________________________\n",
      "lambda_4 (Lambda)               (None, 2050)         0           dense_16[0][0]                   \n",
      "                                                                 input_mixed[0][0]                \n",
      "==================================================================================================\n",
      "Total params: 50,444,350\n",
      "Trainable params: 50,444,350\n",
      "Non-trainable params: 0\n",
      "__________________________________________________________________________________________________\n"
     ]
    }
   ],
   "source": [
    "# create model\n",
    "X_dim= 2050\n",
    "y_dim = 2050\n",
    "h_A = [4100, 4100, 4100]\n",
    "estimator_C = Sequential()\n",
    "# input0 : mask\n",
    "# np.min(input_mask.shape)\n",
    "network_mask_input = Input(shape=(2050,),name='input_mask')\n",
    "                           \n",
    "# input1 : clean voice\\\n",
    "# np.min(input_mixed.shape)\n",
    "network_mixed_input = Input(shape=(1025,),name='input_mixed')\n",
    "\n",
    " \n",
    "# the first branch operates on the first input\n",
    "layer1 = Dense(h_A[0], activation=\"sigmoid\")(network_mask_input)\n",
    "layer2 = Dense(h_A[1], activation=\"sigmoid\")(layer1)\n",
    "layer3 = Dense(h_A[2], activation=\"sigmoid\")(layer2)\n",
    "layer_mask = Dense(np.min(clean_target.shape), activation=\"sigmoid\")(layer3)\n",
    "output_layer = Lambda(mult,output_shape = (2050,))([layer_mask, network_mixed_input])\n",
    " \n",
    "estimator_C = Model(inputs=[network_mask_input, network_mixed_input], outputs=output_layer)\n",
    "\n",
    "estimator_C.compile(loss=loss_DNNC, optimizer='adam')\n",
    "estimator_C.summary()"
   ]
  },
  {
   "cell_type": "code",
   "execution_count": 19,
   "metadata": {},
   "outputs": [],
   "source": [
    "class SGDLearningRateTracker(Callback):\n",
    "    def on_epoch_end(self, epoch, logs=None):\n",
    "        print('LR= ', K.eval(self.model.optimizer.lr))\n",
    "        _lr = tf.to_float(self.model.optimizer.lr, name='ToFloat')\n",
    "        _decay = tf.to_float(self.model.optimizer.decay, name='ToFloat')\n",
    "        _iter = tf.to_float(self.model.optimizer.iterations, name='ToFloat')\n",
    "\n",
    "        lr = K.eval(_lr * (1. / (1. + _decay * _iter)))\n",
    "        print(' - LR: {:.6f}\\n'.format(lr))\n",
    "        \n",
    "        \n",
    "  \n",
    "model_saving_filepath_adam = \"Models/Two_stage/C/saved-model-adam-{epoch:03d}-{loss:.4f}.hdf5\"\n",
    "model_saving_checkpoint_adam = ModelCheckpoint(model_saving_filepath_adam, monitor='loss', verbose=0, save_best_only=False, save_weights_only=False, mode='auto', period=1)\n",
    "\n",
    "model_saving_filepath_SGD = \"Models/Two_stage/C/adam_SBS/saved-model-SGD-{epoch:03d}-{loss:.4f}.hdf5\"\n",
    "model_saving_checkpoint_SGD = ModelCheckpoint(model_saving_filepath_SGD, monitor='loss', verbose=0, save_best_only=False, save_weights_only=False, mode='auto', period=1)\n",
    "\n",
    "model_saving_filepath_RMSprop = \"Models/Two_stage/C/adam_SBS/saved-model-RMSprop-{epoch:03d}-{loss:.4f}.hdf5\"\n",
    "model_saving_checkpoint_RMSprop = ModelCheckpoint(model_saving_filepath_RMSprop, monitor='loss', verbose=0, save_best_only=False, save_weights_only=False, mode='auto', period=1)\n",
    "\n",
    "model_saving_filepath_Adagrad = \"Models/Two_stage/C/adam_SBS/saved-model-Adagrad-{epoch:03d}-{loss:.4f}.hdf5\"\n",
    "model_saving_checkpoint_Adagrad = ModelCheckpoint(model_saving_filepath_Adagrad, monitor='loss', verbose=0, save_best_only=False, save_weights_only=False, mode='auto', period=1)\n",
    "\n",
    "model_saving_filepath_Adadelta = \"Models/Two_stage/C/adam_SBS/saved-model-Adadelta-{epoch:03d}-{loss:.4f}.hdf5\"\n",
    "model_saving_checkpoint_Adadelta = ModelCheckpoint(model_saving_filepath_Adadelta, monitor='loss', verbose=0, save_best_only=False, save_weights_only=False, mode='auto', period=1)\n",
    "\n",
    "\n",
    "\n",
    " \t\n",
    "ES_calback = EarlyStopping(monitor='val_loss', mode='min', verbose=1, patience=20)"
   ]
  },
  {
   "cell_type": "code",
   "execution_count": 44,
   "metadata": {
    "scrolled": true
   },
   "outputs": [
    {
     "name": "stdout",
     "output_type": "stream",
     "text": [
      "^^^^^^^^^^^^^^^^^^^^^ Training on mixed5^^^^^^^^^^^^^^^^^^^^^\n",
      "Train on 3000 samples, validate on 21494 samples\n",
      "Epoch 1/2\n",
      "3000/3000 [==============================] - 32s 11ms/step - loss: 157267.1643 - val_loss: 410657.8766\n",
      "Epoch 2/2\n",
      "3000/3000 [==============================] - 32s 11ms/step - loss: 154947.0742 - val_loss: 416958.7077\n",
      "---------------------------second part of training---------------------------\n"
     ]
    }
   ],
   "source": [
    "# # seed = 1\n",
    "# # np.random.seed(seed)\n",
    "# print(\"^^^^^^^^^^^^^^^^^^^^^ Training with 5-fold on mixed0^^^^^^^^^^^^^^^^^^^^^\")\n",
    "batch_size = 100\n",
    "# tic = time.time()\n",
    "# estimator_A = KerasRegressor(build_fn=DNN_A, epochs = 10, batch_size=batch_size, shuffle = True, verbose=1)\n",
    "# kfold = KFold(n_splits=2, random_state=None)\n",
    "# kfold = KFold(n_splits=5)\n",
    "# results = cross_val_score(estimator_A, X.T, y.T, cv=kfold)\n",
    "# print(\"Results: %.2f (%.2f) MSE\" % (results.mean(), results.std()))\n",
    "# toc_fold = time.time()\n",
    "\n",
    "print(\"^^^^^^^^^^^^^^^^^^^^^ Training on mixed5^^^^^^^^^^^^^^^^^^^^^\")\n",
    "\n",
    "callbacks_list = [model_saving_checkpoint_adam, ES_calback]\n",
    "history = estimator_C.fit({'input_mask':input_mask, 'input_mixed':input_mixed.T}, y=clean_target.T,\n",
    "                          validation_data= ({'input_mask':valid_inout_mask, 'input_mixed':valid_input_mixed.T}, valid_clean_target.T),\n",
    "                          epochs = 2, shuffle = True, batch_size=batch_size, steps_per_epoch=None, verbose = 1, callbacks= callbacks_list)\n",
    "# toc_adam = time.time(\n",
    "# estimator_A.save_weights('model_weights.h5')\n",
    "print(\"---------------------------second part of training---------------------------\")\n",
    "# estimator_A.optimizer = optimizers.SGD()\n",
    "# # estimator_A.load_weights('model_weights.h5')\n",
    "# callbacks_list = [model_saving_checkpoint_SGD, ES_calback]\n",
    "# history1 = estimator_A.fit(X.T, Mask.T, validation_data=(X_valid.T, Mask_valid.T), epochs=100, shuffle = True, batch_size=batch_size, steps_per_epoch=None, verbose = 1, callbacks= callbacks_list) \n",
    "\n",
    "# estimator_A.optimizer = optimizers.RMSprop()\n",
    "# # estimator_A.load_weights('model_weights.h5')\n",
    "# callbacks_list = [model_saving_checkpoint_RMSprop, ES_calback]\n",
    "# history1 = estimator_A.fit(X.T, Mask.T, validation_data=(X_valid.T, Mask_valid.T), epochs=100, shuffle = True, batch_size=batch_size, steps_per_epoch=None, verbose = 1, callbacks= callbacks_list) \n",
    "\n",
    "# estimator_A.optimizer = optimizers.Adagrad()\n",
    "# # estimator_A.load_weights('model_weights.h5')\n",
    "# callbacks_list = [model_saving_checkpoint_Adagrad, ES_calback]\n",
    "# history1 = estimator_A.fit(X.T, Mask.T, validation_data=(X_valid.T, Mask_valid.T), epochs=100, shuffle = True, batch_size=batch_size, steps_per_epoch=None, verbose = 1, callbacks= callbacks_list) \n",
    "\n",
    "# estimator_A.optimizer = optimizers.Adadelta()\n",
    "# # estimator_A.load_weights('model_weights.h5')\n",
    "# callbacks_list = [model_saving_checkpoint_Adadelta, ES_calback]\n",
    "# history1 = estimator_A.fit(X.T, Mask.T, validation_data=(X_valid.T, Mask_valid.T), epochs=100, shuffle = True, batch_size=batch_size, steps_per_epoch=None, verbose = 1, callbacks= callbacks_list) \n",
    "\n",
    "\n",
    "\n",
    "# toc_fit = time.time()"
   ]
  },
  {
   "cell_type": "code",
   "execution_count": 69,
   "metadata": {},
   "outputs": [
    {
     "name": "stdout",
     "output_type": "stream",
     "text": [
      "Time=  0.4218147822883394\n",
      "Time=  0.4218148082494736\n"
     ]
    }
   ],
   "source": [
    "print('Time= ', (toc_adam - tic)/3600)\n",
    "print('Time= ', (toc_fit - tic)/3600)\n",
    "# print(\"tIME OF K-FOLD=\", (toc_fold - tic)/60)\n",
    "# print(\"tIME OF FIT=\", (toc_fit - tic)/60)"
   ]
  },
  {
   "cell_type": "code",
   "execution_count": 25,
   "metadata": {},
   "outputs": [],
   "source": [
    "estimator_A.model.save('Models/Two_stage/TSP_model3.h5')"
   ]
  },
  {
   "cell_type": "code",
   "execution_count": 70,
   "metadata": {},
   "outputs": [
    {
     "data": {
      "image/png": "[encoded data removed]",
      "text/plain": [
       "<Figure size 432x288 with 1 Axes>"
      ]
     },
     "metadata": {
      "needs_background": "light"
     },
     "output_type": "display_data"
    }
   ],
   "source": [
    "plt.plot(history.history['loss'])\n",
    "plt.plot(history.history['val_loss'])\n",
    "plt.title('model loss')\n",
    "plt.ylabel('loss')\n",
    "plt.xlabel('epoch')\n",
    "plt.legend(['train', 'val'], loc='upper left')\n",
    "plt.show()"
   ]
  },
  {
   "cell_type": "code",
   "execution_count": 52,
   "metadata": {},
   "outputs": [
    {
     "data": {
      "image/png": "[encoded data removed]",
      "text/plain": [
       "<Figure size 432x288 with 1 Axes>"
      ]
     },
     "metadata": {
      "needs_background": "light"
     },
     "output_type": "display_data"
    }
   ],
   "source": [
    "\n",
    "plt.plot(history1.history['loss'])\n",
    "plt.plot(history1.history['val_loss'])\n",
    "plt.title('model loss')\n",
    "plt.ylabel('loss')\n",
    "plt.xlabel('epoch')\n",
    "plt.legend(['train', 'val'], loc='upper left')\n",
    "plt.show()"
   ]
  },
  {
   "cell_type": "code",
   "execution_count": 23,
   "metadata": {},
   "outputs": [],
   "source": [
    "from numba import cuda\n",
    "cuda.select_device(0)\n",
    "cuda.close()"
   ]
  },
  {
   "cell_type": "code",
   "execution_count": 99,
   "metadata": {},
   "outputs": [],
   "source": [
    "estimator_A.model.save_weights('Models/Two_stage/weights12.h5')"
   ]
  },
  {
   "cell_type": "code",
   "execution_count": 9,
   "metadata": {},
   "outputs": [
    {
     "name": "stdout",
     "output_type": "stream",
     "text": [
      "WARNING:tensorflow:From /home/majid/anaconda3/envs/Myenv/lib/python3.6/site-packages/tensorflow/python/ops/resource_variable_ops.py:435: colocate_with (from tensorflow.python.framework.ops) is deprecated and will be removed in a future version.\n",
      "Instructions for updating:\n",
      "Colocations handled automatically by placer.\n",
      "WARNING:tensorflow:From /home/majid/anaconda3/envs/Myenv/lib/python3.6/site-packages/tensorflow/python/keras/utils/losses_utils.py:170: to_float (from tensorflow.python.ops.math_ops) is deprecated and will be removed in a future version.\n",
      "Instructions for updating:\n",
      "Use tf.cast instead.\n",
      "WARNING:tensorflow:From /home/majid/anaconda3/envs/Myenv/lib/python3.6/site-packages/tensorflow/python/ops/math_ops.py:3066: to_int32 (from tensorflow.python.ops.math_ops) is deprecated and will be removed in a future version.\n",
      "Instructions for updating:\n",
      "Use tf.cast instead.\n"
     ]
    }
   ],
   "source": [
    "estimator_A = load_model('Models/Two_stage/trained_model19.h5')"
   ]
  },
  {
   "cell_type": "code",
   "execution_count": null,
   "metadata": {},
   "outputs": [],
   "source": []
  },
  {
   "cell_type": "code",
   "execution_count": null,
   "metadata": {},
   "outputs": [],
   "source": []
  },
  {
   "cell_type": "code",
   "execution_count": null,
   "metadata": {},
   "outputs": [],
   "source": [
    "# two_opt_filepath=\"half_trained.hdf5\"\n",
    "# two_opt_checkpoint = ModelCheckpoint(two_opt_filepath, monitor = 'loss', verbose = 0, save_best_only = True, mode = 'min') \n",
    "# callbacks_list = [two_opt_checkpoint]\n",
    "# callbacks_list = [changer]\n",
    "\n",
    "fit\n",
    "\n",
    "\n",
    "# new_model = load_model(two_opt_filepath)\n",
    "# two_opt_checkpoint = ModelCheckpoint(two_opt_filepath, monitor = 'loss', verbose=1, save_best_only=True, mode='min')\n",
    "# callbacks_list = [two_opt_checkpoint]\n",
    "# new_model.optimizer = optimizers.SGD(lr=0.00001, decay=1e-6, momentum=0.9, nesterov=True)\n",
    "# history_sgd = new_model.fit(X.T, Mask.T, shuffle = True, epochs = 10, batch_size=10,  steps_per_epoch=None, callbacks=callbacks_list)\n",
    "# estimator_A.fit (X.T, y.T, shuffle = True, batch_size=100,  steps_per_epoch=None, callbacks = [changer])\n",
    "# prediction = estimator_A.predict(X_test)\n"
   ]
  }
 ],
 "metadata": {
  "kernelspec": {
   "display_name": "Python 3",
   "language": "python",
   "name": "python3"
  },
  "language_info": {
   "codemirror_mode": {
    "name": "ipython",
    "version": 3
   },
   "file_extension": ".py",
   "mimetype": "text/x-python",
   "name": "python",
   "nbconvert_exporter": "python",
   "pygments_lexer": "ipython3",
   "version": "3.6.8"
  }
 },
 "nbformat": 4,
 "nbformat_minor": 2
}
