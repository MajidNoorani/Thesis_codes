{
 "cells": [
  {
   "cell_type": "code",
   "execution_count": 1,
   "metadata": {},
   "outputs": [
    {
     "name": "stderr",
     "output_type": "stream",
     "text": [
      "Using TensorFlow backend.\n"
     ]
    }
   ],
   "source": [
    "#import libraries.\n",
    "import numpy as np\n",
    "# from tensorflow.keras.models import Sequential\n",
    "# from tensorflow.keras.layers import Dense\n",
    "from tensorflow.python.keras.utils.data_utils import Sequence\n",
    "from keras.models import Sequential\n",
    "from keras.layers import Dense\n",
    "from keras.wrappers.scikit_learn import KerasRegressor\n",
    "import keras\n",
    "from keras import regularizers\n",
    "import sklearn\n",
    "from sklearn.model_selection import cross_val_score\n",
    "from sklearn.model_selection import KFold\n",
    "from sklearn.preprocessing import StandardScaler\n",
    "from sklearn.pipeline import Pipeline\n",
    "from sklearn.metrics import mean_squared_error\n",
    "import sounddevice as sd\n",
    "import tensorflow as tf\n",
    "from mir_eval import separation \n",
    "from pystoi.stoi import stoi \n",
    "import h5py\n",
    "from keras.callbacks import LearningRateScheduler\n",
    "from keras.layers.normalization import BatchNormalization\n",
    "from keras.layers import Activation\n",
    "import math\n",
    "from sklearn.utils import shuffle"
   ]
  },
  {
   "cell_type": "code",
   "execution_count": 2,
   "metadata": {},
   "outputs": [],
   "source": [
    "#import libraries.\n",
    "# import matplotlib.pyplot as plt\n",
    "# from tabulate import tabulate\n",
    "import time\n",
    "import os\n",
    "import librosa\n",
    "from librosa.core import stft, istft\n",
    "import time\n",
    "import pickle\n",
    "from keras import backend as K\n",
    "from tensorflow.keras.models import load_model\n",
    "# from keras.models import load_model"
   ]
  },
  {
   "cell_type": "code",
   "execution_count": 3,
   "metadata": {},
   "outputs": [],
   "source": [
    "def reconstruct(wave,angle):\n",
    "    recon1 = wave*np.cos(angle)+wave*np.sin(angle)*1j\n",
    "#     recon = np.sqrt(np.power(10, wave))\n",
    "#     recon1 = recon*np.cos(angle)+recon*np.sin(angle)*1j\n",
    "    recon = librosa.core.istft((recon1.T), hop_length=160, win_length=400, window='hann')\n",
    "    return recon"
   ]
  },
  {
   "cell_type": "code",
   "execution_count": 4,
   "metadata": {},
   "outputs": [
    {
     "name": "stdout",
     "output_type": "stream",
     "text": [
      "WARNING:tensorflow:From /home/majid/anaconda3/envs/Myenv/lib/python3.6/site-packages/tensorflow/python/ops/init_ops.py:96: calling VarianceScaling.__init__ (from tensorflow.python.ops.init_ops) with distribution=normal is deprecated and will be removed in a future version.\n",
      "Instructions for updating:\n",
      "`normal` is a deprecated alias for `truncated_normal`\n",
      "WARNING:tensorflow:From /home/majid/anaconda3/envs/Myenv/lib/python3.6/site-packages/tensorflow/python/ops/resource_variable_ops.py:435: colocate_with (from tensorflow.python.framework.ops) is deprecated and will be removed in a future version.\n",
      "Instructions for updating:\n",
      "Colocations handled automatically by placer.\n",
      "WARNING:tensorflow:From /home/majid/anaconda3/envs/Myenv/lib/python3.6/site-packages/tensorflow/python/keras/utils/losses_utils.py:170: to_float (from tensorflow.python.ops.math_ops) is deprecated and will be removed in a future version.\n",
      "Instructions for updating:\n",
      "Use tf.cast instead.\n",
      "WARNING:tensorflow:From /home/majid/anaconda3/envs/Myenv/lib/python3.6/site-packages/tensorflow/python/ops/math_ops.py:3066: to_int32 (from tensorflow.python.ops.math_ops) is deprecated and will be removed in a future version.\n",
      "Instructions for updating:\n",
      "Use tf.cast instead.\n"
     ]
    }
   ],
   "source": [
    "estimator_A = load_model('Models/Two_stage/trained_model12.h5')"
   ]
  },
  {
   "cell_type": "code",
   "execution_count": 7,
   "metadata": {},
   "outputs": [],
   "source": [
    "# FF\n",
    "h5f = h5py.File('TIMIT/Organized/concatenated/Test/Mixed_FF_test4.hdf5','r')\n",
    "test_input = h5f['mixed_FF_test4'][:]\n",
    "h5f.close()\n",
    "h5f = h5py.File('TIMIT/Organized/concatenated/Test/clean_FF_test4.hdf5','r')\n",
    "test_target = h5f['clean_FF_test4'][:]\n",
    "h5f.close()\n",
    "h5f = h5py.File('TIMIT/Organized/concatenated/Test/clean_FF_test_phase4.hdf5','r')\n",
    "angle_clean = h5f['clean_FF_test-phase4'][:]\n",
    "h5f.close()\n",
    "h5f = h5py.File('TIMIT/Organized/concatenated/Test/Mixed_FF_test_phase4.hdf5','r')\n",
    "angle_mixed = h5f['mixed_FF_test_phase4'][::]\n",
    "h5f.close()"
   ]
  },
  {
   "cell_type": "code",
   "execution_count": 48,
   "metadata": {},
   "outputs": [],
   "source": [
    "# MM\n",
    "h5f = h5py.File('TIMIT/Organized/concatenated/Test/Mixed_MM_test4.hdf5','r')\n",
    "test_input = h5f['mixed_MM_test4'][:]\n",
    "h5f.close()\n",
    "h5f = h5py.File('TIMIT/Organized/concatenated/Test/clean_MM_test4.hdf5','r')\n",
    "test_target = h5f['clean_MM_test4'][:]\n",
    "h5f.close()\n",
    "h5f = h5py.File('TIMIT/Organized/concatenated/Test/clean_MM_test_phase4.hdf5','r')\n",
    "angle_clean = h5f['clean_MM_test_phase4'][:]\n",
    "h5f.close()\n",
    "h5f = h5py.File('TIMIT/Organized/concatenated/Test/Mixed_MM_test_phase4.hdf5','r')\n",
    "angle_mixed = h5f['mixed_MM_test_phase4'][::]\n",
    "h5f.close()"
   ]
  },
  {
   "cell_type": "code",
   "execution_count": 80,
   "metadata": {},
   "outputs": [],
   "source": [
    "# FM\n",
    "h5f = h5py.File('TIMIT/Organized/concatenated/Test/Mixed_FM_test4.hdf5','r')\n",
    "test_input = h5f['mixed_FM_test4'][:]\n",
    "h5f.close()\n",
    "h5f = h5py.File('TIMIT/Organized/concatenated/Test/clean_FM_test4.hdf5','r')\n",
    "test_target = h5f['clean_FM_test4'][:]\n",
    "h5f.close()\n",
    "h5f = h5py.File('TIMIT/Organized/concatenated/Test/clean_FM_test_phase4.hdf5','r')\n",
    "angle_clean = h5f['clean_FM_test_phase4'][:]\n",
    "h5f.close()\n",
    "h5f = h5py.File('TIMIT/Organized/concatenated/Test/Mixed_FM_test_phase4.hdf5','r')\n",
    "angle_mixed = h5f['mixed_FM_test_phase4'][::]\n",
    "h5f.close()"
   ]
  },
  {
   "cell_type": "code",
   "execution_count": 81,
   "metadata": {},
   "outputs": [],
   "source": [
    "test_input = sklearn.preprocessing.normalize(test_input, norm='l2', axis=1, copy=True, return_norm=False)\n",
    "\n",
    "# Data1 = sklearn.preprocessing.normalize(Data1, norm='l2', axis=1, copy=True, return_norm=False)"
   ]
  },
  {
   "cell_type": "code",
   "execution_count": 82,
   "metadata": {},
   "outputs": [],
   "source": [
    "test_target = sklearn.preprocessing.normalize(test_target, norm='l2', axis=1, copy=True, return_norm=False)"
   ]
  },
  {
   "cell_type": "code",
   "execution_count": 83,
   "metadata": {},
   "outputs": [
    {
     "name": "stdout",
     "output_type": "stream",
     "text": [
      "(18634, 257)\n",
      "(18634, 514)\n",
      "(18634, 514)\n",
      "(18634, 257)\n"
     ]
    }
   ],
   "source": [
    "print(test_input.shape)\n",
    "print(test_target.shape)\n",
    "print(angle_clean.shape)\n",
    "print(angle_mixed.shape)"
   ]
  },
  {
   "cell_type": "code",
   "execution_count": 84,
   "metadata": {},
   "outputs": [],
   "source": [
    "fft_samples = 257"
   ]
  },
  {
   "cell_type": "code",
   "execution_count": 85,
   "metadata": {},
   "outputs": [],
   "source": [
    "prediction1 = estimator_A.predict(test_input)"
   ]
  },
  {
   "cell_type": "code",
   "execution_count": 115,
   "metadata": {},
   "outputs": [],
   "source": [
    "speaker1 = np.multiply(test_input, prediction1[:,0:fft_samples])\n",
    "speaker2 = np.multiply(test_input, prediction1[:,fft_samples:])"
   ]
  },
  {
   "cell_type": "code",
   "execution_count": 102,
   "metadata": {},
   "outputs": [],
   "source": [
    "# prediction[1000]"
   ]
  },
  {
   "cell_type": "code",
   "execution_count": 122,
   "metadata": {},
   "outputs": [],
   "source": [
    "s1 = reconstruct(speaker1, angle_mixed)\n",
    "s2 = reconstruct(speaker2, angle_mixed)"
   ]
  },
  {
   "cell_type": "code",
   "execution_count": 119,
   "metadata": {},
   "outputs": [],
   "source": [
    "clean_recon1 = reconstruct(test_target[:,0:fft_samples], angle_clean[:,0:fft_samples])\n",
    "clean_recon2 = reconstruct(test_target[:,fft_samples:], angle_clean[:,fft_samples:])"
   ]
  },
  {
   "cell_type": "code",
   "execution_count": 120,
   "metadata": {},
   "outputs": [],
   "source": [
    "mixed_recon = reconstruct(test_input[:], angle_mixed)"
   ]
  },
  {
   "cell_type": "code",
   "execution_count": 123,
   "metadata": {},
   "outputs": [],
   "source": [
    "st_recon1 = stoi(s1, clean_recon1, 16000, extended=False)\n",
    "st_recon2 = stoi(s2, clean_recon2, 16000, extended=False)"
   ]
  },
  {
   "cell_type": "code",
   "execution_count": 124,
   "metadata": {},
   "outputs": [],
   "source": [
    "st_mixed = stoi(mixed_recon, clean_recon, 16000, extended=False)"
   ]
  },
  {
   "cell_type": "code",
   "execution_count": 125,
   "metadata": {},
   "outputs": [
    {
     "name": "stdout",
     "output_type": "stream",
     "text": [
      "STOI_recon1= 0.6571472273996947\n",
      "STOI_recon2= 0.6095785571954762\n",
      "STOI_mixed= 0.5201365922978889\n"
     ]
    }
   ],
   "source": [
    "print('STOI_recon1=', st_recon1)\n",
    "print('STOI_recon2=', st_recon2)\n",
    "print('STOI_mixed=', st_mixed)"
   ]
  },
  {
   "cell_type": "code",
   "execution_count": 126,
   "metadata": {},
   "outputs": [],
   "source": [
    "sdr_recon1, sir_recon1, sar_recon1, perm_recon1 = separation.bss_eval_sources(s1, clean_recon1, compute_permutation=True)\n",
    "sdr_recon2, sir_recon2, sar_recon2, perm_recon2 = separation.bss_eval_sources(s2, clean_recon2, compute_permutation=True)"
   ]
  },
  {
   "cell_type": "code",
   "execution_count": 127,
   "metadata": {},
   "outputs": [],
   "source": [
    "sdr_mixed, sir_mixed, sar_mixed, perm_mixed = separation.bss_eval_sources(mixed_recon, clean_recon, compute_permutation=True)"
   ]
  },
  {
   "cell_type": "code",
   "execution_count": 128,
   "metadata": {},
   "outputs": [
    {
     "name": "stdout",
     "output_type": "stream",
     "text": [
      "SDR_recon1= [1.25020044]\n",
      "SDR_recon2= [2.47262778]\n",
      "SDR_mixed= [-0.44207504]\n"
     ]
    }
   ],
   "source": [
    "print('SDR_recon1=', sdr_recon1)\n",
    "print('SDR_recon2=', sdr_recon2)\n",
    "print('SDR_mixed=', sdr_mixed)"
   ]
  },
  {
   "cell_type": "code",
   "execution_count": 134,
   "metadata": {},
   "outputs": [],
   "source": [
    "# start = int(len(s1)/20)\n",
    "# stop = int(len(s1)/10)\n",
    "start = 0\n",
    "stop = 200000"
   ]
  },
  {
   "cell_type": "code",
   "execution_count": 135,
   "metadata": {},
   "outputs": [],
   "source": [
    "sd.play(s1[start:stop]*200, 16000)"
   ]
  },
  {
   "cell_type": "code",
   "execution_count": 136,
   "metadata": {},
   "outputs": [],
   "source": [
    "sd.play(s2[start:stop]*200, 16000)"
   ]
  },
  {
   "cell_type": "code",
   "execution_count": 68,
   "metadata": {},
   "outputs": [],
   "source": [
    "sd.play(clean_recon[0:int(len(s1)/20)]*10, 16000)"
   ]
  },
  {
   "cell_type": "code",
   "execution_count": 69,
   "metadata": {},
   "outputs": [],
   "source": [
    "sd.play(mixed_recon[0:int(len(s1)/20)]*10, 16000)"
   ]
  },
  {
   "cell_type": "code",
   "execution_count": null,
   "metadata": {},
   "outputs": [],
   "source": []
  },
  {
   "cell_type": "code",
   "execution_count": 84,
   "metadata": {},
   "outputs": [],
   "source": [
    "# data_series = str(4)"
   ]
  },
  {
   "cell_type": "code",
   "execution_count": 85,
   "metadata": {},
   "outputs": [],
   "source": [
    "# h5f = h5py.File('TIMIT/Organized/concatenated/mixed'  + data_series + '.hdf5','r')\n",
    "# X = h5f['mixed'  + data_series ][:]\n",
    "# h5f.close()"
   ]
  },
  {
   "cell_type": "code",
   "execution_count": 86,
   "metadata": {},
   "outputs": [],
   "source": [
    "# h5f = h5py.File('TIMIT/Organized/concatenated/clean'  + data_series + '.hdf5','r')\n",
    "# y = h5f['clean'  + data_series ][:]\n",
    "# h5f.close()"
   ]
  },
  {
   "cell_type": "code",
   "execution_count": 89,
   "metadata": {},
   "outputs": [],
   "source": [
    "# X = X.T\n",
    "# y = y.T"
   ]
  },
  {
   "cell_type": "code",
   "execution_count": 101,
   "metadata": {},
   "outputs": [],
   "source": [
    "# clean_recon1 = reconstruct(y[0:200,fft_samples: fft_samples*2], angle_clean[0:200,fft_samples: fft_samples*2])\n",
    "# sd.play(clean_recon1*10, 16000)"
   ]
  },
  {
   "cell_type": "code",
   "execution_count": 102,
   "metadata": {},
   "outputs": [],
   "source": [
    "# mixed_recon1 = reconstruct(X[0:200,0:fft_samples], angle_mixed[0:200])\n",
    "# sd.play(mixed_recon1*10, 16000)"
   ]
  },
  {
   "cell_type": "code",
   "execution_count": null,
   "metadata": {},
   "outputs": [],
   "source": []
  }
 ],
 "metadata": {
  "kernelspec": {
   "display_name": "Python 3",
   "language": "python",
   "name": "python3"
  },
  "language_info": {
   "codemirror_mode": {
    "name": "ipython",
    "version": 3
   },
   "file_extension": ".py",
   "mimetype": "text/x-python",
   "name": "python",
   "nbconvert_exporter": "python",
   "pygments_lexer": "ipython3",
   "version": "3.6.8"
  }
 },
 "nbformat": 4,
 "nbformat_minor": 2
}
