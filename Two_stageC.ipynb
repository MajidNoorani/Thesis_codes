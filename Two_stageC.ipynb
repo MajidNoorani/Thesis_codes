{
 "cells": [
  {
   "cell_type": "code",
   "execution_count": 3,
   "metadata": {},
   "outputs": [
    {
     "name": "stderr",
     "output_type": "stream",
     "text": [
      "Using TensorFlow backend.\n"
     ]
    }
   ],
   "source": [
    "#import libraries.\n",
    "import numpy as np\n",
    "# from tensorflow.keras.models import Sequential\n",
    "# from tensorflow.keras.layers import Dense\n",
    "from tensorflow.python.keras.utils.data_utils import Sequence\n",
    "from keras.models import Sequential\n",
    "from keras.layers import Dense, LeakyReLU\n",
    "from keras.wrappers.scikit_learn import KerasRegressor\n",
    "import keras\n",
    "from keras import regularizers\n",
    "import sklearn\n",
    "from sklearn.model_selection import cross_val_score\n",
    "from sklearn.model_selection import KFold\n",
    "from sklearn.preprocessing import StandardScaler\n",
    "from sklearn.pipeline import Pipeline\n",
    "from sklearn.metrics import mean_squared_error\n",
    "from keras.initializers import glorot_normal\n",
    "# import sounddevice as sd\n",
    "import tensorflow as tf\n",
    "from mir_eval import separation \n",
    "from pystoi.stoi import stoi \n",
    "import h5py\n",
    "from keras.callbacks import LearningRateScheduler\n",
    "from keras.layers.normalization import BatchNormalization\n",
    "from keras.layers import Activation\n",
    "import math\n",
    "from sklearn.utils import shuffle\n",
    "from sklearn import preprocessing\n",
    "from keras.callbacks import EarlyStopping, ModelCheckpoint\n",
    "import matplotlib.pyplot as plt"
   ]
  },
  {
   "cell_type": "code",
   "execution_count": 4,
   "metadata": {},
   "outputs": [],
   "source": [
    "#import libraries.\n",
    "# import matplotlib.pyplot as plt\n",
    "# from tabulate import tabulate\n",
    "import time\n",
    "import os\n",
    "import librosa\n",
    "from librosa.core import stft, istft\n",
    "import time\n",
    "import pickle\n",
    "from keras import backend as K\n",
    "from tensorflow.keras.models import load_model\n",
    "# from keras.models import load_model"
   ]
  },
  {
   "cell_type": "code",
   "execution_count": 5,
   "metadata": {},
   "outputs": [],
   "source": [
    "def loss_DNNC(y_true, y_pred, Lambda = 0.05):\n",
    "    loss = K.sum(K.square(y_true - y_pred)) \n",
    "    - Lambda * K.sum(K.square(y_true[0:257,:] - y_pred[0:257,:]) + K.square(y_true[257:,:] - y_pred[257:,:]))\n",
    "    return loss"
   ]
  },
  {
   "cell_type": "code",
   "execution_count": 6,
   "metadata": {},
   "outputs": [],
   "source": [
    "def reconstruct(wave,angle):\n",
    "    recon1 = wave*np.cos(angle)+wave*np.sin(angle)*1j\n",
    "#     recon = np.sqrt(np.power(10, wave))\n",
    "#     recon1 = recon*np.cos(angle)+recon*np.sin(angle)*1j\n",
    "    recon = librosa.core.istft((recon1.T), hop_length=160, win_length=400, window='hann')\n",
    "    return recon"
   ]
  },
  {
   "cell_type": "code",
   "execution_count": 55,
   "metadata": {},
   "outputs": [],
   "source": [
    "data_series = str(4)"
   ]
  },
  {
   "cell_type": "code",
   "execution_count": 56,
   "metadata": {},
   "outputs": [
    {
     "name": "stdout",
     "output_type": "stream",
     "text": [
      "(514, 295522)\n"
     ]
    }
   ],
   "source": [
    "h5f = h5py.File('TIMIT/Organized/Two_stage_sec_set/predicted_sec_set.hdf5','r')\n",
    "X = h5f['predicted_sec_set'][:]\n",
    "h5f.close()\n",
    "print(X.shape)"
   ]
  },
  {
   "cell_type": "code",
   "execution_count": 57,
   "metadata": {},
   "outputs": [
    {
     "name": "stdout",
     "output_type": "stream",
     "text": [
      "(514, 295522)\n"
     ]
    }
   ],
   "source": [
    "h5f = h5py.File('TIMIT/Organized/concatenated/clean'  + data_series + '_sec.hdf5','r')\n",
    "y = h5f['clean'  + data_series + '_sec'][:]\n",
    "h5f.close()\n",
    "print(y.shape)"
   ]
  },
  {
   "cell_type": "code",
   "execution_count": 58,
   "metadata": {},
   "outputs": [
    {
     "name": "stdout",
     "output_type": "stream",
     "text": [
      "(55383, 257)\n"
     ]
    }
   ],
   "source": [
    "h5f = h5py.File('TIMIT/Organized/concatenated/valid_mixed'  + data_series + '.hdf5','r')\n",
    "X_valid = h5f['valid_mixed'  + data_series ][:]\n",
    "h5f.close()\n",
    "print(X_valid.shape)"
   ]
  },
  {
   "cell_type": "code",
   "execution_count": 59,
   "metadata": {},
   "outputs": [
    {
     "name": "stdout",
     "output_type": "stream",
     "text": [
      "(55383, 514)\n"
     ]
    }
   ],
   "source": [
    "h5f = h5py.File('TIMIT/Organized/concatenated/valid_clean'  + data_series + '.hdf5','r')\n",
    "y_valid = h5f['valid_clean'  + data_series ][:]\n",
    "h5f.close()\n",
    "print(y_valid.shape)"
   ]
  },
  {
   "cell_type": "code",
   "execution_count": 12,
   "metadata": {},
   "outputs": [
    {
     "data": {
      "text/plain": [
       "0.121167555"
      ]
     },
     "execution_count": 12,
     "metadata": {},
     "output_type": "execute_result"
    }
   ],
   "source": [
    "np.linalg.norm(X[:,0])"
   ]
  },
  {
   "cell_type": "code",
   "execution_count": 60,
   "metadata": {},
   "outputs": [],
   "source": [
    "X_train = preprocessing.normalize(X, norm='l2', axis=0, copy=True)\n",
    "y_train = preprocessing.normalize(y, norm='l2', axis=0, copy=True)"
   ]
  },
  {
   "cell_type": "code",
   "execution_count": 61,
   "metadata": {},
   "outputs": [],
   "source": [
    "X_valid = preprocessing.normalize(X_valid, norm='l2', axis=0, copy=True)"
   ]
  },
  {
   "cell_type": "code",
   "execution_count": 62,
   "metadata": {},
   "outputs": [],
   "source": [
    "estimator_A = load_model('Models/Two_stage/trained_model19.h5')\n",
    "prediction = estimator_A.predict(X_valid)\n",
    "prediction0 = np.multiply(X_valid, prediction[:,0:257])\n",
    "prediction1 = np.multiply(X_valid, prediction[:,257:])\n",
    "X_valid = np.concatenate((prediction0, prediction1), axis=1)"
   ]
  },
  {
   "cell_type": "code",
   "execution_count": 63,
   "metadata": {},
   "outputs": [],
   "source": [
    "X_valid = preprocessing.normalize(X_valid, norm='l2', axis=0, copy=True)\n",
    "y_valid = preprocessing.normalize(y_valid, norm='l2', axis=0, copy=True)"
   ]
  },
  {
   "cell_type": "code",
   "execution_count": 64,
   "metadata": {},
   "outputs": [
    {
     "name": "stdout",
     "output_type": "stream",
     "text": [
      "(514, 295522)\n",
      "(514, 295522)\n",
      "(55383, 514)\n",
      "(55383, 514)\n"
     ]
    }
   ],
   "source": [
    "print(X.shape)\n",
    "print(y.shape)\n",
    "print(X_valid.shape)\n",
    "print(X_valid.shape)\n"
   ]
  },
  {
   "cell_type": "code",
   "execution_count": 68,
   "metadata": {},
   "outputs": [],
   "source": [
    "X_dim= 514\n",
    "y_dim = 514\n",
    "h_C = [1028, 1028, 1028]\n",
    "def DNN_C():\n",
    "    # create model\n",
    "    model = Sequential()\n",
    "    model.add(Dense(h_C[0], input_dim = X_dim, kernel_initializer='normal'))\n",
    "    model.add(BatchNormalization())\n",
    "    model.add(Activation('sigmoid'))\n",
    "    \n",
    "    model.add(Dense(h_C[1], kernel_initializer='normal'))\n",
    "    model.add(BatchNormalization())\n",
    "    model.add(Activation('sigmoid'))\n",
    "    \n",
    "    model.add(Dense(h_C[2], kernel_initializer='normal'))\n",
    "    model.add(BatchNormalization())\n",
    "    model.add(Activation('sigmoid'))\n",
    "    \n",
    "    model.add(Dense(y_dim, kernel_initializer='normal'))\n",
    "    model.add(BatchNormalization())\n",
    "    model.add(Activation('sigmoid'))\n",
    "    # Compile model\n",
    "    model.compile(loss=loss_DNNC, optimizer='adam')\n",
    "    return model"
   ]
  },
  {
   "cell_type": "code",
   "execution_count": 71,
   "metadata": {},
   "outputs": [
    {
     "name": "stdout",
     "output_type": "stream",
     "text": [
      "^^^^^^^^^^^^^^^^^^^^^ Training on mixed5^^^^^^^^^^^^^^^^^^^^^\n",
      "Train on 295522 samples, validate on 55383 samples\n",
      "Epoch 1/200\n",
      "295522/295522 [==============================] - 26s 88us/step - loss: 5380.3147 - val_loss: 1268.3572\n",
      "Epoch 2/200\n",
      "295522/295522 [==============================] - 26s 87us/step - loss: 1738.0682 - val_loss: 178.6418\n",
      "Epoch 3/200\n",
      "295522/295522 [==============================] - 25s 86us/step - loss: 1497.9548 - val_loss: 67.3805\n",
      "Epoch 4/200\n",
      "295522/295522 [==============================] - 24s 81us/step - loss: 1458.3881 - val_loss: 77.9630\n",
      "Epoch 5/200\n",
      "295522/295522 [==============================] - 24s 82us/step - loss: 1438.8661 - val_loss: 73.1857\n",
      "Epoch 6/200\n",
      "295522/295522 [==============================] - 24s 81us/step - loss: 1426.8275 - val_loss: 70.0564\n",
      "Epoch 7/200\n",
      "295522/295522 [==============================] - 25s 84us/step - loss: 1417.4443 - val_loss: 94.8682\n",
      "Epoch 8/200\n",
      "295522/295522 [==============================] - 25s 85us/step - loss: 1410.3849 - val_loss: 79.4999\n",
      "Epoch 9/200\n",
      "295522/295522 [==============================] - 26s 89us/step - loss: 1403.4441 - val_loss: 57.4320\n",
      "Epoch 10/200\n",
      "295522/295522 [==============================] - 24s 80us/step - loss: 1397.6258 - val_loss: 78.7456\n",
      "Epoch 11/200\n",
      "295522/295522 [==============================] - 24s 80us/step - loss: 1392.7185 - val_loss: 76.7533\n",
      "Epoch 12/200\n",
      "295522/295522 [==============================] - 25s 85us/step - loss: 1388.3869 - val_loss: 93.8341\n",
      "Epoch 13/200\n",
      "295522/295522 [==============================] - 24s 80us/step - loss: 1384.2452 - val_loss: 79.3103\n",
      "Epoch 14/200\n",
      "295522/295522 [==============================] - 25s 85us/step - loss: 1380.0830 - val_loss: 99.8360\n",
      "Epoch 15/200\n",
      "295522/295522 [==============================] - 25s 83us/step - loss: 1376.5104 - val_loss: 93.1160\n",
      "Epoch 16/200\n",
      "295522/295522 [==============================] - 25s 85us/step - loss: 1372.9107 - val_loss: 95.4235\n",
      "Epoch 17/200\n",
      "295522/295522 [==============================] - 24s 82us/step - loss: 1369.8011 - val_loss: 79.2191\n",
      "Epoch 18/200\n",
      "295522/295522 [==============================] - 25s 83us/step - loss: 1366.5114 - val_loss: 93.8859\n",
      "Epoch 19/200\n",
      "295522/295522 [==============================] - 24s 82us/step - loss: 1362.7816 - val_loss: 54.4510\n",
      "Epoch 20/200\n",
      "295522/295522 [==============================] - 25s 84us/step - loss: 1360.0664 - val_loss: 88.2939\n",
      "Epoch 21/200\n",
      "295522/295522 [==============================] - 24s 81us/step - loss: 1357.2457 - val_loss: 91.7688\n",
      "Epoch 22/200\n",
      "295522/295522 [==============================] - 24s 82us/step - loss: 1355.2260 - val_loss: 96.4071\n",
      "Epoch 23/200\n",
      "295522/295522 [==============================] - 24s 81us/step - loss: 1351.8593 - val_loss: 91.9796\n",
      "Epoch 24/200\n",
      "295522/295522 [==============================] - 24s 82us/step - loss: 1349.4359 - val_loss: 105.0232\n",
      "Epoch 25/200\n",
      "295522/295522 [==============================] - 24s 81us/step - loss: 1346.4961 - val_loss: 71.2700\n",
      "Epoch 26/200\n",
      "295522/295522 [==============================] - 24s 82us/step - loss: 1344.1861 - val_loss: 87.8854\n",
      "Epoch 27/200\n",
      "295522/295522 [==============================] - 25s 83us/step - loss: 1341.2425 - val_loss: 137.4807\n",
      "Epoch 28/200\n",
      "295522/295522 [==============================] - 24s 81us/step - loss: 1338.9137 - val_loss: 114.0201\n",
      "Epoch 29/200\n",
      "295522/295522 [==============================] - 25s 84us/step - loss: 1336.7585 - val_loss: 78.3679\n",
      "Epoch 30/200\n",
      "295522/295522 [==============================] - 25s 85us/step - loss: 1334.4445 - val_loss: 136.4911\n",
      "Epoch 31/200\n",
      "295522/295522 [==============================] - 26s 87us/step - loss: 1332.1242 - val_loss: 95.2931\n",
      "Epoch 32/200\n",
      "295522/295522 [==============================] - 24s 80us/step - loss: 1329.5815 - val_loss: 160.9178\n",
      "Epoch 33/200\n",
      "295522/295522 [==============================] - 25s 83us/step - loss: 1327.4786 - val_loss: 154.7008\n",
      "Epoch 34/200\n",
      "295522/295522 [==============================] - 26s 89us/step - loss: 1325.2437 - val_loss: 112.0143\n",
      "Epoch 35/200\n",
      "295522/295522 [==============================] - 24s 81us/step - loss: 1322.7961 - val_loss: 49.3192\n",
      "Epoch 36/200\n",
      "295522/295522 [==============================] - 24s 82us/step - loss: 1321.0371 - val_loss: 100.4056\n",
      "Epoch 37/200\n",
      "295522/295522 [==============================] - 26s 87us/step - loss: 1318.7436 - val_loss: 88.0137\n",
      "Epoch 38/200\n",
      "295522/295522 [==============================] - 25s 84us/step - loss: 1317.4419 - val_loss: 93.4058\n",
      "Epoch 39/200\n",
      "295522/295522 [==============================] - 25s 85us/step - loss: 1314.5631 - val_loss: 113.1780\n",
      "Epoch 40/200\n",
      "295522/295522 [==============================] - 24s 82us/step - loss: 1312.6010 - val_loss: 86.6959\n",
      "Epoch 41/200\n",
      "295522/295522 [==============================] - 24s 80us/step - loss: 1310.5571 - val_loss: 83.5126\n",
      "Epoch 42/200\n",
      "295522/295522 [==============================] - 25s 86us/step - loss: 1308.7245 - val_loss: 130.6023\n",
      "Epoch 43/200\n",
      "295522/295522 [==============================] - 23s 79us/step - loss: 1306.6712 - val_loss: 264.6384\n",
      "Epoch 44/200\n",
      "295522/295522 [==============================] - 24s 82us/step - loss: 1304.7341 - val_loss: 111.4300\n",
      "Epoch 45/200\n",
      "295522/295522 [==============================] - 26s 87us/step - loss: 1303.0826 - val_loss: 203.7206\n",
      "Epoch 46/200\n",
      "295522/295522 [==============================] - 25s 84us/step - loss: 1300.2932 - val_loss: 112.4495\n",
      "Epoch 47/200\n",
      "295522/295522 [==============================] - 25s 85us/step - loss: 1298.5435 - val_loss: 128.3745\n",
      "Epoch 48/200\n",
      "295522/295522 [==============================] - 24s 81us/step - loss: 1296.9931 - val_loss: 92.5948\n",
      "Epoch 49/200\n",
      "295522/295522 [==============================] - 24s 83us/step - loss: 1294.9959 - val_loss: 296.2266\n",
      "Epoch 50/200\n",
      "295522/295522 [==============================] - 24s 81us/step - loss: 1292.8950 - val_loss: 101.0211\n",
      "Epoch 51/200\n",
      "295522/295522 [==============================] - 24s 82us/step - loss: 1291.7529 - val_loss: 96.8215\n",
      "Epoch 52/200\n",
      "295522/295522 [==============================] - 24s 80us/step - loss: 1289.3599 - val_loss: 122.6989\n",
      "Epoch 53/200\n",
      "295522/295522 [==============================] - 25s 85us/step - loss: 1287.6019 - val_loss: 364.2437\n",
      "Epoch 54/200\n",
      "295522/295522 [==============================] - 25s 86us/step - loss: 1285.9453 - val_loss: 103.0106\n",
      "Epoch 55/200\n",
      "295522/295522 [==============================] - 26s 86us/step - loss: 1284.1562 - val_loss: 57.3471\n",
      "Epoch 56/200\n",
      "295522/295522 [==============================] - 24s 80us/step - loss: 1282.8305 - val_loss: 185.0613\n",
      "Epoch 57/200\n",
      "295522/295522 [==============================] - 24s 83us/step - loss: 1281.1042 - val_loss: 173.1874\n",
      "Epoch 58/200\n",
      "295522/295522 [==============================] - 24s 80us/step - loss: 1279.2919 - val_loss: 75.7761\n",
      "Epoch 59/200\n",
      "295522/295522 [==============================] - 24s 81us/step - loss: 1277.3691 - val_loss: 129.1780\n",
      "Epoch 60/200\n",
      "295522/295522 [==============================] - 25s 83us/step - loss: 1276.1756 - val_loss: 341.5604\n",
      "Epoch 61/200\n",
      "295522/295522 [==============================] - 25s 83us/step - loss: 1274.1073 - val_loss: 85.9299\n",
      "Epoch 62/200\n",
      "295522/295522 [==============================] - 24s 82us/step - loss: 1272.4492 - val_loss: 166.8246\n",
      "Epoch 63/200\n",
      "295522/295522 [==============================] - 25s 83us/step - loss: 1271.6670 - val_loss: 129.8563\n",
      "Epoch 64/200\n",
      "295522/295522 [==============================] - 24s 80us/step - loss: 1269.8501 - val_loss: 104.7108\n",
      "Epoch 65/200\n",
      "295522/295522 [==============================] - 25s 84us/step - loss: 1268.4641 - val_loss: 281.5642\n",
      "Epoch 66/200\n",
      "295522/295522 [==============================] - 26s 86us/step - loss: 1266.6738 - val_loss: 78.4069\n",
      "Epoch 67/200\n",
      "295522/295522 [==============================] - 24s 82us/step - loss: 1264.9163 - val_loss: 159.6819\n",
      "Epoch 68/200\n",
      "295522/295522 [==============================] - 25s 83us/step - loss: 1263.6285 - val_loss: 134.0714\n",
      "Epoch 69/200\n",
      "295522/295522 [==============================] - 25s 83us/step - loss: 1262.3637 - val_loss: 129.6984\n",
      "Epoch 70/200\n",
      "295522/295522 [==============================] - 24s 83us/step - loss: 1260.5418 - val_loss: 263.9452\n",
      "Epoch 71/200\n",
      "295522/295522 [==============================] - 26s 88us/step - loss: 1259.9771 - val_loss: 63.7113\n",
      "Epoch 72/200\n",
      "295522/295522 [==============================] - 24s 82us/step - loss: 1258.5366 - val_loss: 157.7297\n",
      "Epoch 73/200\n",
      "295522/295522 [==============================] - 24s 82us/step - loss: 1257.4278 - val_loss: 82.9020\n",
      "Epoch 74/200\n",
      "295522/295522 [==============================] - 24s 81us/step - loss: 1255.5421 - val_loss: 84.5655\n",
      "Epoch 75/200\n",
      "295522/295522 [==============================] - 26s 88us/step - loss: 1253.8398 - val_loss: 75.0951\n",
      "Epoch 76/200\n",
      "295522/295522 [==============================] - 25s 83us/step - loss: 1253.3726 - val_loss: 120.4102\n",
      "Epoch 77/200\n",
      "295522/295522 [==============================] - 26s 87us/step - loss: 1251.9385 - val_loss: 436.1895\n",
      "Epoch 78/200\n",
      "295522/295522 [==============================] - 25s 84us/step - loss: 1250.3630 - val_loss: 398.5532\n",
      "Epoch 79/200\n",
      "295522/295522 [==============================] - 25s 86us/step - loss: 1249.0299 - val_loss: 159.7744\n",
      "Epoch 80/200\n",
      "295522/295522 [==============================] - 25s 84us/step - loss: 1248.0417 - val_loss: 270.7434\n",
      "Epoch 81/200\n",
      "295522/295522 [==============================] - 25s 85us/step - loss: 1246.9618 - val_loss: 101.7157\n",
      "Epoch 82/200\n",
      "295522/295522 [==============================] - 25s 83us/step - loss: 1245.3670 - val_loss: 111.9342\n",
      "Epoch 83/200\n",
      "295522/295522 [==============================] - 26s 88us/step - loss: 1244.1743 - val_loss: 63.7907\n",
      "Epoch 84/200\n",
      "295522/295522 [==============================] - 25s 85us/step - loss: 1242.9469 - val_loss: 324.4315\n",
      "Epoch 85/200\n",
      "295522/295522 [==============================] - 25s 86us/step - loss: 1241.6755 - val_loss: 82.5059\n",
      "Epoch 86/200\n",
      "295522/295522 [==============================] - 23s 79us/step - loss: 1241.2593 - val_loss: 36.1714\n",
      "Epoch 87/200\n",
      "295522/295522 [==============================] - 26s 87us/step - loss: 1239.5820 - val_loss: 690.3569\n",
      "Epoch 88/200\n",
      "295522/295522 [==============================] - 26s 87us/step - loss: 1238.5611 - val_loss: 328.1013\n",
      "Epoch 89/200\n",
      "295522/295522 [==============================] - 25s 86us/step - loss: 1237.0621 - val_loss: 139.2717\n",
      "Epoch 90/200\n",
      "295522/295522 [==============================] - 25s 85us/step - loss: 1236.9642 - val_loss: 117.6777\n",
      "Epoch 91/200\n",
      "295522/295522 [==============================] - 25s 84us/step - loss: 1235.1957 - val_loss: 73.1848\n",
      "Epoch 92/200\n",
      "295522/295522 [==============================] - 24s 82us/step - loss: 1233.9532 - val_loss: 105.2349\n",
      "Epoch 93/200\n",
      "295522/295522 [==============================] - 25s 86us/step - loss: 1233.2152 - val_loss: 687.4383\n",
      "Epoch 94/200\n",
      "295522/295522 [==============================] - 25s 84us/step - loss: 1232.3206 - val_loss: 383.1043\n",
      "Epoch 95/200\n",
      "295522/295522 [==============================] - 26s 87us/step - loss: 1230.7193 - val_loss: 50.8812\n",
      "Epoch 96/200\n",
      "295522/295522 [==============================] - 25s 84us/step - loss: 1229.6791 - val_loss: 105.9606\n",
      "Epoch 97/200\n",
      "295522/295522 [==============================] - 25s 83us/step - loss: 1229.2459 - val_loss: 226.4698\n",
      "Epoch 98/200\n",
      "295522/295522 [==============================] - 26s 90us/step - loss: 1227.6784 - val_loss: 62.9451\n",
      "Epoch 99/200\n",
      "295522/295522 [==============================] - 25s 83us/step - loss: 1227.0482 - val_loss: 202.2641\n",
      "Epoch 100/200\n",
      "295522/295522 [==============================] - 25s 83us/step - loss: 1225.5645 - val_loss: 393.3465\n",
      "Epoch 101/200\n",
      "295522/295522 [==============================] - 25s 86us/step - loss: 1225.0375 - val_loss: 124.4641\n",
      "Epoch 102/200\n",
      "295522/295522 [==============================] - 24s 82us/step - loss: 1223.8065 - val_loss: 124.6138\n",
      "Epoch 103/200\n",
      "295522/295522 [==============================] - 25s 83us/step - loss: 1223.0533 - val_loss: 413.8492\n",
      "Epoch 104/200\n",
      "295522/295522 [==============================] - 24s 81us/step - loss: 1222.5193 - val_loss: 138.0468\n",
      "Epoch 105/200\n",
      "295522/295522 [==============================] - 25s 85us/step - loss: 1221.2983 - val_loss: 123.2141\n",
      "Epoch 106/200\n",
      "295522/295522 [==============================] - 24s 81us/step - loss: 1220.8096 - val_loss: 147.5944\n",
      "Epoch 107/200\n",
      "295522/295522 [==============================] - 25s 85us/step - loss: 1219.6942 - val_loss: 174.9792\n",
      "Epoch 108/200\n",
      "295522/295522 [==============================] - 25s 83us/step - loss: 1218.4493 - val_loss: 101.4254\n",
      "Epoch 109/200\n",
      "295522/295522 [==============================] - 25s 86us/step - loss: 1217.9411 - val_loss: 91.8577\n",
      "Epoch 110/200\n",
      "295522/295522 [==============================] - 24s 82us/step - loss: 1216.9965 - val_loss: 557.1387\n",
      "Epoch 111/200\n",
      "295522/295522 [==============================] - 26s 89us/step - loss: 1215.8409 - val_loss: 305.6010\n",
      "Epoch 112/200\n",
      "295522/295522 [==============================] - 25s 84us/step - loss: 1214.9760 - val_loss: 452.3025\n",
      "Epoch 113/200\n",
      "295522/295522 [==============================] - 26s 87us/step - loss: 1214.0231 - val_loss: 205.9749\n",
      "Epoch 114/200\n",
      "295522/295522 [==============================] - 25s 83us/step - loss: 1213.5421 - val_loss: 61.9517\n",
      "Epoch 115/200\n",
      "295522/295522 [==============================] - 25s 85us/step - loss: 1212.0099 - val_loss: 132.5154\n",
      "Epoch 116/200\n",
      "295522/295522 [==============================] - 26s 86us/step - loss: 1211.9334 - val_loss: 184.7373\n",
      "Epoch 117/200\n",
      "295522/295522 [==============================] - 26s 87us/step - loss: 1210.8125 - val_loss: 156.2605\n",
      "Epoch 118/200\n",
      "295522/295522 [==============================] - 24s 83us/step - loss: 1210.1217 - val_loss: 96.6526\n",
      "Epoch 119/200\n",
      "295522/295522 [==============================] - 24s 82us/step - loss: 1209.4828 - val_loss: 32.1234\n",
      "Epoch 120/200\n",
      "295522/295522 [==============================] - 25s 85us/step - loss: 1208.4866 - val_loss: 158.4664\n",
      "Epoch 121/200\n",
      "295522/295522 [==============================] - 25s 83us/step - loss: 1207.6404 - val_loss: 43.9319\n",
      "Epoch 122/200\n",
      "295522/295522 [==============================] - 24s 82us/step - loss: 1206.7388 - val_loss: 712.4088\n",
      "Epoch 123/200\n",
      "295522/295522 [==============================] - 26s 89us/step - loss: 1205.8688 - val_loss: 191.9854\n",
      "Epoch 124/200\n",
      "295522/295522 [==============================] - 25s 84us/step - loss: 1205.1400 - val_loss: 60.0013\n",
      "Epoch 125/200\n",
      "295522/295522 [==============================] - 24s 82us/step - loss: 1204.1962 - val_loss: 77.3764\n",
      "Epoch 126/200\n",
      "295522/295522 [==============================] - 24s 82us/step - loss: 1203.5156 - val_loss: 253.7154\n",
      "Epoch 127/200\n",
      "295522/295522 [==============================] - 24s 81us/step - loss: 1202.4065 - val_loss: 36.3291\n",
      "Epoch 128/200\n",
      "295522/295522 [==============================] - 25s 84us/step - loss: 1202.0870 - val_loss: 278.7149\n",
      "Epoch 129/200\n",
      "295522/295522 [==============================] - 25s 86us/step - loss: 1201.5648 - val_loss: 88.4851\n",
      "Epoch 130/200\n",
      "295522/295522 [==============================] - 25s 83us/step - loss: 1201.0023 - val_loss: 85.4321\n",
      "Epoch 131/200\n",
      "295522/295522 [==============================] - 26s 87us/step - loss: 1199.7710 - val_loss: 307.1048\n",
      "Epoch 132/200\n",
      "295522/295522 [==============================] - 25s 83us/step - loss: 1199.5923 - val_loss: 345.7561\n",
      "Epoch 133/200\n",
      "295522/295522 [==============================] - 25s 84us/step - loss: 1198.1135 - val_loss: 55.6425\n",
      "Epoch 134/200\n",
      "295522/295522 [==============================] - 25s 85us/step - loss: 1197.3046 - val_loss: 92.7910\n",
      "Epoch 135/200\n",
      "295522/295522 [==============================] - 25s 84us/step - loss: 1197.0921 - val_loss: 172.0001\n",
      "Epoch 136/200\n",
      "295522/295522 [==============================] - 24s 80us/step - loss: 1196.6611 - val_loss: 95.7918\n",
      "Epoch 137/200\n",
      "295522/295522 [==============================] - 23s 79us/step - loss: 1195.4957 - val_loss: 427.2822\n",
      "Epoch 138/200\n",
      "295522/295522 [==============================] - 25s 85us/step - loss: 1194.3657 - val_loss: 73.2746\n",
      "Epoch 139/200\n",
      "295522/295522 [==============================] - 24s 81us/step - loss: 1193.8296 - val_loss: 87.5791\n",
      "Epoch 140/200\n",
      "295522/295522 [==============================] - 24s 80us/step - loss: 1193.3575 - val_loss: 111.4721\n",
      "Epoch 141/200\n",
      "295522/295522 [==============================] - 24s 82us/step - loss: 1192.4040 - val_loss: 542.4139\n",
      "Epoch 142/200\n"
     ]
    },
    {
     "name": "stdout",
     "output_type": "stream",
     "text": [
      "295522/295522 [==============================] - 25s 83us/step - loss: 1191.7685 - val_loss: 147.3500\n",
      "Epoch 143/200\n",
      "295522/295522 [==============================] - 24s 83us/step - loss: 1191.4238 - val_loss: 83.0429\n",
      "Epoch 144/200\n",
      "295522/295522 [==============================] - 25s 83us/step - loss: 1190.6132 - val_loss: 72.6543\n",
      "Epoch 145/200\n",
      "295522/295522 [==============================] - 25s 83us/step - loss: 1189.6052 - val_loss: 394.0444\n",
      "Epoch 146/200\n",
      "295522/295522 [==============================] - 25s 86us/step - loss: 1189.3451 - val_loss: 128.2043\n",
      "Epoch 147/200\n",
      "295522/295522 [==============================] - 25s 83us/step - loss: 1188.5902 - val_loss: 348.3904\n",
      "Epoch 148/200\n",
      "295522/295522 [==============================] - 24s 83us/step - loss: 1187.4650 - val_loss: 172.8352\n",
      "Epoch 149/200\n",
      "295522/295522 [==============================] - 25s 84us/step - loss: 1187.2429 - val_loss: 232.4129\n",
      "Epoch 150/200\n",
      "295522/295522 [==============================] - 25s 86us/step - loss: 1186.7851 - val_loss: 168.2574\n",
      "Epoch 151/200\n",
      "295522/295522 [==============================] - 24s 82us/step - loss: 1185.6327 - val_loss: 707.4340\n",
      "Epoch 152/200\n",
      "295522/295522 [==============================] - 25s 86us/step - loss: 1185.5353 - val_loss: 299.5310\n",
      "Epoch 153/200\n",
      "295522/295522 [==============================] - 25s 85us/step - loss: 1184.7012 - val_loss: 154.3008\n",
      "Epoch 154/200\n",
      "295522/295522 [==============================] - 25s 84us/step - loss: 1184.0829 - val_loss: 127.1463\n",
      "Epoch 155/200\n",
      "295522/295522 [==============================] - 24s 82us/step - loss: 1183.2198 - val_loss: 255.3554\n",
      "Epoch 156/200\n",
      "295522/295522 [==============================] - 25s 86us/step - loss: 1182.8470 - val_loss: 101.3727\n",
      "Epoch 157/200\n",
      "295522/295522 [==============================] - 25s 86us/step - loss: 1182.4279 - val_loss: 77.7610\n",
      "Epoch 158/200\n",
      "295522/295522 [==============================] - 25s 83us/step - loss: 1181.2224 - val_loss: 90.5273\n",
      "Epoch 159/200\n",
      "295522/295522 [==============================] - 25s 83us/step - loss: 1180.5467 - val_loss: 269.1107\n",
      "Epoch 160/200\n",
      "295522/295522 [==============================] - 25s 86us/step - loss: 1180.2294 - val_loss: 74.7966\n",
      "Epoch 161/200\n",
      "295522/295522 [==============================] - 26s 87us/step - loss: 1180.3607 - val_loss: 150.6396\n",
      "Epoch 162/200\n",
      "295522/295522 [==============================] - 24s 83us/step - loss: 1178.6403 - val_loss: 125.1965\n",
      "Epoch 163/200\n",
      "295522/295522 [==============================] - 24s 83us/step - loss: 1178.2815 - val_loss: 129.8109\n",
      "Epoch 164/200\n",
      "295522/295522 [==============================] - 24s 82us/step - loss: 1178.1254 - val_loss: 337.1059\n",
      "Epoch 165/200\n",
      "295522/295522 [==============================] - 24s 81us/step - loss: 1176.5391 - val_loss: 119.1408\n",
      "Epoch 166/200\n",
      "295522/295522 [==============================] - 27s 90us/step - loss: 1176.7764 - val_loss: 206.9201\n",
      "Epoch 167/200\n",
      "295522/295522 [==============================] - 24s 83us/step - loss: 1176.1413 - val_loss: 236.0485\n",
      "Epoch 168/200\n",
      "295522/295522 [==============================] - 24s 81us/step - loss: 1175.3045 - val_loss: 193.0095\n",
      "Epoch 169/200\n",
      "295522/295522 [==============================] - 24s 82us/step - loss: 1174.9107 - val_loss: 60.4617\n",
      "Epoch 170/200\n",
      "295522/295522 [==============================] - 25s 84us/step - loss: 1174.9548 - val_loss: 89.2328\n",
      "Epoch 171/200\n",
      "295522/295522 [==============================] - 26s 87us/step - loss: 1173.6114 - val_loss: 252.6755\n",
      "Epoch 172/200\n",
      "295522/295522 [==============================] - 24s 80us/step - loss: 1173.0716 - val_loss: 283.5297\n",
      "Epoch 173/200\n",
      "295522/295522 [==============================] - 25s 85us/step - loss: 1173.1114 - val_loss: 546.0649\n",
      "Epoch 174/200\n",
      "295522/295522 [==============================] - 25s 86us/step - loss: 1171.3545 - val_loss: 137.4579\n",
      "Epoch 175/200\n",
      "295522/295522 [==============================] - 25s 84us/step - loss: 1171.6210 - val_loss: 77.9862\n",
      "Epoch 176/200\n",
      "295522/295522 [==============================] - 26s 86us/step - loss: 1170.9646 - val_loss: 107.8140\n",
      "Epoch 177/200\n",
      "295522/295522 [==============================] - 25s 84us/step - loss: 1170.9618 - val_loss: 124.6798\n",
      "Epoch 178/200\n",
      "295522/295522 [==============================] - 25s 86us/step - loss: 1169.9576 - val_loss: 729.3618\n",
      "Epoch 179/200\n",
      "295522/295522 [==============================] - 26s 88us/step - loss: 1170.0537 - val_loss: 434.4603\n",
      "Epoch 180/200\n",
      "295522/295522 [==============================] - 25s 85us/step - loss: 1168.9123 - val_loss: 209.9695\n",
      "Epoch 181/200\n",
      "295522/295522 [==============================] - 25s 86us/step - loss: 1168.3465 - val_loss: 301.2002\n",
      "Epoch 182/200\n",
      "295522/295522 [==============================] - 25s 85us/step - loss: 1168.3729 - val_loss: 252.1197\n",
      "Epoch 183/200\n",
      "295522/295522 [==============================] - 24s 83us/step - loss: 1167.1850 - val_loss: 272.8556\n",
      "Epoch 184/200\n",
      "295522/295522 [==============================] - 26s 87us/step - loss: 1166.7189 - val_loss: 61.1334\n",
      "Epoch 185/200\n",
      "295522/295522 [==============================] - 24s 82us/step - loss: 1166.2198 - val_loss: 106.8491\n",
      "Epoch 186/200\n",
      "295522/295522 [==============================] - 25s 84us/step - loss: 1166.0496 - val_loss: 37.3342\n",
      "Epoch 187/200\n",
      "295522/295522 [==============================] - 26s 88us/step - loss: 1166.0067 - val_loss: 200.3872\n",
      "Epoch 188/200\n",
      "295522/295522 [==============================] - 24s 82us/step - loss: 1164.6762 - val_loss: 197.1330\n",
      "Epoch 189/200\n",
      "295522/295522 [==============================] - 25s 86us/step - loss: 1163.8901 - val_loss: 305.2243\n",
      "Epoch 190/200\n",
      "295522/295522 [==============================] - 24s 82us/step - loss: 1163.6792 - val_loss: 150.6757\n",
      "Epoch 191/200\n",
      "295522/295522 [==============================] - 24s 81us/step - loss: 1163.3294 - val_loss: 154.2204\n",
      "Epoch 192/200\n",
      "295522/295522 [==============================] - 26s 87us/step - loss: 1162.6399 - val_loss: 129.6560\n",
      "Epoch 193/200\n",
      "295522/295522 [==============================] - 24s 82us/step - loss: 1162.0924 - val_loss: 135.7289\n",
      "Epoch 194/200\n",
      "295522/295522 [==============================] - 23s 79us/step - loss: 1161.8382 - val_loss: 406.3093\n",
      "Epoch 195/200\n",
      "295522/295522 [==============================] - 24s 82us/step - loss: 1161.4051 - val_loss: 67.5227\n",
      "Epoch 196/200\n",
      "295522/295522 [==============================] - 26s 89us/step - loss: 1161.2309 - val_loss: 246.8491\n",
      "Epoch 197/200\n",
      "295522/295522 [==============================] - 25s 84us/step - loss: 1160.4152 - val_loss: 119.1919\n",
      "Epoch 198/200\n",
      "295522/295522 [==============================] - 25s 86us/step - loss: 1159.8524 - val_loss: 147.7955\n",
      "Epoch 199/200\n",
      "295522/295522 [==============================] - 24s 81us/step - loss: 1159.9117 - val_loss: 521.0996\n",
      "Epoch 200/200\n",
      "295522/295522 [==============================] - 27s 91us/step - loss: 1158.5626 - val_loss: 65.9531\n"
     ]
    }
   ],
   "source": [
    "batch_size = 100\n",
    "tic = time.time()\n",
    "estimator_C = KerasRegressor(build_fn=DNN_C, epochs = 200, batch_size=batch_size, shuffle = True, verbose=1)\n",
    "# kfold = KFold(n_splits=2, random_state=None)\n",
    "# kfold = KFold(n_splits=5)\n",
    "# results = cross_val_score(estimator_A, X.T, y.T, cv=kfold)\n",
    "# print(\"Results: %.2f (%.2f) MSE\" % (results.mean(), results.std()))\n",
    "# toc_fold = time.time()\n",
    "\n",
    "print(\"^^^^^^^^^^^^^^^^^^^^^ Training on mixed5^^^^^^^^^^^^^^^^^^^^^\")\n",
    "# filepath=\"half_trained.hdf5\"\n",
    "# checkpoint = ModelCheckpoint(filepath, monitor = 'loss', verbose = 0, save_best_only = True, mode = 'min') \n",
    "# callbacks_list = [checkpoint]\n",
    "history = estimator_C.fit(X.T, y.T, validation_data=(X_valid, y_valid), shuffle = True, batch_size=batch_size,  steps_per_epoch=None)\n",
    "toc_adam = time.time()\n",
    "# print(\"---------------------------second part of training---------------------------\")\n",
    "# new_model = load_model(filepath)\n",
    "# checkpoint = ModelCheckpoint(filepath, monitor='loss', verbose=1, save?_best_only=True, mode='min')\n",
    "# callbacks_list = [checkpoint]\n",
    "# new_model.optimizer = optimizers.SGD(lr=0.001, decay=1e-6, momentum=0.9, nesterov=True)\n",
    "# new_model.fit(X.T, Mask.T, shuffle = True, epochs = 100, batch_size=100,  steps_per_epoch=None, callbacks=callbacks_list)\n",
    "# estimator_A.fit (X.T, y.T, shuffle = True, batch_size=100,  steps_per_epoch=None, callbacks = [changer])\n",
    "# prediction = estimator_A.predict(X_test)\n",
    "\n",
    "toc_fit = time.time()"
   ]
  },
  {
   "cell_type": "code",
   "execution_count": 72,
   "metadata": {},
   "outputs": [],
   "source": [
    "estimator_C.model.save('Models/Two_stage/Model0_C0.h5')"
   ]
  },
  {
   "cell_type": "code",
   "execution_count": 73,
   "metadata": {},
   "outputs": [
    {
     "data": {
      "image/png": "[encoded data removed]",
      "text/plain": [
       "<Figure size 432x288 with 1 Axes>"
      ]
     },
     "metadata": {
      "needs_background": "light"
     },
     "output_type": "display_data"
    }
   ],
   "source": [
    "\n",
    "plt.plot(history.history['loss'])\n",
    "plt.plot(history.history['val_loss'])\n",
    "plt.title('model loss')\n",
    "plt.ylabel('loss')\n",
    "plt.xlabel('epoch')\n",
    "plt.legend(['train', 'val'], loc='upper left')\n",
    "plt.show()"
   ]
  },
  {
   "cell_type": "code",
   "execution_count": 74,
   "metadata": {},
   "outputs": [
    {
     "name": "stdout",
     "output_type": "stream",
     "text": [
      "Time=  82.56514866749446\n"
     ]
    }
   ],
   "source": [
    "print('Time= ', (toc_fit - tic)/60)"
   ]
  },
  {
   "cell_type": "code",
   "execution_count": null,
   "metadata": {},
   "outputs": [],
   "source": []
  },
  {
   "cell_type": "code",
   "execution_count": 8,
   "metadata": {},
   "outputs": [],
   "source": [
    "data_series = str(4)\n",
    "test_point_start0 = 0\n",
    "test_point_stop0 = 1000"
   ]
  },
  {
   "cell_type": "code",
   "execution_count": 9,
   "metadata": {},
   "outputs": [
    {
     "name": "stdout",
     "output_type": "stream",
     "text": [
      "(514, 1000)\n",
      "(257, 1000)\n",
      "(514, 1000)\n",
      "(257, 1000)\n"
     ]
    }
   ],
   "source": [
    "h5f = h5py.File('TIMIT/Organized/Two_stage_sec_set/predicted_sec_set.hdf5','r')\n",
    "test_input = h5f['predicted_sec_set'][:, test_point_start0 : test_point_stop0]\n",
    "h5f.close()\n",
    "print(test_input.shape)\n",
    "h5f = h5py.File('TIMIT/Organized/concatenated/phase' + data_series + '_sec.hdf5','r')\n",
    "angle_mixed = h5f['phase' + data_series + '_sec'][:, test_point_start0 : test_point_stop0]\n",
    "h5f.close()\n",
    "print(angle_mixed.shape)\n",
    "h5f = h5py.File('TIMIT/Organized/concatenated/clean' + data_series + '_sec.hdf5','r')\n",
    "test_target = h5f['clean' + data_series + '_sec'][:, test_point_start0 : test_point_stop0]\n",
    "h5f.close()\n",
    "print(test_target.shape)\n",
    "h5f = h5py.File('TIMIT/Organized/concatenated/phase' + data_series + '_sec.hdf5','r')\n",
    "angle_clean = h5f['phase' + data_series + '_sec'][:, test_point_start0 : test_point_stop0]\n",
    "h5f.close()\n",
    "print(angle_clean.shape)"
   ]
  },
  {
   "cell_type": "code",
   "execution_count": 10,
   "metadata": {},
   "outputs": [],
   "source": [
    "test_input = preprocessing.normalize(test_input, norm='l2', axis=0, copy=True)"
   ]
  },
  {
   "cell_type": "code",
   "execution_count": 11,
   "metadata": {},
   "outputs": [
    {
     "data": {
      "text/plain": [
       "1.0"
      ]
     },
     "execution_count": 11,
     "metadata": {},
     "output_type": "execute_result"
    }
   ],
   "source": [
    "np.linalg.norm(test_input[:,0])"
   ]
  },
  {
   "cell_type": "code",
   "execution_count": 12,
   "metadata": {},
   "outputs": [
    {
     "ename": "NameError",
     "evalue": "name 'estimator_C' is not defined",
     "output_type": "error",
     "traceback": [
      "\u001b[0;31m---------------------------------------------------------------------------\u001b[0m",
      "\u001b[0;31mNameError\u001b[0m                                 Traceback (most recent call last)",
      "\u001b[0;32m<ipython-input-12-93d191f296d0>\u001b[0m in \u001b[0;36m<module>\u001b[0;34m\u001b[0m\n\u001b[0;32m----> 1\u001b[0;31m \u001b[0mprediction\u001b[0m \u001b[0;34m=\u001b[0m \u001b[0mestimator_C\u001b[0m\u001b[0;34m.\u001b[0m\u001b[0mpredict\u001b[0m\u001b[0;34m(\u001b[0m\u001b[0mtest_input\u001b[0m\u001b[0;34m.\u001b[0m\u001b[0mT\u001b[0m\u001b[0;34m)\u001b[0m\u001b[0;34m\u001b[0m\u001b[0;34m\u001b[0m\u001b[0m\n\u001b[0m",
      "\u001b[0;31mNameError\u001b[0m: name 'estimator_C' is not defined"
     ]
    }
   ],
   "source": [
    "prediction = estimator_C.predict(test_input.T)"
   ]
  },
  {
   "cell_type": "code",
   "execution_count": null,
   "metadata": {},
   "outputs": [],
   "source": []
  }
 ],
 "metadata": {
  "kernelspec": {
   "display_name": "Python 3",
   "language": "python",
   "name": "python3"
  },
  "language_info": {
   "codemirror_mode": {
    "name": "ipython",
    "version": 3
   },
   "file_extension": ".py",
   "mimetype": "text/x-python",
   "name": "python",
   "nbconvert_exporter": "python",
   "pygments_lexer": "ipython3",
   "version": "3.6.8"
  }
 },
 "nbformat": 4,
 "nbformat_minor": 2
}
