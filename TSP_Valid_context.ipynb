{
 "cells": [
  {
   "cell_type": "markdown",
   "metadata": {},
   "source": [
    "validation series 1 is created for context type"
   ]
  },
  {
   "cell_type": "code",
   "execution_count": 14,
   "metadata": {},
   "outputs": [],
   "source": [
    "import os\n",
    "import soundfile as sf\n",
    "import time\n",
    "import math\n",
    "import numpy as np\n",
    "from natsort import natsorted\n",
    "import soundfile as sf\n",
    "import librosa\n",
    "import h5py\n",
    "from sklearn import preprocessing"
   ]
  },
  {
   "cell_type": "code",
   "execution_count": 34,
   "metadata": {},
   "outputs": [],
   "source": [
    "file_series = str(1)\n",
    "addr_X_file = 'TSP/Predicted/Valid_predicted_TSP_FFT' + file_series + '.hdf5'\n",
    "# addr_y_file = 'TSP/Organized/concatenated/Valid_TSP_clean_FFTs'  + file_series + '.hdf5'"
   ]
  },
  {
   "cell_type": "code",
   "execution_count": 35,
   "metadata": {},
   "outputs": [
    {
     "name": "stdout",
     "output_type": "stream",
     "text": [
      "[    0   219   395   584   803   993  1174  1360  1550  1739  1928  2104\n",
      "  2290  2471  2687  2876  3092  3278  3497  3713  3889  4105  4295  4481\n",
      "  4657  4846  5032  5222  5441  5657  5838  6019  6195  6385  6566  6785\n",
      "  6961  7188  7405  7615  7822  8025  8201  8377  8580  8783  9006  9216\n",
      "  9446  9649  9876 10086 10262 10479 10655 10862 11072 11299 11475 11678\n",
      " 11895 12112 12331 12567 12774 12993 13221 13428 13604 13811 14028 14251\n",
      " 14461 14677 14866 15052 15233 15414 15604 15793 15983 16169 16350 16540\n",
      " 16759 16949 17168 17384 17573 17759 17945 18126 18342 18532 18713 18932\n",
      " 19113 19329 19520 19709 19928 20118 20309 20495 20684 20903 21119 21305\n",
      " 21494]\n"
     ]
    }
   ],
   "source": [
    "a = h5py.File('TSP/Organized/concatenated/valid_all_len'  + file_series + '.hdf5','r')\n",
    "all_len = a['valid_all_len'][:]\n",
    "print(all_len)\n",
    "a.close()"
   ]
  },
  {
   "cell_type": "code",
   "execution_count": 36,
   "metadata": {},
   "outputs": [
    {
     "name": "stdout",
     "output_type": "stream",
     "text": [
      "(21494, 2050)\n"
     ]
    }
   ],
   "source": [
    "X_file = h5py.File(addr_X_file,'r')\n",
    "X = X_file['Valid_predicted_TSP_FFT' + file_series][:]\n",
    "print(X.shape)"
   ]
  },
  {
   "cell_type": "markdown",
   "metadata": {},
   "source": [
    "# Functions"
   ]
  },
  {
   "cell_type": "code",
   "execution_count": 54,
   "metadata": {},
   "outputs": [],
   "source": [
    "flag = np.asarray(all_len)\n",
    "window_size = 2\n",
    "r = []\n",
    "r0 = []\n",
    "r1 = []\n",
    "half_len = X.shape[1]//2\n",
    "for I in range(len(flag)-1):\n",
    "    X = preprocessing.normalize(X, norm='l2', axis=0, copy=True)\n",
    "    \n",
    "    temp0 = X[flag[I]:flag[I+1],0:half_len]\n",
    "    temp0 = np.concatenate((temp0,np.repeat(np.reshape(temp0[-1,:],(1,temp0.shape[1])),[window_size],axis=0)), axis=0)\n",
    "    temp0 = np.concatenate((np.repeat(np.reshape(temp0[0,:],(1,temp0.shape[1])),[window_size],axis=0),temp0), axis=0)\n",
    "    \n",
    "    for i in range(0,temp0.shape[0]-2*window_size):\n",
    "        r0.append(np.ndarray.flatten(temp0[i:i+window_size*2+1,:]))\n",
    "\n",
    "\n",
    "    temp1 = X[flag[I]:flag[I+1],half_len:]\n",
    "    temp1 = np.concatenate((temp1,np.repeat(np.reshape(temp1[-1,:],(1,temp1.shape[1])),[window_size],axis=0)), axis=0)\n",
    "    temp1 = np.concatenate((np.repeat(np.reshape(temp1[0,:],(1,temp1.shape[1])),[window_size],axis=0),temp1), axis=0)\n",
    "    \n",
    "    for i in range(0,temp1.shape[0]-2*window_size):\n",
    "        r1.append(np.ndarray.flatten(temp1[i:i+window_size*2+1,:]))\n",
    "\n",
    "#     print(np.asarray(r0).shape)\n",
    "#     print(np.asarray(r1).shape)\n",
    "    r = np.concatenate((np.asarray(r0),np.asarray(r1)),axis=1)\n",
    "#     print(r.shape)\n",
    "\n"
   ]
  },
  {
   "cell_type": "code",
   "execution_count": 55,
   "metadata": {},
   "outputs": [
    {
     "data": {
      "text/plain": [
       "(21494, 2050)"
      ]
     },
     "execution_count": 55,
     "metadata": {},
     "output_type": "execute_result"
    }
   ],
   "source": [
    "X.shape"
   ]
  },
  {
   "cell_type": "code",
   "execution_count": 56,
   "metadata": {},
   "outputs": [
    {
     "data": {
      "text/plain": [
       "(21494, 10250)"
      ]
     },
     "execution_count": 56,
     "metadata": {},
     "output_type": "execute_result"
    }
   ],
   "source": [
    "np.asarray(r).shape"
   ]
  },
  {
   "cell_type": "code",
   "execution_count": 53,
   "metadata": {},
   "outputs": [],
   "source": [
    "with h5py.File('TSP/Predicted/Valid_predicted_TSP_FFT_context' + file_series + '.hdf5', 'w') as h5f:\n",
    "    h5f.create_dataset('Valid_predicted_TSP_FFT_context'  + file_series, data=r)\n",
    "    h5f.close()"
   ]
  },
  {
   "cell_type": "code",
   "execution_count": null,
   "metadata": {},
   "outputs": [],
   "source": []
  },
  {
   "cell_type": "code",
   "execution_count": null,
   "metadata": {},
   "outputs": [],
   "source": []
  }
 ],
 "metadata": {
  "kernelspec": {
   "display_name": "Python 3",
   "language": "python",
   "name": "python3"
  },
  "language_info": {
   "codemirror_mode": {
    "name": "ipython",
    "version": 3
   },
   "file_extension": ".py",
   "mimetype": "text/x-python",
   "name": "python",
   "nbconvert_exporter": "python",
   "pygments_lexer": "ipython3",
   "version": "3.6.8"
  }
 },
 "nbformat": 4,
 "nbformat_minor": 2
}
