{
 "cells": [
  {
   "cell_type": "code",
   "execution_count": null,
   "metadata": {},
   "outputs": [],
   "source": [
    "# mixing speakers"
   ]
  },
  {
   "cell_type": "code",
   "execution_count": 18,
   "metadata": {},
   "outputs": [],
   "source": [
    "import os\n",
    "import soundfile as sf\n",
    "import time\n",
    "import math\n",
    "import numpy as np\n",
    "import librosa\n",
    "from natsort import natsorted"
   ]
  },
  {
   "cell_type": "code",
   "execution_count": 45,
   "metadata": {},
   "outputs": [],
   "source": [
    "# 3 * 800 = 2400 mixed file = 120 min data\n",
    "number_of_mixed = 800 \n",
    "number_of_mixed_test = 80"
   ]
  },
  {
   "cell_type": "code",
   "execution_count": 40,
   "metadata": {},
   "outputs": [],
   "source": [
    "# Mixed FF\n",
    "female_files = natsorted(np.squeeze([x[2] for x in os.walk('TIMIT/Organized/Female')]))\n",
    "while(True):\n",
    "    N1 = np.random.randint(0,len(female_files))\n",
    "    while(True):\n",
    "        N2 = np.random.randint(0,len(female_files))\n",
    "        if abs(N1 - N2) < 8 and N1//8 == N2//8:\n",
    "            pass\n",
    "        else:\n",
    "            break       \n",
    "    file1, samplerate = sf.read('TIMIT/Organized/Female/' + female_files[N1])\n",
    "    file2, samplerate = sf.read('TIMIT/Organized/Female/' + female_files[N2])\n",
    "    if len(file1) > len(file2):\n",
    "        mixed = file2 + file1[0:len(file2)]\n",
    "    else:\n",
    "        mixed = file1 + file2[0:len(file1)]\n",
    "\n",
    "    sf.write('TIMIT/Organized//Mixed_FF/' +\n",
    "             female_files[N1].strip('.WAV') + '_' + female_files[N2].strip('.WAV') + '.WAV',\n",
    "             mixed, samplerate)\n",
    "#     break if number of desired files is satisfied\n",
    "    try:\n",
    "        if len(np.squeeze([x[2] for x in os.walk('TIMIT/Organized/Mixed_FF')])) == number_of_mixed:\n",
    "            break\n",
    "    except Exception:\n",
    "        pass\n",
    "    "
   ]
  },
  {
   "cell_type": "code",
   "execution_count": 42,
   "metadata": {},
   "outputs": [],
   "source": [
    "# Mixed MM\n",
    "male_files = natsorted(np.squeeze([x[2] for x in os.walk('TIMIT/Organized/Male')]))\n",
    "# for i in range(number_of_mixed):\n",
    "while(True):\n",
    "    N1 = np.random.randint(0,len(male_files))\n",
    "    while(True):\n",
    "        N2 = np.random.randint(0,len(male_files))\n",
    "        if abs(N1 - N2) < 8 and N1//8 == N2//8:\n",
    "            pass\n",
    "        else:\n",
    "            break  \n",
    "    file1, samplerate = sf.read('TIMIT/Organized/Male/' + male_files[N1])\n",
    "    file2, samplerate = sf.read('TIMIT/Organized/Male/' + male_files[N2])\n",
    "    if len(file1) > len(file2):\n",
    "        mixed = file2 + file1[0:len(file2)]\n",
    "    else:\n",
    "        mixed = file1 + file2[0:len(file1)]\n",
    "\n",
    "    sf.write('TIMIT/Organized/Mixed_MM/' +\n",
    "             male_files[N1].strip('.WAV') + '_' + male_files[N2].strip('.WAV') + '.WAV',\n",
    "             mixed, samplerate)\n",
    "#     break if number of desired files is satisfied\n",
    "    try:\n",
    "        if len(np.squeeze([x[2] for x in os.walk('TIMIT/Organized/Mixed_MM')])) == number_of_mixed:\n",
    "            break\n",
    "    except Exception:\n",
    "        pass\n",
    "        "
   ]
  },
  {
   "cell_type": "code",
   "execution_count": 43,
   "metadata": {},
   "outputs": [],
   "source": [
    "# Mixed FM\n",
    "male_files = natsorted(np.squeeze([x[2] for x in os.walk('TIMIT/Organized/Male')]))\n",
    "female_files = natsorted(np.squeeze([x[2] for x in os.walk('TIMIT/Organized/Female')]))\n",
    "while(True):\n",
    "    N1 = np.random.randint(0,len(male_files))\n",
    "    N2 = np.random.randint(0,len(female_files))\n",
    "    file1, samplerate = sf.read('TIMIT/Organized/Male/' + male_files[N1])\n",
    "    file2, samplerate = sf.read('TIMIT/Organized/Female/' + female_files[N2])\n",
    "    if len(file1) > len(file2):\n",
    "        mixed = file2 + file1[0:len(file2)]\n",
    "    else:\n",
    "        mixed = file1 + file2[0:len(file1)]\n",
    "\n",
    "\n",
    "    sf.write('TIMIT/Organized/Mixed_FM/' +\n",
    "             male_files[N1].strip('.WAV') + '_' + female_files[N2].strip('.WAV') + '.WAV', mixed, samplerate)\n",
    "    \n",
    "#     break if number of desired files is satisfied\n",
    "    try:\n",
    "        if len(np.squeeze([x[2] for x in os.walk('TIMIT/Organized/Mixed_FM')])) == number_of_mixed:\n",
    "            break\n",
    "    except Exception:\n",
    "        pass\n",
    "        "
   ]
  },
  {
   "cell_type": "code",
   "execution_count": 4,
   "metadata": {},
   "outputs": [
    {
     "data": {
      "text/plain": [
       "1"
      ]
     },
     "execution_count": 4,
     "metadata": {},
     "output_type": "execute_result"
    }
   ],
   "source": [
    "# ******************************** TEST ***********************************"
   ]
  },
  {
   "cell_type": "code",
   "execution_count": 46,
   "metadata": {},
   "outputs": [],
   "source": [
    "# Mixed FF\n",
    "female_files = natsorted(np.squeeze([x[2] for x in os.walk('TIMIT/Organized/Female_test')]))\n",
    "while(True):\n",
    "    N1 = np.random.randint(0,len(female_files))\n",
    "    while(True):\n",
    "        N2 = np.random.randint(0,len(female_files))\n",
    "        if abs(N1 - N2) < 2 and N1//2 == N2//2:\n",
    "            pass\n",
    "        else:\n",
    "            break \n",
    "    file1, samplerate = sf.read('TIMIT/Organized/Female_test/' + female_files[N1])\n",
    "    file2, samplerate = sf.read('TIMIT/Organized/Female_test/' + female_files[N2])\n",
    "    if len(file1) > len(file2):\n",
    "        mixed = file2 + file1[0:len(file2)]\n",
    "    else:\n",
    "        mixed = file1 + file2[0:len(file1)]\n",
    "\n",
    "    sf.write('TIMIT/Organized/Mixed_FF_test/' +\n",
    "             female_files[N1].strip('.WAV') + '_' + female_files[N2].strip('.WAV') + '.WAV',\n",
    "             mixed, samplerate)\n",
    "#     break if number of desired files is satisfied\n",
    "    try:\n",
    "        if len(np.squeeze([x[2] for x in os.walk('TIMIT/Organized/Mixed_FF_test')])) == number_of_mixed_test:\n",
    "            break\n",
    "    except Exception:\n",
    "        pass"
   ]
  },
  {
   "cell_type": "code",
   "execution_count": 48,
   "metadata": {},
   "outputs": [],
   "source": [
    "# Mixed MM\n",
    "male_files = natsorted(np.squeeze([x[2] for x in os.walk('TIMIT/Organized/Male_test')]))\n",
    "while(True):\n",
    "    N1 = np.random.randint(0,len(male_files))\n",
    "    while(True):\n",
    "        N2 = np.random.randint(0,len(male_files))\n",
    "        if abs(N1 - N2) < 2 and N1//2 == N2//2:\n",
    "            pass\n",
    "        else:\n",
    "            break \n",
    "    file1, samplerate = sf.read('TIMIT/Organized/Male_test/' + male_files[N1])\n",
    "    file2, samplerate = sf.read('TIMIT/Organized/Male_test/' + male_files[N2])\n",
    "    if len(file1) > len(file2):\n",
    "        mixed = file2 + file1[0:len(file2)]\n",
    "    else:\n",
    "        mixed = file1 + file2[0:len(file1)]\n",
    "\n",
    "    sf.write('TIMIT/Organized/Mixed_MM_test/' +\n",
    "             male_files[N1].strip('.WAV') + '_' + male_files[N2].strip('.WAV') + '.WAV',\n",
    "             mixed, samplerate)\n",
    "#     break if number of desired files is satisfied\n",
    "    try:\n",
    "        if len(np.squeeze([x[2] for x in os.walk('TIMIT/Organized/Mixed_MM_test')])) == number_of_mixed_test:\n",
    "            break\n",
    "    except Exception:\n",
    "        pass"
   ]
  },
  {
   "cell_type": "code",
   "execution_count": 49,
   "metadata": {},
   "outputs": [],
   "source": [
    "# Mixed FM\n",
    "male_files = natsorted(np.squeeze([x[2] for x in os.walk('TIMIT/Organized/Male_test')]))\n",
    "female_files = natsorted(np.squeeze([x[2] for x in os.walk('TIMIT/Organized/Female_test')]))\n",
    "while(True):\n",
    "    N1 = np.random.randint(0,len(male_files))\n",
    "    N2 = np.random.randint(0,len(female_files))\n",
    "    file1, samplerate = sf.read('TIMIT/Organized/Male_test/' + male_files[N1])\n",
    "    file2, samplerate = sf.read('TIMIT/Organized/Female_test/' + female_files[N2])\n",
    "    if len(file1) > len(file2):\n",
    "        mixed = file2 + file1[0:len(file2)]\n",
    "    else:\n",
    "        mixed = file1 + file2[0:len(file1)]\n",
    "\n",
    "\n",
    "    sf.write('TIMIT/Organized/Mixed_FM_test/' +\n",
    "             male_files[N1].strip('.WAV') + '_' + female_files[N2].strip('.WAV') + '.WAV', mixed, samplerate)\n",
    "#     break if number of desired files is satisfied\n",
    "    try:\n",
    "        if len(np.squeeze([x[2] for x in os.walk('TIMIT/Organized/Mixed_FM_test')])) == number_of_mixed_test:\n",
    "            break\n",
    "    except Exception:\n",
    "        pass"
   ]
  },
  {
   "cell_type": "code",
   "execution_count": null,
   "metadata": {},
   "outputs": [],
   "source": []
  }
 ],
 "metadata": {
  "kernelspec": {
   "display_name": "Python 3",
   "language": "python",
   "name": "python3"
  },
  "language_info": {
   "codemirror_mode": {
    "name": "ipython",
    "version": 3
   },
   "file_extension": ".py",
   "mimetype": "text/x-python",
   "name": "python",
   "nbconvert_exporter": "python",
   "pygments_lexer": "ipython3",
   "version": "3.6.8"
  }
 },
 "nbformat": 4,
 "nbformat_minor": 2
}
