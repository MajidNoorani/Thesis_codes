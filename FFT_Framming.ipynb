{
 "cells": [
  {
   "cell_type": "code",
   "execution_count": 6,
   "metadata": {},
   "outputs": [],
   "source": [
    "import os\n",
    "import soundfile as sf\n",
    "import time\n",
    "import math\n",
    "import numpy as np\n",
    "import librosa\n",
    "from natsort import natsorted\n",
    "import h5py"
   ]
  },
  {
   "cell_type": "code",
   "execution_count": 3,
   "metadata": {},
   "outputs": [],
   "source": [
    "def STFT_calc(wavefile,samplerate):\n",
    "#     N = math.floor(25 * samplerate / 1000)\n",
    "#     M = math.floor(10 * samplerate / 1000)\n",
    "    N = 2048\n",
    "    M = 512\n",
    "    frames = librosa.stft(wavefile, n_fft=2048, hop_length=M, win_length=N, window='hann', center=False)\n",
    "    return frames\n"
   ]
  },
  {
   "cell_type": "code",
   "execution_count": 4,
   "metadata": {},
   "outputs": [],
   "source": [
    "def STFT_calc1(wavefile,samplerate):\n",
    "#     N = math.floor(25 * samplerate / 1000)\n",
    "#     M = math.floor(10 * samplerate / 1000)\n",
    "    N = 2048\n",
    "    M = 512\n",
    "    frames = librosa.stft(wavefile, n_fft=2048, hop_length=M, win_length=N, window='hann', center=False)\n",
    "    data_phase=np.angle(frames)\n",
    "    return frames, data_phase\n"
   ]
  },
  {
   "cell_type": "code",
   "execution_count": 15,
   "metadata": {},
   "outputs": [],
   "source": [
    "# Female --------------------------------------------------------------------\n",
    "main_path = 'TIMIT/Organized/Female'\n",
    "files = natsorted(np.squeeze([x[2] for x in os.walk(main_path)]))\n",
    "for file in files:\n",
    "    path = main_path + '/' + file\n",
    "    wave, samplerate = sf.read(path)\n",
    "    frames = np.abs(STFT_calc(wave, samplerate))\n",
    "#     np.savetxt('TIMIT/Organized/Female_FFT/FFT_' +\n",
    "#                    np.str(file.replace('.WAV','')) + '.txt', frames,\n",
    "#                    delimiter=',')\n",
    "    with h5py.File('TIMIT/Organized/Female_FFT/FFT_' +\n",
    "                   np.str(file.replace('.WAV','')) + '.hdf5', \"w\") as f:\n",
    "        dset = f.create_dataset('FFT_' +\n",
    "                   np.str(file.replace('.WAV','')) + '.hdf5', data=frames)"
   ]
  },
  {
   "cell_type": "code",
   "execution_count": 16,
   "metadata": {},
   "outputs": [],
   "source": [
    "# Male ---------------------------------------------------------------------\n",
    "main_path = 'TIMIT/Organized/Male'\n",
    "files = natsorted(np.squeeze([x[2] for x in os.walk(main_path)]))\n",
    "for file in files:\n",
    "    path = main_path + '/' + file\n",
    "    wave, samplerate = sf.read(path)\n",
    "    frames = np.abs(STFT_calc(wave, samplerate))\n",
    "#     np.savetxt('TIMIT/Organized/Male_FFT/FFT_' +\n",
    "#                np.str(file.strip('.WAV')) + '.txt', frames,\n",
    "#                delimiter=',')\n",
    "    with h5py.File('TIMIT/Organized/Male_FFT/FFT_' +\n",
    "                   np.str(file.replace('.WAV','')) + '.hdf5', \"w\") as f:\n",
    "        dset = f.create_dataset('FFT_' +\n",
    "                   np.str(file.replace('.WAV','')) + '.hdf5', data=frames)"
   ]
  },
  {
   "cell_type": "code",
   "execution_count": 17,
   "metadata": {},
   "outputs": [],
   "source": [
    "# mixed MM -----------------------------------------------------------------\n",
    "main_path = 'TIMIT/Organized/Mixed_MM'\n",
    "files = natsorted(np.squeeze([x[2] for x in os.walk(main_path)]))\n",
    "for file in files:\n",
    "    path = main_path + '/' + file\n",
    "    wave, samplerate = sf.read(path)\n",
    "    frames = np.abs(STFT_calc(wave, samplerate))\n",
    "#     np.savetxt('TIMIT/Organized/Mixed_MM_FFT/FFT_' +\n",
    "#                np.str(file.strip('.WAV')) + '.txt', frames,\n",
    "#                delimiter=',')\n",
    "    with h5py.File('TIMIT/Organized/Mixed_MM_FFT/FFT_' +\n",
    "                   np.str(file.replace('.WAV','')) + '.hdf5', \"w\") as f:\n",
    "        dset = f.create_dataset('FFT_' +\n",
    "                   np.str(file.replace('.WAV','')) + '.hdf5', data=frames)"
   ]
  },
  {
   "cell_type": "code",
   "execution_count": 18,
   "metadata": {},
   "outputs": [],
   "source": [
    "# mixed FF -----------------------------------------------------------------\n",
    "main_path = 'TIMIT/Organized/Mixed_FF'\n",
    "files = natsorted(np.squeeze([x[2] for x in os.walk(main_path)]))\n",
    "for file in files:\n",
    "    path = main_path + '/' + file\n",
    "    wave, samplerate = sf.read(path)\n",
    "    frames = np.abs(STFT_calc(wave, samplerate))\n",
    "#     np.savetxt('TIMIT/Organized/Mixed_FF_FFT/FFT_' +\n",
    "#                np.str(file.strip('.WAV')) + '.txt', frames,\n",
    "#                delimiter=',')\n",
    "    with h5py.File('TIMIT/Organized/Mixed_FF_FFT/FFT_' +\n",
    "                   np.str(file.replace('.WAV','')) + '.hdf5', \"w\") as f:\n",
    "        dset = f.create_dataset('FFT_' +\n",
    "                   np.str(file.replace('.WAV','')) + '.hdf5', data=frames)"
   ]
  },
  {
   "cell_type": "code",
   "execution_count": 19,
   "metadata": {},
   "outputs": [],
   "source": [
    "# mixed FM -----------------------------------------------------------------\n",
    "main_path = 'TIMIT/Organized/Mixed_FM'\n",
    "files = natsorted(np.squeeze([x[2] for x in os.walk(main_path)]))\n",
    "for file in files:\n",
    "    path = main_path + '/' + file\n",
    "    wave, samplerate = sf.read(path)\n",
    "    frames = np.abs(STFT_calc(wave, samplerate))\n",
    "#     np.savetxt('TIMIT/Organized/Mixed_FM_FFT/FFT_' +\n",
    "#                np.str(file.strip('.WAV')) + '.txt', frames,\n",
    "#                delimiter=',')\n",
    "    with h5py.File('TIMIT/Organized/Mixed_FM_FFT/FFT_' +\n",
    "                   np.str(file.replace('.WAV','')) + '.hdf5', \"w\") as f:\n",
    "        dset = f.create_dataset('FFT_' +\n",
    "                   np.str(file.replace('.WAV','')) + '.hdf5', data=frames)"
   ]
  },
  {
   "cell_type": "code",
   "execution_count": null,
   "metadata": {},
   "outputs": [],
   "source": [
    "# *************************************** TEST ***************************************"
   ]
  },
  {
   "cell_type": "code",
   "execution_count": 9,
   "metadata": {},
   "outputs": [],
   "source": [
    "# Female_test --------------------------------------------------------------------\n",
    "main_path = 'TIMIT/Organized/Female_test'\n",
    "files = natsorted(np.squeeze([x[2] for x in os.walk(main_path)]))\n",
    "for file in files:\n",
    "    path = main_path + '/' + file\n",
    "    wave, samplerate = sf.read(path)\n",
    "    frames = np.abs(STFT_calc(wave, samplerate))\n",
    "#     np.savetxt('TIMIT/Organized/Female_FFT_test/FFT_' +\n",
    "#                    np.str(file.replace('.WAV','')) + '.txt', frames,\n",
    "#                    delimiter=',')\n",
    "    with h5py.File('TIMIT/Organized/Female_FFT_test/FFT_' +\n",
    "                   np.str(file.replace('.WAV','')) + '.hdf5', \"w\") as f:\n",
    "        dset = f.create_dataset('FFT_' +\n",
    "                   np.str(file.replace('.WAV','')) + '.hdf5', data=frames)"
   ]
  },
  {
   "cell_type": "code",
   "execution_count": 11,
   "metadata": {},
   "outputs": [],
   "source": [
    "# Male_test ---------------------------------------------------------------------\n",
    "main_path = 'TIMIT/Organized/Male_test'\n",
    "files = natsorted(np.squeeze([x[2] for x in os.walk(main_path)]))\n",
    "for file in files:\n",
    "    path = main_path + '/' + file\n",
    "    wave, samplerate = sf.read(path)\n",
    "    frames = np.abs(STFT_calc(wave, samplerate))\n",
    "#     np.savetxt('TIMIT/Organized/Male_FFT_test/FFT_' +\n",
    "#                np.str(file.strip('.WAV')) + '.txt', frames,\n",
    "#                delimiter=',')\n",
    "    with h5py.File('TIMIT/Organized/Male_FFT_test/FFT_' +\n",
    "                   np.str(file.replace('.WAV','')) + '.hdf5', \"w\") as f:\n",
    "        dset = f.create_dataset('FFT_' +\n",
    "                   np.str(file.replace('.WAV','')) + '.hdf5', data=frames)"
   ]
  },
  {
   "cell_type": "code",
   "execution_count": 12,
   "metadata": {},
   "outputs": [],
   "source": [
    "# mixed MM_test -----------------------------------------------------------------\n",
    "main_path = 'TIMIT/Organized/Mixed_MM_test'\n",
    "files = natsorted(np.squeeze([x[2] for x in os.walk(main_path)]))\n",
    "for file in files:\n",
    "    path = main_path + '/' + file\n",
    "    wave, samplerate = sf.read(path)\n",
    "    frames = np.abs(STFT_calc(wave, samplerate))\n",
    "#     np.savetxt('TIMIT/Organized/Mixed_MM_FFT_test/FFT_' +\n",
    "#                np.str(file.strip('.WAV')) + '.txt', frames,\n",
    "#                delimiter=',')\n",
    "    with h5py.File('TIMIT/Organized/Mixed_MM_FFT_test/FFT_' +\n",
    "                   np.str(file.replace('.WAV','')) + '.hdf5', \"w\") as f:\n",
    "        dset = f.create_dataset('FFT_' +\n",
    "                   np.str(file.replace('.WAV','')) + '.hdf5', data=frames)"
   ]
  },
  {
   "cell_type": "code",
   "execution_count": 13,
   "metadata": {},
   "outputs": [],
   "source": [
    "# mixed FF_test -----------------------------------------------------------------\n",
    "main_path = 'TIMIT/Organized/Mixed_FF_test'\n",
    "files = natsorted(np.squeeze([x[2] for x in os.walk(main_path)]))\n",
    "for file in files:\n",
    "    path = main_path + '/' + file\n",
    "    wave, samplerate = sf.read(path)\n",
    "    frames = np.abs(STFT_calc(wave, samplerate))\n",
    "#     np.savetxt('TIMIT/Organized/Mixed_FF_FFT_test/FFT_' +\n",
    "#                np.str(file.strip('.WAV')) + '.txt', frames,\n",
    "#                delimiter=',')\n",
    "    with h5py.File('TIMIT/Organized/Mixed_FF_FFT_test/FFT_' +\n",
    "                   np.str(file.replace('.WAV','')) + '.hdf5', \"w\") as f:\n",
    "        dset = f.create_dataset('FFT_' +\n",
    "                   np.str(file.replace('.WAV','')) + '.hdf5', data=frames)"
   ]
  },
  {
   "cell_type": "code",
   "execution_count": 14,
   "metadata": {},
   "outputs": [],
   "source": [
    "# mixed FM_test -----------------------------------------------------------------\n",
    "main_path = 'TIMIT/Organized/Mixed_FM_test'\n",
    "files = natsorted(np.squeeze([x[2] for x in os.walk(main_path)]))\n",
    "for file in files:\n",
    "    path = main_path + '/' + file\n",
    "    wave, samplerate = sf.read(path)\n",
    "    frames = np.abs(STFT_calc(wave, samplerate))\n",
    "#     np.savetxt('TIMIT/Organized/Mixed_FM_FFT_test/FFT_' +\n",
    "#                np.str(file.strip('.WAV')) + '.txt', frames,\n",
    "#                delimiter=',')\n",
    "    with h5py.File('TIMIT/Organized/Mixed_FM_FFT_test/FFT_' +\n",
    "                   np.str(file.replace('.WAV','')) + '.hdf5', \"w\") as f:\n",
    "        dset = f.create_dataset('FFT_' +\n",
    "                   np.str(file.replace('.WAV','')) + '.hdf5', data=frames)"
   ]
  },
  {
   "cell_type": "code",
   "execution_count": null,
   "metadata": {},
   "outputs": [],
   "source": []
  }
 ],
 "metadata": {
  "kernelspec": {
   "display_name": "Python 3",
   "language": "python",
   "name": "python3"
  },
  "language_info": {
   "codemirror_mode": {
    "name": "ipython",
    "version": 3
   },
   "file_extension": ".py",
   "mimetype": "text/x-python",
   "name": "python",
   "nbconvert_exporter": "python",
   "pygments_lexer": "ipython3",
   "version": "3.6.8"
  }
 },
 "nbformat": 4,
 "nbformat_minor": 2
}
