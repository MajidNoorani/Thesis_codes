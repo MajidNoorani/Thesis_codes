{
 "cells": [
  {
   "cell_type": "code",
   "execution_count": 1,
   "metadata": {},
   "outputs": [],
   "source": [
    "from natsort import natsorted\n",
    "import os\n",
    "import numpy as np\n",
    "import pickle"
   ]
  },
  {
   "cell_type": "code",
   "execution_count": 3,
   "metadata": {},
   "outputs": [],
   "source": [
    "mixed_FF_path = '/home/majid/Codes/Thesis/TIMIT/Organized/Mixed_FF_FFT'\n",
    "mixed_FF_files = natsorted(np.squeeze([x[2] for x in os.walk(mixed_FF_path)]))\n",
    "\n",
    "mixed_MM_path = '/home/majid/Codes/Thesis/TIMIT/Organized/Mixed_MM_FFT'\n",
    "mixed_MM_files = natsorted(np.squeeze([x[2] for x in os.walk(mixed_MM_path)]))\n",
    "\n",
    "mixed_FM_path = '/home/majid/Codes/Thesis/TIMIT/Organized/Mixed_FM_FFT'\n",
    "mixed_FM_files = natsorted(np.squeeze([x[2] for x in os.walk(mixed_FM_path)]))\n",
    "\n",
    "male_path = '/home/majid/Codes/Thesis/TIMIT/Organized/Male_FFT'\n",
    "male_files = natsorted(np.squeeze([x[2] for x in os.walk(male_path)]))\n",
    "\n",
    "female_path = '/home/majid/Codes/Thesis/TIMIT/Organized/Female_FFT'\n",
    "female_files = natsorted(np.squeeze([x[2] for x in os.walk(female_path)]))"
   ]
  },
  {
   "cell_type": "code",
   "execution_count": 9,
   "metadata": {},
   "outputs": [],
   "source": [
    "def extractstring(String,flag='_'):\n",
    "    if flag in String: # _ is the flag\n",
    "        dex1=String.index(flag)\n",
    "        substring=String[dex1+1:-1] #leave out flag (+1) to end of line\n",
    "        dex2=substring.index(flag)\n",
    "        name0=substring[0:dex2].strip() #does not include last flag, strip whitespace\n",
    "        name1=substring[dex2+1:-3].strip()\n",
    "    return(name0, name1)"
   ]
  },
  {
   "cell_type": "code",
   "execution_count": 48,
   "metadata": {},
   "outputs": [
    {
     "name": "stdout",
     "output_type": "stream",
     "text": [
      "(1025, 116351)\n",
      "(1025, 119115)\n",
      "(1025, 120729)\n",
      "(1025, 116935)\n"
     ]
    }
   ],
   "source": [
    "# In this section, a file containing mixed signals of 3 type FF,FM,MM are generated. \n",
    "# each file has 1500 mixed signal (500 of each type)\n",
    "i = 0\n",
    "for con in range(0,len(mixed_FF_files),500):\n",
    "    mixed = np.loadtxt(mixed_FF_path + '/' + mixed_FF_files[0+con],delimiter=',')\n",
    "    for file in mixed_FF_files[1+con:500+con]:\n",
    "        path = mixed_FF_path + '/' + file\n",
    "        temp = np.loadtxt(mixed_FF_path + '/' + file,delimiter=',')\n",
    "        mixed = np.concatenate((mixed, temp), axis=1)\n",
    "        print(file)\n",
    "    for file in mixed_MM_files[0+con:500+con]:\n",
    "        path = mixed_MM_path + '/' + file\n",
    "        temp = np.loadtxt(mixed_MM_path + '/' + file,delimiter=',')\n",
    "        mixed = np.concatenate((mixed, temp), axis=1)\n",
    "        print(file)\n",
    "    for file in mixed_FM_files[0+con:500+con]:\n",
    "        path = mixed_FM_path + '/' + file\n",
    "        temp = np.loadtxt(mixed_FM_path + '/' + file,delimiter=',')\n",
    "        mixed = np.concatenate((mixed, temp), axis=1)\n",
    "        print(file)\n",
    "    print(mixed.shape)\n",
    "    pickle.dump( mixed, open( \"/home/majid/Codes/Thesis/TIMIT/Organized/concatenated/Mixed\"+str(i)+\".p\", \"wb\" ))\n",
    "    i = i +1"
   ]
  },
  {
   "cell_type": "code",
   "execution_count": 41,
   "metadata": {},
   "outputs": [
    {
     "name": "stdout",
     "output_type": "stream",
     "text": [
      "(2050, 116351)\n",
      "(2050, 119115)\n",
      "(2050, 120729)\n",
      "(2050, 116935)\n"
     ]
    }
   ],
   "source": [
    "# clean data concatenation in the order of mixed concatenated data but in shape of (2050,...)\n",
    "# which is 2 times of mixed data shape[0]\n",
    "i = 0\n",
    "for con in range(0,len(mixed_FF_files),500):\n",
    "    speaker0_name, speaker1_name = extractstring(mixed_FF_files[0+con],flag='_') #just the index\n",
    "    speaker0 = np.loadtxt(female_path + '/' + 'FFT_' + speaker0_name + '.txt',delimiter=',')\n",
    "    speaker1 = np.loadtxt(female_path + '/' + 'FFT_' + speaker1_name + '.txt',delimiter=',')\n",
    "    if speaker0.shape[1]<speaker1.shape[1]:\n",
    "        temp = np.delete(speaker1, np.s_[speaker0.shape[1]:], axis=1)  \n",
    "        clean = np.concatenate((speaker0, temp), axis=0)\n",
    "    else:\n",
    "        temp = np.delete(speaker0, np.s_[speaker1.shape[1]:], axis=1)\n",
    "        clean = np.concatenate((temp, speaker1), axis=0)\n",
    "\n",
    "    for file in mixed_FF_files[1+con:500+con]:\n",
    "        speaker0_name, speaker1_name = extractstring(file,flag='_') #just the index\n",
    "        speaker0 = np.loadtxt(female_path + '/' + 'FFT_' + speaker0_name + '.txt',delimiter=',')\n",
    "        speaker1 = np.loadtxt(female_path + '/' + 'FFT_' + speaker1_name + '.txt',delimiter=',')\n",
    "        if speaker0.shape[1]<speaker1.shape[1]:\n",
    "            temp = np.delete(speaker1, np.s_[speaker0.shape[1]:], axis=1)  \n",
    "            temp1 = np.concatenate((speaker0, temp), axis=0)\n",
    "        else:\n",
    "            temp = np.delete(speaker0, np.s_[speaker1.shape[1]:], axis=1)\n",
    "            temp1 = np.concatenate((temp, speaker1), axis=0)\n",
    "        clean = np.concatenate((clean, temp1), axis=1)\n",
    "\n",
    "    for file in mixed_MM_files[0+con:500+con]:\n",
    "        speaker0_name, speaker1_name = extractstring(file,flag='_') #just the index\n",
    "        speaker0 = np.loadtxt(male_path + '/' + 'FFT_' + speaker0_name + '.txt',delimiter=',')\n",
    "        speaker1 = np.loadtxt(male_path + '/' + 'FFT_' + speaker1_name + '.txt',delimiter=',')\n",
    "        if speaker0.shape[1]<speaker1.shape[1]:\n",
    "            temp = np.delete(speaker1, np.s_[speaker0.shape[1]:], axis=1)  \n",
    "            temp1 = np.concatenate((speaker0, temp), axis=0)\n",
    "        else:\n",
    "            temp = np.delete(speaker0, np.s_[speaker1.shape[1]:], axis=1)\n",
    "            temp1 = np.concatenate((temp, speaker1), axis=0)\n",
    "        clean = np.concatenate((clean, temp1), axis=1)\n",
    "\n",
    "    for file in mixed_FM_files[0+con:500+con]:\n",
    "        speaker0_name, speaker1_name = extractstring(file,flag='_') #just the index\n",
    "        speaker0 = np.loadtxt(male_path + '/' + 'FFT_' + speaker0_name + '.txt',delimiter=',')\n",
    "        speaker1 = np.loadtxt(female_path + '/' + 'FFT_' + speaker1_name + '.txt',delimiter=',')\n",
    "        if speaker0.shape[1]<speaker1.shape[1]:\n",
    "            temp = np.delete(speaker1, np.s_[speaker0.shape[1]:], axis=1)  \n",
    "            temp1 = np.concatenate((speaker0, temp), axis=0)\n",
    "        else:\n",
    "            temp = np.delete(speaker0, np.s_[speaker1.shape[1]:], axis=1)\n",
    "            temp1 = np.concatenate((temp, speaker1), axis=0)\n",
    "        clean = np.concatenate((clean, temp1), axis=1)\n",
    "    pickle.dump( clean, open( \"/home/majid/Codes/Thesis/TIMIT/Organized/concatenated/clean\"+str(i)+\".p\", \"wb\" ))\n",
    "    i = i +1\n",
    "    print(clean.shape)\n"
   ]
  },
  {
   "cell_type": "code",
   "execution_count": 6,
   "metadata": {},
   "outputs": [],
   "source": [
    "# alternative for saving\n",
    "# import h5py\n",
    "# with h5py.File('/home/majid/Codes/Thesis/TIMIT/Organized/concatenated/test.h5py', 'w') as hf:\n",
    "#     hf.create_dataset(\"name-of-dataset\",  data=loaded)"
   ]
  }
 ],
 "metadata": {
  "kernelspec": {
   "display_name": "Python 3",
   "language": "python",
   "name": "python3"
  },
  "language_info": {
   "codemirror_mode": {
    "name": "ipython",
    "version": 3
   },
   "file_extension": ".py",
   "mimetype": "text/x-python",
   "name": "python",
   "nbconvert_exporter": "python",
   "pygments_lexer": "ipython3",
   "version": "3.6.8"
  }
 },
 "nbformat": 4,
 "nbformat_minor": 2
}
