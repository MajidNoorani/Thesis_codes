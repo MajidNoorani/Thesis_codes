{
 "cells": [
  {
   "cell_type": "code",
   "execution_count": null,
   "metadata": {},
   "outputs": [],
   "source": [
    "#  In this code we read all training files and split them into two categories\n",
    "#  Females and Males\n",
    "#  Then we sav them in specified folders in continues enumerating"
   ]
  },
  {
   "cell_type": "code",
   "execution_count": 1,
   "metadata": {},
   "outputs": [],
   "source": [
    "import os\n",
    "import soundfile as sf\n",
    "import time\n",
    "import math\n",
    "import numpy as np\n",
    "import librosa"
   ]
  },
  {
   "cell_type": "code",
   "execution_count": 23,
   "metadata": {},
   "outputs": [],
   "source": [
    "path0 = [x[0] for x in os.walk('TIMIT/TRAIN')]\n",
    "path1 = [x[1] for x in os.walk('TIMIT/TRAIN')]\n",
    "files = [x[2] for x in os.walk('TIMIT/TRAIN')]"
   ]
  },
  {
   "cell_type": "code",
   "execution_count": 24,
   "metadata": {},
   "outputs": [],
   "source": [
    "# -----------------------------------------------------extracting the paths\n",
    "male_paths = []\n",
    "female_paths = []\n",
    "# folders : [DR1, DR2, ...] , [FCJF0, FDAWO, ...]\n",
    "for person in path0:\n",
    "    if '/F' in person:\n",
    "        female_sentences = [x[2] for x in os.walk(person)]\n",
    "        for sentence in np.squeeze(female_sentences):\n",
    "            if '.WAV' in sentence:\n",
    "                female_paths.append(person + '/' + sentence)\n",
    "    if '/M' in person:\n",
    "        male_sentences = [x[2] for x in os.walk(person)]\n",
    "        for sentence in np.squeeze(male_sentences):\n",
    "            if '.WAV' in sentence:\n",
    "                male_paths.append(person + '/' + sentence)"
   ]
  },
  {
   "cell_type": "code",
   "execution_count": null,
   "metadata": {},
   "outputs": [],
   "source": [
    "# -----------------------------------------------------reading and saving\n",
    "# ------------------------------------Female\n",
    "i = 0\n",
    "for path in female_paths:\n",
    "    data, samplerate = sf.read(path)\n",
    "    sf.write('TIMIT/Organized/Female/' +'F' + str(i) + '.WAV', data, samplerate)\n",
    "    i += 1"
   ]
  },
  {
   "cell_type": "code",
   "execution_count": 26,
   "metadata": {},
   "outputs": [],
   "source": [
    "# -----------------------------------------------------reading and saving\n",
    "#-------------------------------------Male\n",
    "i = 0\n",
    "for path in male_paths:\n",
    "    data, samplerate = sf.read(path)\n",
    "    sf.write('TIMIT/Organized/Male/' + 'M' + str(i) + '.WAV', data, samplerate)\n",
    "    i += 1"
   ]
  },
  {
   "cell_type": "code",
   "execution_count": null,
   "metadata": {},
   "outputs": [],
   "source": [
    "# *************************************** TEST ****************************************"
   ]
  },
  {
   "cell_type": "code",
   "execution_count": 16,
   "metadata": {},
   "outputs": [],
   "source": [
    "path0 = [x[0] for x in os.walk('TIMIT/TEST')]\n",
    "path1 = [x[1] for x in os.walk('TIMIT/TEST')]\n",
    "files = [x[2] for x in os.walk('TIMIT/TEST')]"
   ]
  },
  {
   "cell_type": "code",
   "execution_count": 18,
   "metadata": {},
   "outputs": [],
   "source": [
    "# -----------------------------------------------------extracting the paths\n",
    "male_paths = []\n",
    "female_paths = []\n",
    "# folders : [DR1, DR2, ...] , [FCJF0, FDAWO, ...]\n",
    "for person in path0:\n",
    "    if '/F' in person:\n",
    "        female_sentences = [x[2] for x in os.walk(person)]\n",
    "        for sentence in np.squeeze(female_sentences):\n",
    "            if '.WAV' in sentence:\n",
    "                female_paths.append(person + '/' + sentence)\n",
    "    if '/M' in person:\n",
    "        male_sentences = [x[2] for x in os.walk(person)]\n",
    "        for sentence in np.squeeze(male_sentences):\n",
    "            if '.WAV' in sentence:\n",
    "                male_paths.append(person + '/' + sentence)"
   ]
  },
  {
   "cell_type": "code",
   "execution_count": 20,
   "metadata": {},
   "outputs": [],
   "source": [
    "# -----------------------------------------------------reading and saving\n",
    "# ------------------------------------Female\n",
    "i = 0\n",
    "for path in female_paths:\n",
    "    data, samplerate = sf.read(path)\n",
    "    sf.write('TIMIT/Organized/Female_test/' +'F' + str(i) + '.WAV', data, samplerate)\n",
    "    i += 1"
   ]
  },
  {
   "cell_type": "code",
   "execution_count": 22,
   "metadata": {},
   "outputs": [],
   "source": [
    "# -----------------------------------------------------reading and saving\n",
    "#-------------------------------------Male\n",
    "i = 0\n",
    "for path in male_paths:\n",
    "    data, samplerate = sf.read(path)\n",
    "    sf.write('TIMIT/Organized/Male_test/' + 'M' + str(i) + '.WAV', data, samplerate)\n",
    "    i += 1"
   ]
  },
  {
   "cell_type": "code",
   "execution_count": null,
   "metadata": {},
   "outputs": [],
   "source": []
  }
 ],
 "metadata": {
  "kernelspec": {
   "display_name": "Python 3",
   "language": "python",
   "name": "python3"
  },
  "language_info": {
   "codemirror_mode": {
    "name": "ipython",
    "version": 3
   },
   "file_extension": ".py",
   "mimetype": "text/x-python",
   "name": "python",
   "nbconvert_exporter": "python",
   "pygments_lexer": "ipython3",
   "version": "3.6.8"
  }
 },
 "nbformat": 4,
 "nbformat_minor": 2
}
